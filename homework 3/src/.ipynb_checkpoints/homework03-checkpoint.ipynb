{
 "cells": [
  {
   "cell_type": "markdown",
   "metadata": {},
   "source": [
    "##### Homework 03"
   ]
  },
  {
   "cell_type": "markdown",
   "metadata": {},
   "source": [
    "\n",
    "## Part 1 - Questions\n",
    "\n",
    "### Question 1: \n",
    "\n",
    "TODO (write the question)\n",
    "\n",
    "* Who (population): TODO\n",
    "* What (subject, discipline): TODO\n",
    "* Where (location): TODO\n",
    "* When (snapshot, longitudinal): TODO\n",
    "* How much data do you need to do the analysis/work: TODO\n",
    "\n",
    "### Question N: \n",
    "\n",
    "TODO (write the question)\n",
    "\n",
    "* Who (population): TODO\n",
    "* What (subject, discipline): TODO\n",
    "* Where (location): TODO\n",
    "* When (snapshot, longitudinal): TODO\n",
    "* How much data do you need to do the analysis/work: TODO\n",
    "\n",
    "### Who Might Collect Relevant Data / What Articles or Publications Cite a Relevant Data Set?\n",
    "\n",
    "TODO (answer question here)"
   ]
  },
  {
   "cell_type": "markdown",
   "metadata": {},
   "source": [
    "## Part 2 - Selecting a Data Set, Adding Documentation\n",
    "\n",
    "\n",
    "\n",
    "1. Name / Title: Wastebase_scan-summary\n",
    "2. Link to Data: https://www.kaggle.com/wastebase/plastic-bottle-waste\n",
    "3. Source / Origin: \n",
    "\t* Author or Creator: Wastebase.org\n",
    "\t* Publication Date: Updated on 02/09/2022\n",
    "\t* Publisher: Wastebase.org\n",
    "\t* Version or Data Accessed: Version 13\n",
    "4. License: Attribution-NonCommercial 4.0 International (CC BY-NC 4.0)\n",
    "5. Can You Use this Data Set for Your Intended Use Case? Yes, I fisrt choose the data set themI came up the questions, as the professor has suggested that it could be done. "
   ]
  },
  {
   "cell_type": "markdown",
   "metadata": {},
   "source": [
    "## Format\n",
    "\n"
   ]
  },
  {
   "cell_type": "markdown",
   "metadata": {},
   "source": [
    "\n",
    "### Overview\n",
    "\n",
    "* Format: A csv file\n",
    "* Size: 1.01MB\n",
    "* Number of Records: 2979\n",
    "\n"
   ]
  },
  {
   "cell_type": "markdown",
   "metadata": {},
   "source": [
    "### Sample of Data\n",
    "\n",
    "\n"
   ]
  },
  {
   "cell_type": "code",
   "execution_count": 87,
   "metadata": {},
   "outputs": [
    {
     "name": "stdout",
     "output_type": "stream",
     "text": [
      "﻿product_barcode  product_label  product_size  brand_name  manufacturer_country  manufacturer_name  scan_country  data_url  bottle_weight  bottle_count  \n",
      "\n",
      "6203018220130  Extra Berry Flavor Carbonated Soft Drink  400 ml  Mo  TZ  METL Group  TZ  https://wastebase.org/#/o/ead953e7-a526-4ced-970d-f403daaf9c7a    81  \n",
      "\n",
      "5449000098504  still drinking water  1.5 L  Dasani  US  Coca-Cola  TZ  https://wastebase.org/#/o/c3710738-2999-4396-a284-6b70bf737fe6    23  \n",
      "\n",
      "5449000131836  Diet Coke  500 ml  Coca-Cola  US  Coca-Cola  KE  https://wastebase.org/#/o/c3710738-2999-4396-a284-6b70bf737fe6    2  \n",
      "\n",
      "6164003477390  Energy Drink  300 ml  Lucozade  JP  Suntory Holdings Limited  TZ  https://wastebase.org/#/o/e072cc5d-03b1-4573-bde7-abe1bfbd668c    1  \n",
      "\n"
     ]
    }
   ],
   "source": [
    "# TODO show a few lines of data from the actual file\n",
    "\n",
    "# Use \"regular\" Python to do this in this code block\n",
    "# Assume that jupyter-lab was started in your root directory\n",
    "# with open('./data/raw/example-data.csv', 'r'): \n",
    "tuple_data = ()\n",
    "for subdir, dirs, files in os.walk(r'/Users/aragaom/homework03-aragaomateus/data/raw'):\n",
    "    for filename in files:\n",
    "        filepath = subdir + os.sep + filename\n",
    "        if filepath.endswith(\".csv\"):\n",
    "            with open(filepath,'r') as csv_data:\n",
    "                csv_reader = csv.reader(csv_data)\n",
    "                data = [file for file in csv_reader]\n",
    "for i in range(len(data)):\n",
    "    if i < 5:\n",
    "        for word in data[i]:\n",
    "            print(word,end='  ')\n",
    "        print('\\n')\n",
    "    else:\n",
    "        break"
   ]
  },
  {
   "cell_type": "markdown",
   "metadata": {},
   "source": [
    "\n",
    "### Fields or Column Headers\n",
    "\n",
    "* Field/Column 1: product_barcode datatype(int)\n",
    "* Field/Column 2: product_label datatype(str)\n",
    "* Field/Column 3: product_size datatype(str)\n",
    "* Field/Column 4: brand_name datatype(str)\n",
    "* Field/Column 5: manufacturer_country datatype(str)\n",
    "* Field/Column 6: manufacturer_name datatype(str)\n",
    "\n",
    "* Field/Column 7: scan_country datatype(str)\n",
    "* Field/Column 8: data_url datatype(str)\n",
    "* Field/Column 9: bottle_weight datatype(float)\n",
    "* Field/Column 10: bottle_count datatype(str)"
   ]
  },
  {
   "cell_type": "markdown",
   "metadata": {},
   "source": [
    "## Part 3 - Extract / Transform\n",
    "\n",
    "TODO describe your process for extracting, transforming, cleaning your incoming data:\n",
    "\n",
    "* what columns you'll be using (extracting) from your dataset\n",
    "* how you're planning to convert the data into analogous python types / how you'll deal with type issues (for example, you may want a column that's numeric, but the data contains a label, such as 4 months) \n",
    "* any other kind of cleaning (_normalizing_ data, filling in missing values, etc.) that you'll have to perform\n"
   ]
  },
  {
   "cell_type": "code",
   "execution_count": 89,
   "metadata": {},
   "outputs": [
    {
     "name": "stdout",
     "output_type": "stream",
     "text": [
      "2979\n",
      "({'Rehaan ice': ['KE', 11], \"Sainsbury's\": ['UK', 1], 'M&S Food': ['UK', 1], 'Solaray Dietary supplement': ['UK', 1], 'Molton Brown': ['UK', 1], 'Kirkland Signature': ['UK', 1], 'Hill Water': ['TZ', 4], 'Sparletta': ['US', 4], 'gold emblem': ['UK', 1], 'ACACIA FOOD BEVERAGES LTD': ['ZM', 2], 'Flamingo': ['ZM', 1], 'Recheio': ['MZ', 34], 'Vimto': ['GB', 150], 'Big Bottle General Dealers': ['UK', 7], 'Crystalina': ['MZ', 20], 'Matisana': ['MZ', 36], 'Faith in Nature': ['GB', 1], 'Monte Gurue': ['IN', 57], 'drinking water': ['UK', 3], 'Aber Drips': ['UK', 13], 'Vitale': ['FR', 15], 'Pure Water': ['UK', 1], 'Água da Bela Vista': ['UK', 1], 'Appolo Wine Limited': ['UK', 2], 'Mbaruk Springs': ['UK', 1], 'Karigen': ['KE', 1], 'Oceanic': ['UK', 3], 'Brook Fresh': ['IN', 35], 'Brooks': ['UK', 10], 'Pure Life': ['UK', 2], 'Madini': ['UK', 3], 'Aquafina': ['US', 16], 'Method': ['US', 1], 'Nutricom': ['UK', 31], 'Flash': ['US', 1], 'Uhai': ['TZ', 51], 'Woolworths': ['ZA', 1], 'Spar': ['ZA', 1], 'Água de Namaacha': ['MZ', 4], 'Asda': ['UK', 1], 'Aldi': ['DE', 1], 'Volvic': ['FR', 1], 'Evian': ['UK', 1], 'Desperados Original Tequila': ['NL', 38], 'NIVEA': ['DE', 1], 'Fanta': ['US', 59], 'Cool Rivers': ['UK', 1], 'Naturis': ['UK', 1], 'Pepsi': ['US', 1], '7UP': ['US', 1], 'Lipton': ['GB', 1], 'Sprite': ['US', 47], 'Bonaqua': ['US', 1], 'Fairy': ['US', 1], 'Coca-Cola': ['US', 381], 'Minute Maid': ['US', 12], 'Aleo': ['LT', 2], 'Bonlife': ['UA', 1], 'Cussons': ['GB', 1], 'Imperial Leather': ['GB', 17], 'Oasis (UK)': ['US', 1], 'Tesco': ['GB', 1], 'Co-op': ['GB', 2], 'E45': ['UK', 1], 'Emerge': ['GB', 1], 'Dr. Pepper': ['UK', 2], 'Flora': ['NL', 1], 'Barrs': ['UK', 1], 'Irn-Bru': ['GB', 2], 'Barr': ['GB', 1], 'Dove': ['GB', 1], 'Glenfiddich': ['UK', 2], 'Highland Spring': ['GB', 1], 'Schweppes': ['US', 18], 'Rowse': ['UK', 1], 'Dettol': ['GB', 1], 'Rubicon': ['UK', 1], 'shell': ['KE', 1], 'Right Guard': ['UK', 1], 'Buxton': ['GB', 1], 'Keringet': ['US', 8], 'MacB': ['GB', 1], 'Euro Shopper': ['UK', 2], 'Princes Gate': ['UK', 1], 'Radnor': ['UK', 1], 'Ice Valley': ['UK', 1], 'Bio-D': ['UK', 2], 'innocent': ['US', 4], 'Tesco Finest': ['GB', 1], 'best-one': ['UK', 1], 'Lucozade': ['JP', 2], 'Boost': ['GB', 1], 'Harrogate': ['GB', 16], 'Liz Earle': ['GB', 1], 'Power Play': ['US', 77], 'Predator Energy': ['US', 96], 'Mo': ['TZ', 1133], 'Banana Boat': ['US', 20], 'Ecover': ['UK', 1], 'Dasani': ['US', 21], 'Valpre': ['US', 2], 'Kilimanjaro': ['US', 20], 'Krest': ['US', 9], 'Novida': ['US', 1], 'Stoney': ['US', 1], 'Caramulo': ['UK', 1], 'Fula': ['PT', 8], 'Activia': ['FR', 1], 'Galp': ['PT', 1], 'Compal': ['PT', 1], 'Luso': ['UK', 1], 'Continente': ['PT', 1], 'Alcafaz': ['UK', 1], 'Fontes de La': ['UK', 1], 'Mistolin': ['PT', 1], 'ACTY': ['PT', 1], 'Montes Libombos': ['UK', 7], 'Gorilla': ['UK', 1], 'Maeva': ['MZ', 58], 'Starbucks': ['UK', 1], 'Cerebos': ['ZA', 6], 'Cadbury': ['US', 1], 'Sunlight': ['GB', 1], 'Omo': ['GB', 2], 'Vim': ['UK', 1], 'Handy Andy': ['GB', 1], 'Jik': ['GB', 1], 'Savanna': ['ZA', 45], 'Listerine': ['US', 1], 'Ceres': ['ZA', 3], 'Clover': ['ZA', 4], 'Oros': ['UK', 2], 'Energade': ['UK', 1], 'Engen': ['MY', 2], 'Satiskin': ['ZA', 2], 'Clere': ['UK', 1], 'Sunseed': ['ZA', 35], 'Tal': ['GB', 1], \"d'lite\": ['ZM', 1], 'Somol': ['UK', 11], 'Castrol': ['GB', 1], 'Excella': ['SG', 3], 'Boston': ['ZA', 1], 'Robertsons': ['GB', 1], 'Windhoek': ['NA', 15], 'Air Scents': ['ZA', 1], 'Danone': ['FR', 5], 'Junglevites': ['UK', 1], 'Kick0': ['MW', 26], 'Jive': ['ZA', 1], 'Top Brown': ['UK', 11], 'Top Sauces': ['ZA', 1], 'Rhodes Quality': ['ZA', 1], 'Kuche Kuche': ['FR', 17], 'Cape Herb & Spice': ['ZA', 1], 'Nyika': ['MW', 32], 'Lowveld Favourites': ['ZA', 4], 'Barbie': ['US', 1], 'Afia': ['KE', 2], 'Mt. Kenyan': ['UK', 16], 'Afya': ['TZ', 6], 'PEPTANG': ['KE', 12], 'Lepo': ['MZ', 10], 'Super': ['UK', 2], 'Aquaplus': ['MZ', 267], 'ZAMHA': ['ZM', 11], 'Ama Sipsip': ['ZM', 13], 'Água de Goba': ['MZ', 1], 'JAM': ['UK', 1], 'aQuellé': ['ZA', 1], 'Nutriday': ['FR', 1], 'Quencher': ['KE', 7], 'Rwenzori': ['US', 2], 'Ilara': ['KE', 1], 'Montemor': ['MZ', 69], 'Azam': ['TZ', 2], 'Malt drink': ['TZ', 14], 'Acacia Food & Beverages Ltd': ['ZM', 3], 'Super Shake': ['ZM', 9], 'Boom Sparkle Plus': ['ZM', 1], 'Bigtree': ['ZM', 13], 'Boom Force': ['ZM', 1], 'Chibwantu': ['ZM', 21], 'ManziValley': ['MZ', 21], 'Óleo Dona': ['SG', 4], 'Vumba': ['MZ', 257], 'Californian': ['ZM', 20], 'Fusion': ['ZA', 7], 'Zan Aqua': ['TZ', 1], 'Fitch and Leedes GINGER ALE': ['UK', 7], 'Fitch and leedes': ['ZA', 8], 'Fiesta': ['MZ', 7], 'Fonte Fresca': ['MZ', 87], 'Aquavita': ['ZM', 8], 'ZamSip': ['ZM', 2], 'Thumbsup': ['MW', 19], 'Mirinda': ['US', 28], 'Cape Aqua': ['UK', 1], 'Quench': ['DK', 21], 'Oasis (ZA)': ['ZA', 35], 'vitamic c': ['UK', 1], 'Bakers': ['UK', 2], 'Zamgold': ['ZW', 23], 'Oohlala': ['UK', 1], 'Bigtree Beverages LTD': ['ZM', 6], 'Fruiticana': ['ZM', 1], 'Vatra': ['ZM', 69], 'Aloha': ['ZM', 1], 'Trade Kings': ['ZM', 13], 'Brothers': ['ZM', 1], 'B&R': ['ZA', 1], 'Fairy Bottiling (Z)': ['ZM', 45], 'Aquasavana': ['US', 15], 'Confiança': ['MZ', 1], \"Dr. Strong's\": ['UK', 5], 'Fonte da Vida': ['MZ', 27], 'Fonte Pura': ['MZ', 70], 'Flo': ['UK', 12], 'Kool': ['UK', 25], 'Aquaclear': ['US', 3], 'Milk Maheu': ['ZM', 2], 'Mazi': ['MZ', 23], 'Tangy Drinks Limited': ['UK', 1], 'H2Zero': ['UK', 1], 'Refreshhh': ['UK', 1], 'Vengo': ['MZ', 97], 'Fizz': ['MZ', 1], 'Frozy': ['MZ', 1240], 'Izy': ['MZ', 98], 'Thirsti': ['ZA', 1], 'Cool Fizz': ['MW', 8], 'Cool Drop': ['MW', 37], 'Aqua Smooth': ['UK', 4], 'Kasapreko': ['GH', 1], 'Agua da Montanha': ['MZ', 1], 'KCC': ['KE', 37], 'Quest': ['KE', 12], 'Kabazi': ['KE', 1], 'Aquamist': ['KE', 4], 'Rosy': ['KE', 11], 'Five Star': ['UK', 50], 'Tropical Heat': ['KE', 1], 'Harpic': ['GB', 1], 'Simba Table Vinegar': ['TZ', 1], 'Toss': ['KE', 2], 'Tuzo': ['KE', 1], 'club': ['KE', 3], 'KOL': ['UK', 16], 'Brookside': ['KE', 8], 'Naivas': ['KE', 21], 'Elianto': ['KE', 8], 'BIO': ['KE', 16], 'Revin Zambia Limited': ['ZM', 20], 'Juicy Ginger': ['ZM', 1], 'Fresha': ['KE', 5], 'TREE TOP': ['KE', 7], 'gavi beverages': ['ZM', 42], 'Safi': ['KE', 8], 'yenbu': ['KE', 12], 'Jooz': ['UK', 1], 'Planet': ['KE', 20], 'Fields of Africa': ['KE', 15], 'Zam-Zam': ['KE', 8], 'Safari King': ['KE', 18], 'Safari': ['BE', 1], 'Wetlands Springs': ['KE', 11], 'Warda': ['KE', 5], 'Misty Cool': ['UK', 1], 'Royal Taste': ['UK', 2], 'Kisima': ['TZ', 1], 'Ribena': ['JP', 18], 'Bamba': ['UK', 15], 'Rayaan Ice': ['KE', 12], 'Bahati Dairies': ['KE', 1], 'Brava': ['KE', 21], 'Salama Ice': ['KE', 181], 'Halal ice': ['KE', 3], 'Blue Band': ['NL', 24], 'Aquadrops': ['UK', 2], 'Nasida': ['UK', 2], 'GEISHA GERM GUARD': ['KE', 12], 'Perfect White': ['CI', 1], 'Dream Cosmetics': ['CI', 11], 'VESTLINE': ['UK', 3], 'Castle Lite': ['BE', 1], \"Redd's\": ['BE', 1], 'Mountain Dew': ['US', 8], 'Dew Drop': ['TZ', 16], 'TOMATO SAUCE': ['UK', 11], 'Red Gold': ['TZ', 6], 'K-Vant': ['TZ', 6], 'U-Fresh': ['TZ', 1], 'Jembe': ['TZ', 7], 'Milk Com': ['UK', 1], 'Dabaga Vegetable & Fruits Canning': ['UK', 1], 'Sayona': ['TZ', 1], 'Sayona Twist': ['TZ', 34], 'Super Burudani': ['TZ', 127], 'Valeur': ['BE', 31], 'Uhuru Peak': ['UK', 19], 'Sundrop': ['TZ', 11], 'Double Kick': ['TZ', 232], 'Pera fresh produce of Tanzania': ['TZ', 1], 'smart gin': ['UK', 31], 'Mango Crush': ['UK', 11], \"Leader's Ananasi\": ['TZ', 602], 'Mo Portello': ['TZ', 41], 'Masafi': ['TZ', 92], 'Maisha': ['TZ', 43], 'Oryx Energies': ['MT', 30], 'Drop of Zanzibar': ['TZ', 1], 'Pawa Plus': ['TZ', 1], 'Asas Diaries': ['TZ', 1], 'Canadian Drinking Water': ['TZ', 118], 'POWER TANGAWIZI': ['UK', 4], 'Furaha': ['UK', 13], 'SeQua': ['UK', 9], 'Precious': ['UK', 46], 'Oasis': ['AE', 55], 'NINJA': ['UK', 2], 'AquaPlus': ['MZ', 2], 'Pangani': ['UK', 23], 'Master Kong': ['CN', 1], 'Limpo': ['UK', 9], 'Nutra Shine Professional': ['UK', 1], 'SOY SAUCE': ['UK', 1], 'Carrent': ['KE', 8], 'SkyDots': ['UK', 9], 'Kambucha': ['ZM', 28], 'Sierra de los Padres': ['AR', 1], 'Biowash': ['UK', 1], 'industria Quimica': ['UK', 2], 'Aqua Azul': ['UK', 20], 'Downy': ['US', 20], 'Aussie': ['US', 2], 'Halo': ['UK', 1], 'Cantu': ['US', 1], 'Amalfi': ['UK', 1], 'Mercadona': ['ES', 1], 'Therapy Levels': ['UK', 1], 'Voi': ['TR', 1], 'HOBBY': ['TR', 17], 'Papilion': ['UK', 2], 'cotanak': ['TR', 1], 'AquaVera': ['UK', 1], 'Heineken': ['NL', 12], 'Sanex': ['UK', 1], 'Kikkoman': ['UK', 1], 'Gatorade': ['UK', 1], 'Colgate': ['UK', 1], 'Mega We care': ['TH', 1], 'Parachute': ['UK', 1], 'Diana Lotion': ['UK', 1], 'Yasaki': ['AE', 54], 'Boncabe Original': ['UK', 1], 'Red Bull': ['AT', 9], 'Sobo': ['FR', 14], 'Glaciar': ['MZ', 10], 'Summer': ['UK', 1], 'Nevada': ['MZ', 81]}, {'ACTY': ['PT', 2], 'Fonte da Vida': ['MZ', 2], 'Dasani': ['US', 1], 'Pepsi': ['US', 1], 'Azam': ['TZ', 3], 'Coca-Cola': ['US', 3], 'Frozy': ['MZ', 15], 'Afya': ['TZ', 1], 'Fizz': ['MZ', 14], 'Fiesta': ['MZ', 2], 'Vitale': ['FR', 3], 'Vumba': ['MZ', 2], 'Vim': ['UK', 1], 'Sprite': ['US', 30], 'Sparletta': ['US', 1], 'Cantu': ['US', 1], 'Matisana': ['MZ', 5], 'Vimto': ['GB', 5], 'Canadian Drinking Water': ['TZ', 1], 'Sierra de los Padres': ['AR', 1], 'Fanta': ['US', 21], 'Dettol': ['GB', 1], 'Bonaqua': ['US', 32], 'Drop of Zanzibar': ['TZ', 1], 'Jik': ['GB', 1], 'Uhai': ['TZ', 1], 'Super': ['UK', 2], 'gold emblem': ['UK', 1], 'Listerine': ['US', 1], 'Nevada': ['MZ', 1], 'Pure Water': ['UK', 1], 'Cadbury': ['US', 1], 'Mistolin': ['PT', 2], 'Vengo': ['MZ', 1], 'Izy': ['MZ', 6], 'Milk Com': ['UK', 1], 'best-one': ['UK', 1], 'Junglevites': ['UK', 1], 'Sunlight': ['GB', 15], 'Irn-Bru': ['GB', 1], 'Simba Table Vinegar': ['TZ', 1], 'Fonte Pura': ['MZ', 1], 'Liz Earle': ['GB', 1], 'cotanak': ['TR', 1], 'Dream Cosmetics': ['CI', 10], 'Clover': ['ZA', 2], 'Aqua Azul': ['UK', 1], 'Summer': ['UK', 1], 'Bonlife': ['UA', 1], 'Mega We care': ['TH', 1], 'Ice Valley': ['UK', 1], 'Schweppes': ['US', 2], 'Minute Maid': ['US', 1], 'Hill Water': ['TZ', 3], 'Tesco': ['GB', 1], 'Solaray Dietary supplement': ['UK', 1], 'Água de Namaacha': ['MZ', 130], 'Crystalina': ['MZ', 6], 'Sayona': ['TZ', 1], 'Ceres': ['ZA', 1], 'Oasis': ['AE', 1], 'Sundrop': ['TZ', 1], 'Gatorade': ['UK', 1], 'Nutriday': ['FR', 1], 'Tal': ['GB', 1], 'Lucozade': ['JP', 3], 'Malt drink': ['TZ', 1], 'Flamingo': ['ZM', 1], 'Krest': ['US', 1], 'Fonte Fresca': ['MZ', 45], 'Recheio': ['MZ', 1], 'Fontes de La': ['UK', 1], 'Aquaplus': ['MZ', 51], 'Method': ['US', 1], 'Biowash': ['UK', 1], 'Kilimanjaro': ['US', 6], 'Fula': ['PT', 1], 'Sunseed': ['ZA', 1], 'Kool': ['UK', 1], 'Montemor': ['MZ', 20], 'Danone': ['FR', 1], 'Continente': ['PT', 1], 'vitamic c': ['UK', 1], 'Óleo Dona': ['SG', 3], 'Top Brown': ['UK', 1], 'Master Kong': ['CN', 1], 'Rhodes Quality': ['ZA', 1], 'Woolworths': ['ZA', 1], 'Handy Andy': ['GB', 1], 'Compal': ['PT', 1], 'industria Quimica': ['UK', 1], 'Perfect White': ['CI', 1], 'Robertsons': ['GB', 1], 'Zan Aqua': ['TZ', 1], 'Oohlala': ['UK', 1], 'Asas Diaries': ['TZ', 1], 'Bakers': ['UK', 2], 'Parachute': ['UK', 1], 'Oros': ['UK', 1], 'B&R': ['ZA', 1], 'Glenfiddich': ['UK', 2], 'Cerebos': ['ZA', 5], 'Maeva': ['MZ', 1], 'AquaVera': ['UK', 1], 'Pera fresh produce of Tanzania': ['TZ', 1]}, {'Rehaan ice': ['KE', 11], \"Sainsbury's\": ['UK', 1], 'Gatorade': ['US', 1], 'M&S Food': ['UK', 1], 'big8': ['CA', 4], '7UP': ['US', 1], 'Coca-Cola': ['US', 414], 'Pepsi': ['US', 1], 'Aquafina': ['US', 16], 'Solaray Dietary supplement': ['UK', 1], 'Molton Brown': ['UK', 1], 'Kirkland Signature': ['US', 1], 'Red Bull': ['AT', 9], 'Hill Water': ['TZ', 5], 'Sparletta': ['US', 10], 'gold emblem': ['UK', 1], 'ACACIA FOOD BEVERAGES LTD': ['ZM', 2], 'Flamingo': ['ZM', 1], 'Recheio': ['MZ', 2], 'Vimto': ['GB', 28], 'Big Bottle General Dealers': ['UK', 7], 'Crystalina': ['MZ', 24], 'Royal': ['UK', 8], 'Matisana': ['MZ', 107], 'Spa': ['MW', 45], 'Faith in Nature': ['GB', 1], 'Monte Gurue': ['IN', 107], 'drinking water': ['UK', 6], 'Aber Drips': ['UK', 13], 'Vitale': ['FR', 65], 'Pure Water': ['UK', 1], 'Água da Bela Vista': ['UK', 1], 'Appolo Wine Limited': ['UK', 2], 'Mbaruk Springs': ['UK', 1], 'Karigen': ['KE', 1], 'Oceanic': ['UK', 3], 'Brook Fresh': ['IN', 35], 'Brooks': ['UK', 10], 'Pure Life': ['UK', 2], 'Madini': ['UK', 3], 'Method': ['US', 1], 'Nutricom': ['UK', 31], 'Flash': ['US', 1], 'Uhai': ['TZ', 51], 'Woolworths': ['ZA', 1], 'Spar': ['ZA', 1], 'Água de Namaacha': ['MZ', 5], 'Asda': ['US', 1], 'Aldi': ['DE', 1], 'Volvic': ['FR', 1], 'Evian': ['FR', 1], 'Desperados Original Tequila': ['NL', 38], 'NIVEA': ['DE', 1], 'Fanta': ['US', 46], 'Cool Rivers': ['UK', 1], 'Naturis': ['UK', 1], 'Mountain Dew': ['US', 8], 'Lipton': ['GB', 1], 'Sprite': ['US', 60], 'Bonaqua': ['US', 1], 'Fairy': ['US', 1], 'Minute Maid': ['US', 12], 'Aleo': ['LT', 2], 'Bonlife': ['UA', 1], 'Cussons': ['GB', 8], 'Imperial Leather': ['GB', 17], 'Oasis (UK)': ['US', 1], 'Tesco': ['GB', 1], 'Co-op': ['GB', 2], 'E45': ['UK', 1], 'Emerge': ['GB', 2], 'Dr. Pepper': ['UK', 2], 'Flora': ['NL', 1], 'Barrs': ['UK', 1], 'Irn-Bru': ['GB', 2], 'Barr': ['GB', 1], 'Dove': ['GB', 1], 'Drench': ['GB', 2], 'Robinsons': ['GB', 2], 'Glenfiddich': ['UK', 2], 'Highland Spring': ['GB', 1], 'Schweppes': ['US', 18], 'Rowse': ['UK', 1], 'Dettol': ['GB', 1], 'Rubicon': ['UK', 1], 'shell': ['KE', 1], 'Right Guard': ['UK', 1], 'Buxton': ['GB', 1], 'Keringet': ['US', 8], 'MacB': ['GB', 1], 'Euro Shopper': ['NL', 2], 'Princes Gate': ['GB', 1], 'Radnor': ['UK', 1], 'Ice Valley': ['UK', 1], 'Bio-D': ['UK', 2], 'innocent': ['US', 4], 'Tesco Finest': ['GB', 1], 'best-one': ['UK', 1], 'Lucozade': ['JP', 2], 'Boost': ['GB', 1], 'Harrogate': ['GB', 16], 'Liz Earle': ['GB', 1], 'Power Play': ['US', 77], 'Predator Energy': ['US', 98], 'Gruum': ['GB', 1], 'Mo': ['TZ', 1238], 'Banana Boat': ['US', 20], 'Yazoo': ['NL', 2], 'Ecover': ['US', 1], 'Dasani': ['US', 22], 'Glaçeau Smartwater': ['US', 2], 'Valpre': ['US', 2], 'Kilimanjaro': ['US', 20], 'Krest': ['US', 9], 'Novida': ['US', 1], 'Stoney': ['US', 1], 'Caramulo': ['UK', 1], 'Fula': ['PT', 8], 'Activia': ['FR', 1], 'Galp': ['PT', 1], 'Compal': ['PT', 1], 'Luso': ['UK', 1], 'Continente': ['PT', 1], 'Alcafaz': ['UK', 3], 'Fontes de La': ['UK', 1], 'Mistolin': ['PT', 1], 'ACTY': ['PT', 1], 'Montes Libombos': ['UK', 36], 'Gorilla': ['UK', 1], 'Maeva': ['MZ', 82], 'Starbucks': ['UK', 1], 'SaveMor': ['ZA', 1], 'Cerebos': ['ZA', 6], 'Cadbury': ['US', 1], 'Sunlight': ['GB', 1], 'Omo': ['GB', 2], 'Vim': ['UK', 1], 'Handy Andy': ['GB', 1], 'Jik': ['GB', 1], 'Savanna': ['ZA', 45], 'Listerine': ['US', 1], 'Ceres': ['ZA', 3], 'Clover': ['ZA', 4], 'Oros': ['UK', 2], 'Energade': ['UK', 1], 'Engen': ['MY', 2], 'Satiskin': ['ZA', 2], 'Clere': ['UK', 1], 'Sunseed': ['ZA', 77], 'Drostdy Hof': ['UK', 6], 'Tal': ['GB', 1], \"d'lite\": ['ZM', 1], 'Somol': ['UK', 11], 'Castrol': ['GB', 1], 'Excella': ['SG', 3], 'Boston': ['ZA', 1], 'Robertsons': ['GB', 1], 'Windhoek': ['NA', 15], 'Air Scents': ['ZA', 1], 'Danone': ['FR', 2], 'Junglevites': ['UK', 1], 'Kick0': ['MW', 26], 'Jive': ['ZA', 1], 'Top Brown': ['UK', 11], 'Top Sauces': ['ZA', 1], 'Rhodes Quality': ['ZA', 1], 'Kuche Kuche': ['FR', 17], 'Cape Herb & Spice': ['ZA', 1], 'Nyika': ['MW', 32], 'Lowveld Favourites': ['ZA', 1], 'Barbie': ['US', 1], 'Afia': ['KE', 2], 'Mt. Kenyan': ['UK', 16], 'Afya': ['TZ', 6], 'PEPTANG': ['KE', 12], 'Lepo': ['MZ', 10], 'Super': ['UK', 2], 'Aquaplus': ['MZ', 509], 'ZAMHA': ['ZM', 11], 'Ama Sipsip': ['ZM', 13], 'Água de Goba': ['MZ', 2], 'JAM': ['UK', 1], 'aQuellé': ['ZA', 75], 'Aqua Azul': ['UK', 165], 'Nutriday': ['FR', 1], 'Quencher': ['KE', 7], 'Rwenzori': ['US', 2], 'Ilara': ['KE', 1], 'Montemor': ['MZ', 52], 'Azam': ['TZ', 2], 'Malt drink': ['TZ', 14], 'Acacia Food & Beverages Ltd': ['ZM', 3], 'Super Shake': ['ZM', 9], 'Boom Sparkle Plus': ['ZM', 1], 'Bigtree': ['ZM', 13], 'Boom Force': ['ZM', 1], 'Chibwantu': ['ZM', 21], 'ManziValley': ['MZ', 21], 'Óleo Dona': ['SG', 5], 'Vumba': ['MZ', 528], 'Californian': ['ZM', 20], 'Fusion': ['ZA', 7], 'Zan Aqua': ['TZ', 45], 'Kool': ['TZ', 25], 'Fitch and Leedes GINGER ALE': ['UK', 7], 'Fitch and leedes': ['ZA', 8], 'Fiesta': ['MZ', 7], 'Fonte Fresca': ['MZ', 159], 'Aquavita': ['ZM', 8], 'ZamSip': ['ZM', 2], 'SSA Supplements': ['UK', 1], 'Thumbsup': ['MW', 19], 'Mirinda': ['US', 34], 'Cape Aqua': ['ZA', 100], 'Quench': ['DK', 21], 'Oasis (ZA)': ['ZA', 35], 'Kingsley': ['ZA', 1], 'vitamic c': ['UK', 1], 'Bakers': ['UK', 2], 'Zamgold': ['ZW', 23], 'Oohlala': ['UK', 1], 'Bigtree Beverages LTD': ['ZM', 6], 'Fruiticana': ['ZM', 1], 'Vatra': ['ZM', 69], 'Aloha': ['ZM', 1], 'Trade Kings': ['ZM', 13], 'Brothers': ['ZM', 1], 'B&R': ['ZA', 1], 'Fairy Bottiling (Z)': ['ZM', 45], 'Aquasavana': ['US', 15], 'Confiança': ['MZ', 1], \"Dr. Strong's\": ['UK', 5], 'Fonte da Vida': ['MZ', 77], 'Fonte Pura': ['MZ', 306], 'Flo': ['UK', 12], 'Aquaclear': ['US', 3], 'Milk Maheu': ['ZM', 2], 'Mazi': ['MZ', 23], 'Tangy Drinks Limited': ['UK', 1], 'H2Zero': ['UK', 1], 'Refreshhh': ['UK', 1], 'Vengo': ['MZ', 145], 'Fizz': ['MZ', 1], 'Cool Salsa': ['UK', 8], 'Frozy': ['MZ', 1684], 'Izy': ['MZ', 151], 'Thirsti': ['ZA', 1], 'Cool Fizz': ['MW', 8], 'Cool Drop': ['MW', 37], 'Aqua Smooth': ['UK', 4], 'Kasapreko': ['GH', 1], 'Agua da Montanha': ['MZ', 25], 'KCC': ['KE', 37], 'Quest': ['KE', 12], 'Kabazi': ['KE', 1], 'Aquamist': ['KE', 4], 'Rosy': ['KE', 11], 'Five Star': ['UK', 50], 'Tropical Heat': ['KE', 1], 'Harpic': ['GB', 1], 'Simba Table Vinegar': ['TZ', 2], 'Toss': ['KE', 2], 'Tuzo': ['KE', 1], 'club': ['KE', 3], 'Fruitville': ['KE', 7], 'KOL': ['UK', 16], 'Brookside': ['KE', 8], 'Naivas': ['KE', 21], 'Elianto': ['KE', 8], 'BIO': ['KE', 16], 'Revin Zambia Limited': ['ZM', 20], 'Juicy Ginger': ['ZM', 1], 'Fresha': ['KE', 5], 'TREE TOP': ['KE', 7], 'gavi beverages': ['ZM', 42], 'Safi': ['KE', 8], 'yenbu': ['KE', 12], 'Jooz': ['UK', 1], 'Planet': ['KE', 20], 'Blue Band': ['NL', 24], 'Fields of Africa': ['KE', 15], 'Zam-Zam': ['KE', 8], 'Safari King': ['KE', 18], 'Safari': ['BE', 1], 'Wetlands Springs': ['KE', 11], 'Warda': ['KE', 5], 'Misty Cool': ['UK', 1], 'Royal Taste': ['UK', 2], 'Kisima': ['TZ', 1], 'Ribena': ['JP', 18], 'Bamba': ['UK', 15], 'Rayaan Ice': ['KE', 12], 'Bahati Dairies': ['KE', 1], 'Brava': ['KE', 21], 'Salama Ice': ['KE', 256], 'Halal ice': ['KE', 3], 'Aquadrops': ['UK', 2], 'Nasida': ['UK', 2], 'GEISHA GERM GUARD': ['KE', 12], 'Perfect White': ['CI', 1], 'Dream Cosmetics': ['CI', 11], 'VESTLINE': ['UK', 3], 'Castle Lite': ['BE', 1], \"Redd's\": ['BE', 1], 'Anjari': ['TZ', 50], 'Dew Drop': ['TZ', 16], 'TOMATO SAUCE': ['UK', 13], 'Red Gold': ['TZ', 6], 'K-Vant': ['TZ', 6], 'U-Fresh': ['TZ', 18], 'Jembe': ['TZ', 59], 'Milk Com': ['UK', 1], 'Dabaga Vegetable & Fruits Canning': ['UK', 1], 'Sayona': ['TZ', 1], 'Sayona Twist': ['TZ', 34], 'Super Burudani': ['TZ', 127], 'Bunena': ['UK', 22], 'Valeur': ['BE', 31], 'Uhuru Peak': ['UK', 19], 'Sundrop': ['TZ', 12], 'Double Kick': ['TZ', 234], 'Pera fresh produce of Tanzania': ['TZ', 1], 'smart gin': ['UK', 32], 'Mango Crush': ['UK', 12], \"Leader's Ananasi\": ['TZ', 602], 'Masafi': ['TZ', 98], 'Mo Portello': ['TZ', 58], 'Maisha': ['TZ', 44], 'Oryx Energies': ['MT', 30], 'Drop of Zanzibar': ['TZ', 63], 'Pawa Plus': ['TZ', 1], 'Diamond Rock': ['TZ', 8], 'Asas Diaries': ['TZ', 1], 'Canadian Drinking Water': ['TZ', 127], 'POWER TANGAWIZI': ['UK', 4], 'Furaha': ['UK', 13], 'SeQua': ['UK', 10], 'Zenjy': ['TZ', 54], 'Precious': ['UK', 46], 'Super Pure': ['UK', 7], 'Oasis': ['AE', 55], 'NINJA': ['UK', 2], 'AquaPlus': ['MZ', 2], 'Longrich': ['CN', 1], 'Pangani': ['UK', 65], 'Master Kong': ['CN', 1], 'Limpo': ['UK', 9], 'Nutra Shine Professional': ['UK', 1], 'SOY SAUCE': ['UK', 1], 'Carrent': ['KE', 8], 'SkyDots': ['UK', 9], 'King Klear': ['UK', 1], 'Kambucha': ['ZM', 28], 'Sierra de los Padres': ['AR', 1], 'Biowash': ['UK', 1], 'industria Quimica': ['UK', 2], 'Downy': ['US', 20], 'Aussie': ['US', 2], 'Halo': ['UK', 1], 'Cantu': ['US', 1], 'Lanjarón': ['FR', 5], 'Amalfi': ['UK', 1], 'Mercadona': ['ES', 1], 'Therapy Levels': ['UK', 1], 'Voi': ['TR', 1], 'HOBBY': ['TR', 17], 'Papilion': ['UK', 2], 'cotanak': ['TR', 1], 'AquaVera': ['UK', 1], 'Heineken': ['NL', 12], 'Sanex': ['UK', 1], 'Kikkoman': ['UK', 1], 'Colgate': ['UK', 1], 'Mega We care': ['TH', 1], 'Parachute': ['UK', 1], 'Diana Lotion': ['UK', 1], 'Yasaki': ['AE', 54], 'Boncabe Original': ['UK', 1], 'Sobo': ['FR', 14], 'Glaciar': ['MZ', 10], 'Summer': ['UK', 1], 'Nevada': ['MZ', 154]}, {'Fizz': ['MZ', 1], 'Água de Namaacha': ['MZ', 549], 'Coca-Cola': ['US', 1], 'Fiesta': ['MZ', 1], 'Frozy': ['MZ', 1], 'Vumba': ['MZ', 91], 'Aquaplus': ['MZ', 1], 'Bonaqua': ['US', 30], 'Sprite': ['TZ', 1], 'Fanta': ['US', 1], 'Fonte Fresca': ['MZ', 65], 'Sparletta': ['US', 3], 'Izy': ['MZ', 6], 'Vimto': ['UK', 1], 'Uhai': ['TZ', 7], 'Vengo': ['UK', 5], 'Hill Water': ['TZ', 3], 'Maeva': ['MZ', 21], 'Mo': ['TZ', 12], 'Super Burudani': ['TZ', 91], \"Leader's Ananasi\": ['UK', 80], 'Azam': ['TZ', 1], 'Óleo Dona': ['SG', 73], 'Matisana': ['UK', 27], 'Canadian Drinking Water': ['TZ', 60], 'Montemor': ['MZ', 57], 'Vitale': ['UK', 3], 'Sayona': ['TZ', 1], 'Dew Drop': ['TZ', 11], 'Kilimanjaro': ['US', 4], 'Nevada': ['MZ', 12], 'Milk Maheu': ['ZM', 2], 'Masafi': ['TZ', 18], 'Crystalina': ['UK', 6], 'Precious': ['UK', 46], 'Maisha': ['TZ', 38], 'Double Kick': ['TZ', 38], 'Sunlight': ['GB', 2], 'Bigtree': ['ZM', 1], 'Sayona Twist': ['TZ', 1], 'Castle Lite': ['BE', 1], 'smart gin': ['UK', 31], 'Californian Beverages Ltd': ['ZM', 31], 'Afya': ['TZ', 1], 'Pepsi': ['US', 1], 'Somol': ['UK', 11], 'Super': ['UK', 1], 'Fonte da Vida': ['UK', 5], 'Recheio': ['UK', 23], 'Dasani': ['US', 1], 'K-Vant': ['TZ', 6], 'aQuellé': ['ZA', 22], 'Clover': ['ZA', 1], 'valley': ['UK', 21], 'Minute Maid': ['US', 1], 'Uhuru Peak': ['UK', 19], 'Vatra': ['ZM', 1], 'Savanna': ['ZA', 19], 'Californian': ['ZM', 16], 'Harrogate': ['GB', 16], 'Schweppes': ['US', 1], 'gavi beverages': ['ZM', 16], 'Zim-Kings Trading (pvt) Ltd': ['ZM', 13], 'Furaha': ['UK', 13], 'Aquasavana': ['US', 13], 'Sunseed': ['UK', 12], 'Zamgold': ['UK', 12], 'Sundrop': ['TZ', 11], 'ZAMHA': ['ZM', 11], 'Dream Cosmetics': ['CI', 11], 'TOMATO SAUCE': ['UK', 11], 'Chibwantu': ['ZM', 10], 'Mirinda': ['US', 7], 'Fruiticana': ['ZM', 10], 'Super Shake': ['ZM', 9], 'Highland Spring': ['UK', 1], 'Lucozade': ['JP', 1], 'Bigtree Beverages LTD': ['ZM', 9], 'Quencher': ['UK', 2], 'Pangani': ['UK', 8], 'Fitch and leedes': ['ZA', 8], 'Flamingo': ['ZM', 1], 'SeQua': ['UK', 8], 'Fitch and Leedes GINGER ALE': ['UK', 7], 'Heineken': ['NL', 7], 'Big Bottle General Dealers': ['UK', 7], 'Ice Valley': ['UK', 1], 'Windhoek': ['NA', 6], 'Irn-Bru': ['GB', 1], 'Volvic': ['UK', 1], 'bigtree': ['ZM', 4], 'Red Gold': ['TZ', 5], 'Valeur': ['UK', 5], 'Cerebos': ['ZA', 5], 'Aqua Azul': ['UK', 5], 'Dettol': ['GB', 1], 'Oros': ['UK', 5], 'Jembe': ['TZ', 5], 'Afia': ['UK', 1], 'Karigen': ['UK', 1], 'Brook Fresh': ['IN', 5], 'Fula': ['PT', 4], 'Malt drink': ['TZ', 1], 'Safari King': ['KE', 1], 'Aqua Smooth': ['UK', 4], 'Co-op': ['GB', 1], 'Mango Crush': ['UK', 4], 'POWER TANGAWIZI': ['UK', 4], 'innocent': ['US', 1], 'Tangy Drinks Limited': ['UK', 1], 'Lowveld Favourites': ['ZA', 1], 'Evian': ['UK', 1], 'Emerge': ['GB', 1], 'VESTLINE': ['UK', 3], 'Nutriday': ['FR', 3], 'Desperados Original Tequila': ['UK', 3], 'Cadbury': ['US', 1], 'Krest': ['US', 2], 'NIVEA': ['DE', 1], 'Acacia Food & Beverages Ltd': ['ZM', 3], 'Danone': ['FR', 2], 'Euro Shopper': ['UK', 1], 'Ecover': ['UK', 1], 'MacB': ['UK', 1], 'Oasis': ['UK', 1], 'Aleo': ['LT', 1], 'Ceres': ['ZA', 1], 'Mistolin': ['PT', 1], 'Aquaclear': ['US', 1], 'ACTY': ['PT', 1], 'Energade': ['UK', 2], 'Flash': ['US', 1], 'Satiskin': ['ZA', 2], 'Method': ['US', 1], 'Glenfiddich': ['UK', 2], 'ManziValley': ['UK', 2], 'Montes Libombos': ['UK', 2], 'Pure Life': ['UK', 2], 'Bio-D': ['UK', 1], 'Dr. Pepper': ['UK', 2], 'Appolo Wine Limited': ['UK', 2], 'NINJA': ['US', 2], 'industria Quimica': ['UK', 2], 'Aussie': ['US', 1], 'Aquamist': ['UK', 1], 'TOSS': ['UK', 2], 'Papilion': ['UK', 2], 'Omo': ['GB', 2], 'Princes Gate': ['UK', 1], 'ZamSip': ['ZM', 2], 'ACACIA FOOD BEVERAGES LTD': ['ZM', 2], 'Royal Taste': ['UK', 2], 'Kirkland Signature': ['UK', 1], 'Bakers': ['UK', 2], 'Cussons': ['GB', 1], 'Bonlife': ['UA', 1], 'U-Fresh': ['TZ', 1], 'Milk Com': ['UK', 1], 'Aldi': ['UK', 1], 'Fairy': ['US', 1], 'Dabaga Vegetable & Fruits Canning': ['UK', 1], 'Naturis': ['UK', 1], 'Pera fresh produce of Tanzania': ['TZ', 1], 'M&S Food': ['UK', 1], 'Mo Portello': ['TZ', 1], 'Asda': ['UK', 1], 'Spar': ['ZA', 1], 'Woolworths': ['ZA', 1], 'Drop of Zanzibar': ['TZ', 1], 'Pawa Plus': ['TZ', 1], 'Madini': ['UK', 1], 'Asas Diaries': ['TZ', 1], 'Oceanic': ['UK', 1], 'Mbaruk Springs': ['UK', 1], 'Master Kong': ['CN', 1], 'Pure Water': ['UK', 1], 'Nutra Shine Professional': ['UK', 1], 'SOY SAUCE': ['UK', 1], 'SkyDots': ['UK', 1], 'Sierra de los Padres': ['AR', 1], 'Aber Drips': ['UK', 1], 'Faith in Nature': ['GB', 1], 'Biowash': ['UK', 1], 'Halo': ['UK', 1], 'Cantu': ['US', 1], 'Amalfi': ['UK', 1], 'Therapy Levels': ['UK', 1], 'cotanak': ['TR', 1], 'AquaVera': ['UK', 1], 'Dove': ['GB', 1], 'Sanex': ['UK', 1], 'Kikkoman': ['UK', 1], 'Gatorade': ['UK', 1], 'Colgate': ['UK', 1], 'Mega We care': ['TH', 1], 'Parachute': ['UK', 1], 'Diana Lotion': ['UK', 1], 'Boncabe Original': ['UK', 1], 'Red Bull': ['UK', 1], 'gold emblem': ['UK', 1], 'Valpre': ['US', 1], \"Sainsbury's\": ['UK', 1], 'Stoney': ['US', 1], 'Summer': ['UK', 1], 'Novida': ['US', 1], 'Galp': ['PT', 1], 'Compal': ['UK', 1], 'Continente': ['PT', 1], 'Fontes de La': ['UK', 1], 'Gorilla': ['UK', 1], 'Starbucks': ['UK', 1], 'Vim': ['UK', 1], 'Handy Andy': ['GB', 1], 'Jik': ['UK', 1], 'Listerine': ['US', 1], 'Engen': ['MY', 1], 'Clere': ['UK', 1], 'Tal': ['GB', 1], \"d'lite\": ['ZM', 1], 'Excella': ['UK', 1], 'Robertsons': ['GB', 1], 'Air Scents': ['ZA', 1], 'Junglevites': ['UK', 1], 'Top Brown': ['UK', 1], 'Rhodes Quality': ['ZA', 1], 'JAM': ['UK', 1], 'Liz Earle': ['GB', 1], 'Tesco': ['GB', 1], 'Boom Sparkle Plus': ['ZM', 1], 'Boom Force': ['ZM', 1], 'Molton Brown': ['UK', 1], 'best-one': ['UK', 1], 'Fusion': ['ZA', 1], 'Zan Aqua': ['TZ', 1], 'Tesco Finest': ['GB', 1], 'Radnor': ['UK', 1], '7UP': ['US', 1], 'Cape Aqua': ['UK', 1], 'vitamic c': ['UK', 1], 'Oohlala': ['UK', 1], 'Aloha': ['ZM', 1], 'Brothers': ['ZM', 1], 'B&R': ['ZA', 1], 'Keringet': ['US', 1], 'Kool': ['UK', 1], 'Right Guard': ['UK', 1], 'Rubicon': ['UK', 1], 'Rowse': ['UK', 1], 'Barrs': ['UK', 1], 'E45': ['UK', 1], 'Thirsti': ['UK', 1], 'Kasapreko': ['GH', 1], 'Kabazi': ['KE', 1], 'Tropical Heat': ['KE', 1], 'Simba Table Vinegar': ['TZ', 1], 'KOL': ['UK', 1], 'Solaray Dietary supplement': ['UK', 1], 'Juicy Ginger': ['ZM', 1], 'Jooz': ['UK', 1], 'Misty Cool': ['UK', 1], 'Kisima': ['TZ', 1], 'Brava': ['UK', 1], 'Aquadrops': ['UK', 1], 'Nasida': ['UK', 1], 'Perfect White': ['CI', 1], 'Safari': ['BE', 1], \"Redd's\": ['BE', 1]}, {'Mo': ['TZ', 93], 'Dasani': ['US', 21], 'Coca-Cola': ['US', 1], 'Lucozade': ['JP', 1], 'Uhai': ['TZ', 18], 'Pepsi': ['US', 1], 'Ribena': ['JP', 18], 'Sparletta': ['US', 34], 'Fiesta': ['MZ', 6], 'Sayona Twist': ['TZ', 34], 'Super': ['UK', 27], 'Azam': ['TZ', 16], 'SeQua': ['UK', 8], 'aQuellé': ['ZA', 1], 'ManziValley': ['MZ', 21], 'Revin Zambia Limited': ['ZM', 17], 'Super Burudani': ['TZ', 91], 'Papilion': ['UK', 2], 'POWER TANGAWIZI': ['UK', 4], 'PEPTANG': ['KE', 12], 'Maisha': ['TZ', 43], 'Diana Lotion': ['UK', 1], 'Right Guard': ['UK', 1], 'Method': ['US', 1], 'Quencher': ['KE', 36], 'Clover': ['ZA', 1], 'MacB': ['UK', 3], 'Frozy': ['MZ', 2], 'Bio-D': ['UK', 1], 'Vumba': ['MZ', 795], 'Ecover': ['UK', 1], 'Listerine': ['US', 1], 'Tesco': ['GB', 1], 'Ceres': ['ZA', 2], 'Sayona': ['TZ', 8], 'Vengo': ['MZ', 12], 'Milk Maheu': ['ZM', 2], 'Oceanic': ['UK', 9], 'Continente': ['PT', 1], 'Highland Spring': ['GB', 1], \"d'lite\": ['ZM', 1], 'best-one': ['UK', 1], 'Ilara': ['KE', 17], 'Sprite': ['US', 27], 'Krest': ['US', 2], 'Afya': ['TZ', 4], 'Bigtree': ['ZM', 64], 'Fanta': ['US', 9], 'Recheio': ['MZ', 23], 'Evian': ['UK', 3], 'Tuzo': ['KE', 1], 'Bonaqua': ['US', 426], 'ZAMHA': ['ZM', 11], 'Fula': ['PT', 6], 'Minute Maid': ['US', 4], 'Danone': ['FR', 3], 'Aussie': ['US', 1], 'Colgate': ['UK', 1], 'Kirkland Signature': ['UK', 2], 'Top Brown': ['UK', 1], 'Flo': ['UK', 12], 'Dettol': ['GB', 5], 'shell': ['KE', 1], 'Karigen': ['UK', 18], 'Bahati Dairies': ['KE', 3], 'Brava': ['KE', 1], 'GEISHA GERM GUARD': ['KE', 12], 'Água de Namaacha': ['MZ', 563], \"Sainsbury's\": ['UK', 1], 'Heineken': ['NL', 7], 'NIVEA': ['DE', 2], 'Izy': ['MZ', 17], 'Maeva': ['MZ', 99], 'Fizz': ['MZ', 774], 'Dabaga Vegetable & Fruits Canning': ['UK', 1], 'Lowveld Favourites': ['ZA', 3], 'Matisana': ['MZ', 27], 'Afia': ['KE', 50], 'Flash': ['US', 1], 'Aquaclear': ['US', 3], 'Crystalina': ['UK', 17], 'Cadbury': ['US', 3], 'Pawa Plus': ['TZ', 1], 'Carribea Boverages Limited': ['ZM', 22], 'Ama Sipsip': ['ZM', 13], 'TREE TOP': ['KE', 11], 'Nutra Shine Professional': ['UK', 1], 'cotanak': ['TR', 1], 'Five Star': ['UK', 50], 'Schweppes': ['US', 3], 'Trade Kings': ['ZM', 13], 'Jik': ['UK', 1], 'Oasis': ['UK', 1], 'Tesco Finest': ['GB', 1], 'Red Gold': ['TZ', 5], 'Barr': ['GB', 2], 'Safi': ['KE', 5], 'K-Vant': ['TZ', 22], 'Aloha': ['ZM', 1], '7UP': ['US', 1], 'Kabazi': ['KE', 1], 'Misty Cool': ['UK', 1], 'Predator Energy': ['US', 40], 'Aquamist': ['KE', 14], 'Warda': ['KE', 5], 'SkyDots': ['UK', 16], 'Elianto': ['KE', 8], 'Rubicon': ['UK', 1], 'Safari King': ['KE', 4], 'vitamic c': ['UK', 1], 'Aber Drips': ['UK', 13], 'Woolworths': ['ZA', 1], 'Rayaan Ice': ['KE', 12], 'Californian': ['ZM', 16], 'Mt. Kenyan': ['UK', 16], 'Bamba': ['UK', 15], 'Desperados Original Tequila': ['UK', 3], 'club': ['KE', 4], 'Nevada': ['MZ', 15], 'Aquaplus': ['MZ', 13], 'Ice Valley': ['UK', 6], 'Glenfiddich': ['UK', 2], 'Brothers': ['ZM', 1], 'innocent': ['US', 1], 'drinking water': ['UK', 24], 'Fresha': ['KE', 9], 'Kasapreko': ['GH', 1], 'Molton Brown': ['UK', 1], 'Emerge': ['GB', 1], 'Sundrop': ['TZ', 11], 'Pure Water': ['UK', 1], 'Fairy': ['US', 1], 'Buxton': ['GB', 1], 'Masafi': ['TZ', 50], 'Volvic': ['FR', 1], 'Princes Gate': ['UK', 2], 'Valpre': ['US', 1], 'Co-op': ['GB', 4], 'Boston': ['ZA', 1], 'Malt drink': ['TZ', 1], 'Junglevites': ['UK', 1], 'Sunlight': ['GB', 4], 'Big Bottle General Dealers': ['UK', 7], 'SOY SAUCE': ['UK', 1], 'ZamSip': ['ZM', 2], 'Vatra': ['ZM', 1], 'Blue Band': ['NL', 24], 'Novida': ['US', 1], 'Euro Shopper': ['UK', 2], 'Fusion': ['ZA', 1], 'Oohlala': ['UK', 1], 'Mbaruk Springs': ['UK', 1], 'Thirsti': ['UK', 1], 'Californian Beverages Ltd': ['ZM', 11], 'Irn-Bru': ['GB', 1], 'Mango Crush': ['UK', 11], 'Dove': ['GB', 1], 'Vitale': ['UK', 3], 'smart gin': ['UK', 31], 'Kisima': ['TZ', 1], 'Halal ice': ['KE', 9], 'Nasida': ['UK', 3], 'Fitch and leedes': ['ZA', 8], 'Satiskin': ['ZA', 2], 'Montes Libombos': ['UK', 3], 'industria Quimica': ['UK', 2], 'Air Scents': ['ZA', 1], 'Aldi': ['UK', 8], 'Zan Aqua': ['TZ', 1], 'Safari': ['BE', 63], 'Naturis': ['UK', 1], 'KCC': ['KE', 37], 'Flora': ['NL', 1], 'Stoney': ['US', 1], 'AquaVera': ['UK', 1], 'Furaha': ['UK', 13], 'Imperial Leather': ['GB', 17], 'HOBBY': ['TR', 17], 'Wetlands Springs': ['KE', 11], 'Kilimanjaro': ['US', 54], 'Brookside': ['KE', 7], 'Mistolin': ['PT', 2], 'Somol': ['UK', 27], 'gavi beverages': ['ZM', 33], 'Simba Table Vinegar': ['TZ', 1], 'Tangy Drinks Limited': ['UK', 3], 'Jooz': ['UK', 1], 'Rowse': ['UK', 1], 'KOL': ['UK', 2], 'ZAMZAM': ['UK', 8], 'Cussons': ['GB', 1], 'Faith in Nature': ['GB', 1], 'Fonte da Vida': ['MZ', 31], 'Tal': ['GB', 1], 'Biowash': ['UK', 1], 'Energade': ['UK', 2], 'Castle Lite': ['BE', 1], 'Aleo': ['LT', 1], 'Óleo Dona': ['SG', 75], 'Dr. Pepper': ['UK', 2], 'VESTLINE': ['UK', 3], 'Master Kong': ['CN', 1], 'Handy Andy': ['GB', 2], 'Perfect White': ['CI', 1], 'Bakers': ['UK', 2], 'Aqua Smooth': ['UK', 4], 'Parachute': ['UK', 1], 'Kikkoman': ['UK', 1], 'Jembe': ['TZ', 6], 'Vimto': ['GB', 18], 'Quest': ['KE', 12], 'Mirinda': ['US', 7], 'Drop of Zanzibar': ['TZ', 1], 'Aquadrops': ['UK', 2], 'Red Bull': ['UK', 1], 'Fonte Pura': ['UK', 62], 'ACTY': ['PT', 1], 'Precious': ['UK', 46], 'Summer': ['UK', 1], 'Bonlife': ['UA', 1], 'Mega We care': ['TH', 1], 'Galp': ['PT', 1], 'Keringet': ['US', 2], 'Gatorade': ['UK', 1], 'Nutriday': ['FR', 3], 'Flamingo': ['ZM', 8], 'Clere': ['UK', 1], 'Starbucks': ['UK', 1], 'Montemor': ['MZ', 61], 'Boncabe Original': ['UK', 1], 'Harrogate': ['GB', 16], 'Radnor': ['UK', 1], 'Hill Water': ['TZ', 13], 'Asda': ['UK', 1], 'Madini': ['UK', 3], 'Oros': ['UK', 5], 'Brook Fresh': ['IN', 39], 'Cerebos': ['ZA', 5], 'Sunseed': ['SG', 27], 'Vim': ['UK', 1], 'Windhoek': ['NA', 6], 'Sierra de los Padres': ['AR', 1], 'gold emblem': ['UK', 1], 'Chibwantu': ['ZM', 21], 'Fairy Bottiling (Z)': ['ZM', 10], 'Mo Portello': ['TZ', 4], 'Appolo Wine Limited': ['UK', 2], 'Uhuru Peak': ['UK', 19], 'Dream Cosmetics': ['CI', 11], 'U-Fresh': ['TZ', 1], 'Toss': ['KE', 2], \"Leader's Ananasi\": ['UK', 80], 'Planet': ['KE', 20], 'Barrs': ['UK', 1], 'Dew Drop': ['TZ', 11], 'Aquasavana': ['US', 13], 'E45': ['UK', 1], 'Naivas': ['KE', 21], 'Brooks': ['UK', 10], 'Fitch and Leedes GINGER ALE': ['UK', 7], 'Spar': ['ZA', 1], 'Robertsons': ['GB', 1], 'Tropical Heat': ['KE', 1], 'Asas Diaries': ['TZ', 1], 'Savanna': ['ZA', 19], 'Valeur': ['UK', 5], 'Double Kick': ['TZ', 82], 'Compal': ['UK', 1], 'Fruiticana': ['ZM', 10], 'Aquafina': ['US', 16], 'Milk Com': ['UK', 1], 'Downy': ['US', 20], 'Aqua Azul': ['UK', 5], 'NINJA': ['UK', 2], 'Solaray Dietary supplement': ['UK', 1], 'Rehaan ice': ['KE', 11], 'Mountain Dew': ['US', 8], 'Banana Boat': ['US', 20], 'Fonte Fresca': ['MZ', 231], 'Boom Force': ['ZM', 1], 'Zamgold': ['ZW', 23], 'Rhodes Quality': ['ZA', 1], 'Acacia Food & Beverages Ltd': ['ZM', 3], 'Gorilla': ['UK', 1], 'Carrent': ['KE', 8], 'Sanex': ['UK', 1], 'BIO': ['KE', 16], 'Halo': ['UK', 1], 'Pure Life': ['UK', 2], 'B&R': ['ZA', 1], 'Cantu': ['US', 1], 'Canadian Drinking Water': ['TZ', 60], 'M&S Food': ['UK', 1], 'Excella': ['UK', 1], 'Liz Earle': ['GB', 1], 'Super Shake': ['ZM', 9], 'Boom Sparkle Plus': ['ZM', 1], \"Redd's\": ['BE', 1], 'Power Play': ['US', 77], 'JAM': ['UK', 1], 'Zam-Zam': ['KE', 17], 'Engen': ['MY', 2], 'Confiança': ['MZ', 1], 'Cape Aqua': ['UK', 1], 'TOMATO SAUCE': ['UK', 11], 'Royal Taste': ['UK', 2], 'ACACIA FOOD BEVERAGES LTD': ['ZM', 2], 'Fontes de La': ['UK', 1], 'Omo': ['GB', 2], 'Kool': ['UK', 1], 'Juicy Ginger': ['ZM', 1], 'Amalfi': ['UK', 1], 'Pangani': ['UK', 8], 'Fields of Africa': ['KE', 15], 'Therapy Levels': ['UK', 1], 'Pera fresh produce of Tanzania': ['TZ', 1]}, {'Mo': ['TZ', 11], 'ACTY': ['PT', 2], 'Dasani': ['US', 1], 'Coca-Cola': ['US', 3], 'Frozy': ['MZ', 16], 'Woolworths': ['ZA', 1], 'Kasapreko': ['GH', 1], 'Sparletta': ['US', 6], 'Vimto': ['GB', 3], 'Fiesta': ['MZ', 22], 'Sundrop': ['TZ', 1], 'Jik': ['GB', 1], 'Uhai': ['TZ', 1], 'Super': ['UK', 1], 'Vengo': ['MZ', 1], 'Pure Water': ['UK', 1], 'Fanta': ['US', 1], 'Izy': ['MZ', 3], 'Glaciar': ['MZ', 1], 'Papilion': ['UK', 1], 'Milk Com': ['UK', 1], 'best-one': ['UK', 1], 'Junglevites': ['UK', 1], 'Sunlight': ['GB', 2], 'Fonte Pura': ['MZ', 50], 'Montemor': ['MZ', 21], 'Clover': ['ZA', 2], 'Aqua Azul': ['UK', 4], 'Summer': ['UK', 1], 'Bonlife': ['UA', 1], 'Vumba': ['MZ', 592], 'Mega We care': ['TH', 1], 'Schweppes': ['US', 3], 'Minute Maid': ['US', 1], 'Listerine': ['US', 1], 'Continente': ['PT', 1], 'Hill Water': ['TZ', 3], 'Ceres': ['ZA', 1], 'Tesco': ['GB', 1], 'Solaray Dietary supplement': ['UK', 1], 'Fizz': ['MZ', 15], 'Galp': ['PT', 1], 'Oasis': ['AE', 1], 'Gatorade': ['UK', 1], 'Sprite': ['US', 3], 'Nutriday': ['FR', 1], 'Lucozade': ['JP', 3], 'Malt drink': ['TZ', 1], 'Flamingo': ['ZM', 1], 'Krest': ['US', 1], 'Fonte Fresca': ['MZ', 219], 'Recheio': ['MZ', 1], 'Aquaplus': ['MZ', 64], 'Fula': ['PT', 1], 'Danone': ['FR', 1], 'Maeva': ['MZ', 37], 'Top Brown': ['UK', 1], 'Rhodes Quality': ['ZA', 1], 'Dettol': ['GB', 1], 'Sanex': ['UK', 1], 'Compal': ['PT', 1], 'industria Quimica': ['UK', 1], 'Somol': ['UK', 11], 'Zan Aqua': ['TZ', 1], 'Bonaqua': ['US', 181], 'Água de Namaacha': ['MZ', 370], 'Oros': ['UK', 1], 'NIVEA': ['DE', 3], 'B&R': ['ZA', 1], 'Matisana': ['MZ', 31], 'Vitale': ['FR', 6], 'Cerebos': ['ZA', 5], 'AquaVera': ['UK', 1], 'Fonte da Vida': ['MZ', 5], 'Pepsi': ['US', 1], 'Azam': ['TZ', 3], 'Afya': ['TZ', 1], 'aQuellé': ['ZA', 1], 'Vim': ['UK', 1], 'Lowveld Favourites': ['ZA', 1], 'Cantu': ['US', 1], 'Canadian Drinking Water': ['TZ', 1], 'Sierra de los Padres': ['AR', 1], 'Drop of Zanzibar': ['TZ', 1], 'gold emblem': ['UK', 1], 'Nevada': ['MZ', 49], 'Cadbury': ['US', 1], 'Mistolin': ['PT', 2], 'Irn-Bru': ['GB', 1], 'Simba Table Vinegar': ['TZ', 1], 'Liz Earle': ['GB', 1], 'cotanak': ['TR', 1], 'Dream Cosmetics': ['CI', 10], 'U-Fresh': ['TZ', 1], 'Ice Valley': ['UK', 1], 'Crystalina': ['MZ', 6], 'Engen': ['MY', 1], 'Sayona': ['TZ', 1], 'Cussons': ['GB', 1], 'Tal': ['GB', 1], 'Fontes de La': ['UK', 1], 'Method': ['US', 1], 'Omo': ['GB', 2], 'Biowash': ['UK', 1], 'Kilimanjaro': ['US', 6], 'Sunseed': ['ZA', 12], 'Kool': ['UK', 1], 'vitamic c': ['UK', 1], 'Óleo Dona': ['SG', 3], 'Master Kong': ['CN', 1], 'Handy Andy': ['GB', 1], 'Perfect White': ['CI', 1], 'Robertsons': ['GB', 1], 'Oohlala': ['UK', 1], 'Excella': ['SG', 1], 'Asas Diaries': ['TZ', 1], 'Bakers': ['UK', 2], 'Parachute': ['UK', 1], 'Glenfiddich': ['UK', 2], 'Pera fresh produce of Tanzania': ['TZ', 1]}, {'Vimto': ['GB', 1], 'Method': ['US', 1], 'Água de Namaacha': ['MZ', 46], 'Bonaqua': ['US', 3], 'Fanta': ['US', 2], 'Coca-Cola': ['US', 1], 'Irn-Bru': ['GB', 1], 'Glenfiddich': ['UK', 2], 'Ice Valley': ['UK', 1], 'Tesco': ['GB', 1], 'best-one': ['UK', 1], 'Lucozade': ['JP', 1], 'Liz Earle': ['GB', 1], 'Sparletta': ['US', 8], 'Sprite': ['US', 4], 'Fula': ['PT', 1], 'Compal': ['PT', 1], 'Continente': ['PT', 1], 'Fontes de La': ['UK', 1], 'Mistolin': ['PT', 1], 'ACTY': ['PT', 1], 'Maeva': ['MZ', 1], 'Cerebos': ['ZA', 5], 'Cadbury': ['US', 1], 'Handy Andy': ['GB', 1], 'Sunlight': ['GB', 5], 'Jik': ['GB', 1], 'Ceres': ['ZA', 1], 'Clover': ['ZA', 2], 'Tal': ['GB', 1], 'Robertsons': ['GB', 1], 'Junglevites': ['UK', 1], 'Top Brown': ['UK', 1], 'Rhodes Quality': ['ZA', 1], 'Woolworths': ['ZA', 1], 'Nutriday': ['FR', 1], 'Montemor': ['MZ', 1], 'Vumba': ['MZ', 10], 'Fiesta': ['MZ', 1], 'Bakers': ['UK', 2], 'Oohlala': ['UK', 1], 'Danone': ['FR', 1], 'B&R': ['ZA', 1], 'Fizz': ['MZ', 13], 'Aquaplus': ['MZ', 1], 'Frozy': ['MZ', 2], 'Izy': ['MZ', 2], 'Dream Cosmetics': ['CI', 10], 'AquaVera': ['UK', 1], 'Óleo Dona': ['SG', 3], 'Nevada': ['MZ', 1]}, {\"Sainsbury's\": ['UK', 1], 'M&S Food': ['UK', 1], 'Solaray Dietary supplement': ['UK', 1], 'Molton Brown': ['UK', 1], 'Kirkland Signature': ['UK', 1], 'Recheio': ['UK', 2], 'Vimto': ['UK', 145], 'Crystalina': ['UK', 17], 'Matisana': ['UK', 26], 'Vitale': ['UK', 5], 'Pure Water': ['UK', 1], 'Appolo Wine Limited': ['UK', 2], 'Mbaruk Springs': ['UK', 1], 'Karigen': ['UK', 5], 'Oceanic': ['UK', 1], 'Pure Life': ['UK', 2], 'Madini': ['UK', 1], 'Asda': ['UK', 1], 'Volvic': ['UK', 1], 'Evian': ['UK', 1], 'Desperados Original Tequila': ['UK', 3], 'Naturis': ['UK', 1], 'Aldi': ['UK', 1], 'Oasis': ['UK', 1], 'E45': ['UK', 1], 'Dr. Pepper': ['UK', 1], 'Barrs': ['UK', 1], 'Glenfiddich': ['UK', 2], 'Highland Spring': ['UK', 1], 'Rowse': ['UK', 1], 'Rubicon': ['UK', 1], 'Right Guard': ['UK', 1], 'MacB': ['UK', 1], 'Euro Shopper': ['UK', 2], 'Princes Gate': ['UK', 2], 'Radnor': ['UK', 1], 'Ice Valley': ['UK', 1], 'Bio-D': ['UK', 1], 'innocent': ['UK', 3], 'best-one': ['UK', 1], 'Ecover': ['UK', 1], 'Compal': ['UK', 1], 'Fontes de La': ['UK', 1], 'Montes Libombos': ['UK', 2], 'Gorilla': ['UK', 1], 'Starbucks': ['UK', 1], 'Vim': ['UK', 1], 'Jik': ['UK', 1], 'Oros': ['UK', 1], 'Energade': ['UK', 2], 'Clere': ['UK', 1], 'Somol': ['UK', 11], 'Excella': ['UK', 1], 'Junglevites': ['UK', 1], 'Top Brown': ['UK', 1], 'Afia': ['UK', 5], 'JAM': ['UK', 1], 'ManziValley': ['UK', 2], 'Sunseed': ['UK', 12], 'Cape Aqua': ['UK', 1], 'vitamic c': ['UK', 1], 'Bakers': ['UK', 2], 'Zamgold': ['UK', 3], 'Oohlala': ['UK', 1], 'Fonte da Vida': ['UK', 5], 'Kool': ['UK', 1], 'Tangy Drinks Limited': ['UK', 3], 'Vengo': ['UK', 14], 'Thirsti': ['UK', 1], 'Aqua Smooth': ['UK', 4], 'Aquamist': ['UK', 1], 'Quencher': ['UK', 2], 'Jooz': ['UK', 1], 'Misty Cool': ['UK', 1], 'Royal Taste': ['UK', 2], 'Nasida': ['UK', 1], 'Milk Com': ['UK', 1], 'Valeur': ['UK', 5], 'Uhuru Peak': ['UK', 19], 'smart gin': ['UK', 31], \"Leader's Ananasi\": ['UK', 80], 'SeQua': ['UK', 8], 'Precious': ['UK', 46], 'Pangani': ['UK', 8], 'Super': ['UK', 2], 'SkyDots': ['UK', 1], 'Biowash': ['UK', 1], 'industria Quimica': ['UK', 1], 'Aqua Azul': ['UK', 5], 'Halo': ['UK', 1], 'Amalfi': ['UK', 1], 'Therapy Levels': ['UK', 1], 'Papilion': ['UK', 2], 'AquaVera': ['UK', 1], 'Sanex': ['UK', 1], 'Kikkoman': ['UK', 1], 'Gatorade': ['UK', 1], 'Colgate': ['UK', 1], 'Parachute': ['UK', 1], 'Diana Lotion': ['UK', 1], 'Boncabe Original': ['UK', 1], 'Red Bull': ['UK', 1], 'Summer': ['UK', 1], 'Vumba': ['MZ', 224], 'Listerine': ['US', 1], '7UP': ['US', 1], 'Drop of Zanzibar': ['TZ', 1], 'Rhodes Quality': ['ZA', 1], 'Uhai': ['TZ', 60], 'Azam': ['TZ', 14], 'Sprite': ['TZ', 15], 'Savanna': ['ZA', 19], 'Harrogate': ['GB', 16], 'Liz Earle': ['GB', 1], 'Malt drink': ['TZ', 4], 'Lowveld Favourites': ['ZA', 2], 'Master Kong': ['CN', 1], 'Kasapreko': ['GH', 1], 'gavi beverages': ['ZM', 12], 'Woolworths': ['ZA', 1], 'Cerebos': ['ZA', 5], 'Engen': ['MY', 1], 'Óleo Dona': ['SG', 73], 'Safari': ['BE', 1], 'Castle Lite': ['BE', 1], \"Redd's\": ['BE', 1], 'Simba Table Vinegar': ['TZ', 1], 'Juicy Ginger': ['ZM', 1], 'Fiesta': ['MZ', 2], 'Clover': ['ZA', 1], 'Maeva': ['MZ', 21], 'Frozy': ['MZ', 766], 'Cantu': ['US', 1], 'Mega We care': ['TH', 1], 'Sierra de los Padres': ['AR', 1], 'Pera fresh produce of Tanzania': ['TZ', 1], 'Dettol': ['GB', 1], 'aQuellé': ['ZA', 21], 'Brook Fresh': ['IN', 5], 'Super Burudani': ['TZ', 80], 'Sundrop': ['TZ', 8], 'Canadian Drinking Water': ['TZ', 51], 'Fula': ['PT', 4], 'Air Scents': ['ZA', 1], 'Fitch and leedes': ['ZA', 8], 'Continente': ['PT', 1], 'Ceres': ['ZA', 1], 'Montemor': ['MZ', 59], 'Spar': ['ZA', 1], 'Danone': ['FR', 1], 'Nutriday': ['FR', 3], 'Afya': ['TZ', 3], 'Dove': ['GB', 1], 'Sunlight': ['GB', 37], 'Omo': ['GB', 2], 'Handy Andy': ['GB', 1], 'Robertsons': ['GB', 1], 'Água de Namaacha': ['MZ', 2287], 'Fonte Fresca': ['MZ', 15], 'Californian': ['ZM', 9], 'Sayona Twist': ['TZ', 34], 'Galp': ['PT', 1], 'Tesco': ['GB', 1], 'Tesco Finest': ['GB', 1], 'Zan Aqua': ['TZ', 1], 'Faith in Nature': ['GB', 1], 'Irn-Bru': ['GB', 2], 'Co-op': ['GB', 2], 'Tal': ['GB', 1], 'Fizz': ['MZ', 1], 'Aquaplus': ['MZ', 139], 'Windhoek': ['NA', 6], 'K-Vant': ['TZ', 6], 'Aleo': ['LT', 2], 'Dew Drop': ['TZ', 11], 'Flash': ['US', 1], 'Fairy': ['US', 1], 'Aussie': ['US', 2], 'cotanak': ['TR', 1], 'B&R': ['ZA', 1], 'Heineken': ['NL', 7], 'Hill Water': ['TZ', 3], 'NIVEA': ['DE', 1], 'Sparletta': ['US', 3], 'Bonaqua': ['US', 19], 'Fanta': ['US', 5], 'Coca-Cola': ['US', 31], 'Keringet': ['US', 1], 'Dasani': ['US', 21], 'Kilimanjaro': ['US', 20], 'Schweppes': ['US', 16], 'Krest': ['US', 2], 'Aquasavana': ['US', 13], 'NINJA': ['US', 2], 'Valpre': ['US', 1], 'Stoney': ['US', 1], 'Method': ['US', 1], \"d'lite\": ['ZM', 1], 'Super Shake': ['ZM', 4], 'Boom Sparkle Plus': ['ZM', 1], 'Bigtree': ['ZM', 27], 'Boom Force': ['ZM', 1], 'Chibwantu': ['ZM', 10], 'ZamSip': ['ZM', 2], 'Fruiticana': ['ZM', 10], 'Vatra': ['ZM', 1], 'Aloha': ['ZM', 1], 'Brothers': ['ZM', 1], 'Milk Maheu': ['ZM', 2], 'Perfect White': ['CI', 1], 'Dream Cosmetics': ['CI', 11], 'Fusion': ['ZA', 1], 'Sayona': ['TZ', 1], 'Bonlife': ['UA', 1], 'Mistolin': ['PT', 1], 'ACTY': ['PT', 1], 'Nevada': ['MZ', 50], 'ACACIA FOOD BEVERAGES LTD': ['ZM', 2], 'Flamingo': ['ZM', 1], 'Acacia Food & Beverages Ltd': ['ZM', 3], 'Minute Maid': ['MZ', 1], 'Lucozade': ['JP', 1], 'Tropical Heat': ['KE', 1], 'Asas Diaries': ['TZ', 1], 'Mo': ['TZ', 81], 'Maisha': ['TZ', 38], 'Masafi': ['TZ', 50], 'Cadbury': ['US', 1], 'Satiskin': ['ZA', 2], 'Jembe': ['TZ', 5], 'Izy': ['MZ', 15], 'Double Kick': ['TZ', 29], 'Cussons': ['GB', 1], 'Pepsi': ['US', 1], 'Mirinda': ['US', 10], 'Aquaclear': ['US', 1]}, {'Mo': ['TZ', 12], 'Dasani': ['US', 6], 'Coca-Cola': ['US', 5], 'Frozy': ['MZ', 1], 'Lucozade': ['JP', 3], 'Uhai': ['TZ', 1], 'Sparletta': ['US', 8], 'Vimto': ['GB', 14], 'Dettol': ['GB', 5], 'Sprite': ['US', 2], 'Fiesta': ['MZ', 2], 'Super': ['UK', 1], 'Azam': ['TZ', 16], 'Aquadrops': ['UK', 1], 'ManziValley': ['MZ', 2], 'Fanta': ['US', 223], 'Izy': ['MZ', 14], 'Glaciar': ['MZ', 5], 'Papilion': ['UK', 2], 'Diana Lotion': ['UK', 1], 'Aquamist': ['KE', 1], 'ACTY': ['PT', 1], 'Clover': ['ZA', 1], 'Summer': ['UK', 1], 'Bonlife': ['UA', 1], 'Vumba': ['MZ', 685], 'Mega We care': ['TH', 1], \"Leader's Ananasi\": ['TZ', 44], 'Listerine': ['US', 1], 'Tesco': ['GB', 1], 'Ceres': ['ZA', 1], 'Sayona': ['TZ', 1], 'Fizz': ['MZ', 61], 'Vengo': ['MZ', 1], 'Galp': ['PT', 1], 'Oceanic': ['UK', 1], 'Continente': ['PT', 1], 'Bigtree': ['ZM', 12], 'Oasis': ['AE', 1], \"d'lite\": ['ZM', 1], 'Keringet': ['US', 1], 'Sundrop': ['TZ', 10], 'Gatorade': ['UK', 1], 'Krest': ['US', 2], 'Nutriday': ['FR', 3], 'Pepsi': ['US', 1], 'Malt drink': ['TZ', 1], 'Flamingo': ['ZM', 5], 'Clere': ['UK', 1], 'Recheio': ['MZ', 2], 'Oasis (ZA)': ['ZA', 1], 'Aleo': ['LT', 1], 'Fula': ['PT', 2], 'Safari King': ['KE', 1], 'Montemor': ['MZ', 23], 'Cadbury': ['US', 1], 'Danone': ['FR', 1], 'Top Brown': ['UK', 1], 'Quencher': ['KE', 4], 'Flo': ['UK', 1], 'Boncabe Original': ['UK', 1], 'Minute Maid': ['US', 1], 'Harrogate': ['GB', 16], 'Aquaplus': ['MZ', 10], 'Compal': ['PT', 1], 'Hill Water': ['TZ', 13], 'Madini': ['UK', 1], 'Bonaqua': ['US', 319], 'Água de Namaacha': ['MZ', 415], 'Heineken': ['NL', 7], 'Oros': ['UK', 1], 'NIVEA': ['DE', 1], 'Brook Fresh': ['IN', 8], 'Flash': ['US', 1], 'Cerebos': ['ZA', 5], 'Maeva': ['MZ', 45], 'Fonte da Vida': ['MZ', 5], 'Vitale': ['FR', 5], 'Afya': ['TZ', 3], 'Lowveld Favourites': ['ZA', 1], 'Vim': ['UK', 1], 'Windhoek': ['NA', 6], 'Matisana': ['MZ', 23], 'Sierra de los Padres': ['AR', 1], 'Drop of Zanzibar': ['TZ', 1], 'gold emblem': ['UK', 1], 'Aquaclear': ['US', 2], 'Californian': ['ZM', 3], 'Fruiticana': ['ZM', 10], 'Chibwantu': ['ZM', 1], 'Karigen': ['KE', 3], 'Somol': ['UK', 27], 'Princes Gate': ['UK', 2], 'Zam-Zam': ['KE', 1], 'Appolo Wine Limited': ['UK', 2], 'cotanak': ['TR', 1], 'Dream Cosmetics': ['CI', 11], 'U-Fresh': ['TZ', 1], 'Ice Valley': ['UK', 1], 'Jooz': ['UK', 1], 'Super Burudani': ['TZ', 76], 'Aquasavana': ['US', 2], 'K-Vant': ['TZ', 9], 'Aloha': ['ZM', 1], 'Naivas': ['KE', 1], '7UP': ['US', 1], 'Method': ['US', 2], 'Misty Cool': ['UK', 1], 'Sunseed': ['ZA', 12], 'Kabazi': ['KE', 1], 'SkyDots': ['UK', 1], 'Valeur': ['BE', 5], 'vitamic c': ['UK', 1], 'Aber Drips': ['UK', 1], 'Woolworths': ['ZA', 1], 'Robertsons': ['GB', 1], 'Tropical Heat': ['KE', 1], 'Oohlala': ['UK', 1], 'Excella': ['SG', 1], 'Asas Diaries': ['TZ', 1], 'Savanna': ['ZA', 19], 'Schweppes': ['US', 4], 'Nevada': ['MZ', 11], 'Double Kick': ['TZ', 28], 'Glenfiddich': ['UK', 2], 'Vatra': ['ZM', 18], 'Kasapreko': ['GH', 1], 'Crystalina': ['MZ', 6], 'Jik': ['GB', 1], 'Pure Water': ['UK', 1], 'Milk Com': ['UK', 1], 'best-one': ['UK', 1], 'Junglevites': ['UK', 1], 'Sunlight': ['GB', 2], 'Fonte Pura': ['MZ', 61], 'Aqua Azul': ['UK', 4], 'NINJA': ['UK', 2], 'ZamSip': ['ZM', 2], 'Nasida': ['UK', 1], 'Solaray Dietary supplement': ['UK', 1], 'Oasis (UK)': ['US', 1], 'Brava': ['KE', 1], 'Mbaruk Springs': ['UK', 1], 'Fonte Fresca': ['MZ', 219], 'smart gin': ['UK', 2], 'Kisima': ['TZ', 1], 'Boom Force': ['ZM', 1], 'Fitch and leedes': ['ZA', 8], 'Zamgold': ['ZW', 3], 'Rhodes Quality': ['ZA', 1], 'Fairy': ['US', 1], 'Satiskin': ['ZA', 2], 'Montes Libombos': ['UK', 1], 'Sanex': ['UK', 1], 'Castle Lite': ['BE', 2], 'industria Quimica': ['UK', 1], 'Air Scents': ['ZA', 1], 'Milk Maheu': ['ZM', 2], 'Zan Aqua': ['TZ', 1], 'Safari': ['BE', 1], 'Halo': ['UK', 1], 'Pure Life': ['UK', 2], 'B&R': ['ZA', 1], 'Stoney': ['US', 1], 'AquaVera': ['UK', 1], 'aQuellé': ['ZA', 20], 'Cantu': ['US', 1], 'Canadian Drinking Water': ['TZ', 1], 'Wetlands Springs': ['KE', 1], 'innocent': ['US', 1], 'Thirsti': ['ZA', 1], 'Safi': ['KE', 1], 'Red Bull': ['AT', 1], 'Mistolin': ['PT', 2], 'gavi beverages': ['ZM', 4], 'Irn-Bru': ['GB', 1], 'Simba Table Vinegar': ['TZ', 1], 'Liz Earle': ['GB', 1], 'Super Shake': ['ZM', 4], 'Boom Sparkle Plus': ['ZM', 1], \"Redd's\": ['BE', 1], 'JAM': ['UK', 1], 'KOL': ['UK', 1], 'Engen': ['MY', 1], 'Cussons': ['GB', 1], 'Cape Aqua': ['UK', 1], 'Royal Taste': ['UK', 2], 'Tal': ['GB', 1], 'Desperados Original Tequila': ['NL', 3], 'Fontes de La': ['UK', 1], 'Afia': ['KE', 5], 'Omo': ['GB', 2], 'Biowash': ['UK', 1], 'Kool': ['UK', 1], 'Kilimanjaro': ['US', 20], 'Juicy Ginger': ['ZM', 1], 'Amalfi': ['UK', 1], 'Pangani': ['UK', 8], 'Energade': ['UK', 1], 'Óleo Dona': ['SG', 3], 'Jembe': ['TZ', 4], 'Master Kong': ['CN', 1], 'Co-op': ['GB', 1], 'Handy Andy': ['GB', 1], 'Perfect White': ['CI', 1], 'Valpre': ['US', 1], 'Bakers': ['UK', 2], 'Parachute': ['UK', 1], 'Kikkoman': ['UK', 1], 'Pera fresh produce of Tanzania': ['TZ', 1]}, {'Rehaan ice': ['KE', 11], \"Sainsbury's\": ['UK', 1], 'M&S Food': ['UK', 1], 'Solaray Dietary supplement': ['UK', 1], 'Molton Brown': ['UK', 1], 'Kirkland Signature': ['UK', 1], 'Hill Water': ['TZ', 4], 'Sparletta': ['US', 3], 'gold emblem': ['UK', 1], 'ACACIA FOOD BEVERAGES LTD': ['ZM', 2], 'Flamingo': ['ZM', 1], 'Recheio': ['MZ', 23], 'Vimto': ['GB', 147], 'Big Bottle General Dealers': ['UK', 7], 'Crystalina': ['UK', 17], 'Matisana': ['MZ', 27], 'Faith in Nature': ['GB', 1], 'drinking water': ['UK', 1], 'Aber Drips': ['UK', 13], 'Vitale': ['FR', 15], 'Pure Water': ['UK', 1], 'Appolo Wine Limited': ['UK', 2], 'Mbaruk Springs': ['UK', 1], 'Karigen': ['UK', 1], 'Oceanic': ['UK', 3], 'Brook Fresh': ['IN', 35], 'Brooks': ['UK', 10], 'Pure Life': ['UK', 2], 'Madini': ['UK', 3], 'Aquafina': ['US', 16], 'Method': ['US', 1], 'Flash': ['US', 1], 'Uhai': ['TZ', 51], 'Woolworths': ['ZA', 1], 'Spar': ['ZA', 1], 'Água de Namaacha': ['MZ', 2824], 'Asda': ['UK', 1], 'Aldi': ['UK', 1], 'Volvic': ['FR', 1], 'Evian': ['UK', 1], 'Desperados Original Tequila': ['UK', 38], 'NIVEA': ['DE', 1], 'Fanta': ['US', 59], 'Naturis': ['UK', 1], 'Pepsi': ['US', 1], '7UP': ['US', 1], 'Sprite': ['US', 47], 'Bonaqua': ['US', 30], 'Fairy': ['US', 1], 'Coca-Cola': ['US', 56], 'Minute Maid': ['US', 12], 'Aleo': ['LT', 2], 'Bonlife': ['UA', 1], 'Cussons': ['GB', 1], 'Imperial Leather': ['GB', 17], 'Oasis': ['UK', 1], 'Tesco': ['GB', 1], 'Co-op': ['GB', 2], 'E45': ['UK', 1], 'Emerge': ['GB', 1], 'Dr. Pepper': ['UK', 2], 'Flora': ['NL', 1], 'Barrs': ['UK', 1], 'Irn-Bru': ['GB', 2], 'Barr': ['GB', 1], 'Dove': ['GB', 1], 'Glenfiddich': ['UK', 2], 'Highland Spring': ['GB', 1], 'Schweppes': ['US', 17], 'Rowse': ['UK', 1], 'Dettol': ['GB', 1], 'Rubicon': ['UK', 1], 'shell': ['KE', 1], 'Right Guard': ['UK', 1], 'Buxton': ['GB', 1], 'Keringet': ['US', 9], 'MacB': ['UK', 1], 'Euro Shopper': ['UK', 2], 'Princes Gate': ['UK', 1], 'Radnor': ['UK', 1], 'Ice Valley': ['UK', 1], 'Bio-D': ['UK', 2], 'innocent': ['US', 3], 'Tesco Finest': ['GB', 1], 'best-one': ['UK', 1], 'Lucozade': ['JP', 2], 'Boost': ['GB', 1], 'Harrogate': ['GB', 16], 'Liz Earle': ['GB', 1], 'Power Play': ['US', 77], 'Predator Energy': ['US', 40], 'Mo': ['TZ', 1126], 'Banana Boat': ['US', 20], 'Ecover': ['UK', 1], 'Dasani': ['US', 21], 'Kilimanjaro': ['US', 20], 'Krest': ['US', 9], 'Novida': ['US', 1], 'Stoney': ['US', 1], 'Fula': ['PT', 6], 'Galp': ['PT', 1], 'Compal': ['UK', 1], 'Continente': ['PT', 1], 'Fontes de La': ['UK', 1], 'Mistolin': ['PT', 1], 'ACTY': ['PT', 1], 'Montes Libombos': ['UK', 3], 'Gorilla': ['UK', 1], 'Maeva': ['MZ', 21], 'Starbucks': ['UK', 1], 'Cerebos': ['ZA', 6], 'Cadbury': ['US', 1], 'Sunlight': ['GB', 1], 'Omo': ['GB', 2], 'Vim': ['UK', 1], 'Handy Andy': ['GB', 1], 'Jik': ['UK', 1], 'Savanna': ['ZA', 45], 'Listerine': ['US', 1], 'Ceres': ['ZA', 1], 'Clover': ['ZA', 1], 'Oros': ['UK', 5], 'Energade': ['UK', 2], 'Engen': ['MY', 2], 'Satiskin': ['ZA', 2], 'Clere': ['UK', 1], 'Tal': ['GB', 1], \"d'lite\": ['ZM', 1], 'Somol': ['UK', 11], 'Excella': ['UK', 1], 'Boston': ['ZA', 1], 'Robertsons': ['GB', 1], 'Windhoek': ['NA', 15], 'Air Scents': ['ZA', 1], 'Danone': ['FR', 5], 'Junglevites': ['UK', 1], 'Top Brown': ['UK', 2], 'Rhodes Quality': ['ZA', 1], 'Kuche Kuche': ['FR', 17], 'Nyika': ['MW', 32], 'Lowveld Favourites': ['ZA', 4], 'Afia': ['KE', 2], 'Mt. Kenyan': ['UK', 16], 'Afya': ['TZ', 6], 'PEPTANG': ['KE', 12], 'ZAMHA': ['ZM', 11], 'Ama Sipsip': ['ZM', 13], 'JAM': ['UK', 1], 'aQuellé': ['ZA', 1], 'Nutriday': ['FR', 3], 'Quencher': ['KE', 7], 'Rwenzori': ['US', 2], 'Ilara': ['KE', 1], 'Montemor': ['MZ', 61], 'Azam': ['TZ', 2], 'Malt drink': ['TZ', 14], 'Acacia Food & Beverages Ltd': ['ZM', 3], 'Super Shake': ['ZM', 9], 'Boom Sparkle Plus': ['ZM', 1], 'Bigtree': ['ZM', 64], 'Boom Force': ['ZM', 1], 'Chibwantu': ['ZM', 21], 'ManziValley': ['MZ', 21], 'Sunseed': ['SG', 27], 'Vumba': ['MZ', 240], 'Californian': ['ZM', 16], 'Fusion': ['ZA', 1], 'Zan Aqua': ['TZ', 1], 'Fitch and Leedes GINGER ALE': ['UK', 7], 'Fitch and leedes': ['ZA', 8], 'Fiesta': ['MZ', 10], 'Fonte Fresca': ['MZ', 67], 'Aquavita': ['ZM', 22], 'ZamSip': ['ZM', 2], 'Thumbsup': ['MW', 7], 'Mirinda': ['US', 26], 'Cape Aqua': ['UK', 1], 'vitamic c': ['UK', 1], 'Bakers': ['UK', 2], 'Zamgold': ['ZW', 23], 'Oohlala': ['UK', 1], 'Fruiticana': ['ZM', 1], 'Vatra': ['ZM', 57], 'Aloha': ['ZM', 1], 'Trade Kings': ['ZM', 13], 'Brothers': ['ZM', 1], 'B&R': ['ZA', 1], 'Fairy Bottiling (Z)': ['ZM', 28], 'Aquasavana': ['US', 15], 'Fonte da Vida': ['MZ', 6], 'Fonte Pura': ['UK', 62], 'Flo': ['UK', 12], 'Kool': ['UK', 1], 'Aquaclear': ['US', 3], 'Milk Maheu': ['ZM', 2], 'Tangy Drinks Limited': ['UK', 1], 'Confiança': ['MZ', 1], 'Vengo': ['MZ', 14], 'Fizz': ['MZ', 1], 'Aquaplus': ['MZ', 141], 'Frozy': ['MZ', 786], 'Izy': ['MZ', 17], 'Thirsti': ['UK', 1], 'Nutricom': ['UK', 14], 'Aqua Smooth': ['UK', 4], 'Kasapreko': ['GH', 1], 'KCC': ['KE', 37], 'Quest': ['KE', 12], 'Kabazi': ['KE', 1], 'Aquamist': ['KE', 4], 'Five Star': ['UK', 50], 'Tropical Heat': ['KE', 1], 'Simba Table Vinegar': ['TZ', 1], 'Toss': ['KE', 2], 'Tuzo': ['KE', 1], 'club': ['KE', 3], 'KOL': ['UK', 16], 'Brookside': ['KE', 8], 'Naivas': ['KE', 21], 'Elianto': ['KE', 8], 'BIO': ['KE', 16], 'Revin Zambia Limited': ['ZM', 17], 'Juicy Ginger': ['ZM', 1], 'Fresha': ['KE', 5], 'TREE TOP': ['KE', 7], 'gavi beverages': ['ZM', 33], 'Safi': ['KE', 8], 'yenbu': ['KE', 12], 'Jooz': ['UK', 1], 'Planet': ['KE', 20], 'Fields of Africa': ['KE', 15], 'Zam-Zam': ['KE', 17], 'ZAMZAM': ['UK', 8], 'Safari King': ['KE', 18], 'Safari': ['BE', 1], 'Wetlands Springs': ['KE', 11], 'Warda': ['KE', 5], 'Misty Cool': ['UK', 1], 'Royal Taste': ['UK', 2], 'Kisima': ['TZ', 1], 'Ribena': ['JP', 18], 'Bamba': ['UK', 15], 'Rayaan Ice': ['KE', 12], 'Bahati Dairies': ['KE', 1], 'Brava': ['KE', 21], 'Salama Ice': ['UK', 60], 'Halal ice': ['KE', 3], 'Blue Band': ['NL', 24], 'Aquadrops': ['UK', 2], 'Nasida': ['UK', 2], 'GEISHA GERM GUARD': ['KE', 12], 'Perfect White': ['CI', 1], 'Dream Cosmetics': ['CI', 11], 'VESTLINE': ['UK', 3], 'Castle Lite': ['BE', 1], \"Redd's\": ['BE', 1], 'Mountain Dew': ['US', 8], 'Dew Drop': ['TZ', 16], 'TOMATO SAUCE': ['UK', 11], 'Red Gold': ['TZ', 5], 'K-Vant': ['TZ', 6], 'U-Fresh': ['TZ', 1], 'Jembe': ['TZ', 7], 'Milk Com': ['UK', 1], 'Dabaga Vegetable & Fruits Canning': ['UK', 1], 'Sayona': ['TZ', 1], 'Sayona Twist': ['TZ', 34], 'Super Burudani': ['TZ', 127], 'Valeur': ['UK', 31], 'Uhuru Peak': ['UK', 19], 'Sundrop': ['TZ', 11], 'Double Kick': ['TZ', 232], 'Pera fresh produce of Tanzania': ['TZ', 1], 'smart gin': ['UK', 31], 'Mango Crush': ['UK', 11], \"Leader's Ananasi\": ['TZ', 602], 'Mo Portello': ['TZ', 41], 'Masafi': ['TZ', 78], 'Maisha': ['TZ', 43], 'Oryx Energies': ['MT', 30], 'Drop of Zanzibar': ['TZ', 1], 'Pawa Plus': ['TZ', 1], 'Asas Diaries': ['TZ', 1], 'Canadian Drinking Water': ['TZ', 83], 'POWER TANGAWIZI': ['UK', 4], 'Furaha': ['UK', 13], 'SeQua': ['UK', 8], 'Precious': ['UK', 46], 'NINJA': ['UK', 2], 'Pangani': ['UK', 18], 'Master Kong': ['CN', 1], 'Super': ['UK', 2], 'Nutra Shine Professional': ['UK', 1], 'SOY SAUCE': ['UK', 1], 'Carrent': ['KE', 8], 'SkyDots': ['UK', 9], 'Sierra de los Padres': ['AR', 1], 'Biowash': ['UK', 1], 'industria Quimica': ['UK', 2], 'Aqua Azul': ['UK', 5], 'Downy': ['US', 20], 'Aussie': ['US', 2], 'Halo': ['UK', 1], 'Cantu': ['US', 1], 'Amalfi': ['UK', 1], 'Therapy Levels': ['UK', 1], 'HOBBY': ['TR', 17], 'Papilion': ['UK', 2], 'cotanak': ['TR', 1], 'AquaVera': ['UK', 1], 'Heineken': ['NL', 12], 'Sanex': ['UK', 1], 'Kikkoman': ['UK', 1], 'Gatorade': ['UK', 1], 'Colgate': ['UK', 1], 'Mega We care': ['TH', 1], 'Parachute': ['UK', 1], 'Diana Lotion': ['UK', 1], 'Yasaki': ['AE', 54], 'Boncabe Original': ['UK', 1], 'Red Bull': ['UK', 9], 'Valpre': ['US', 1], 'Sobo': ['FR', 14], 'Óleo Dona': ['SG', 75], 'Summer': ['UK', 1], 'Nevada': ['MZ', 75]}, {'Rehaan ice': ['KE', 11], \"Sainsbury's\": ['UK', 1], 'M&S Food': ['UK', 1], 'Solaray Dietary supplement': ['UK', 1], 'Molton Brown': ['UK', 1], 'Kirkland Signature': ['UK', 1], 'Hill Water': ['TZ', 4], 'Sparletta': ['US', 4], 'gold emblem': ['UK', 1], 'ACACIA FOOD BEVERAGES LTD': ['ZM', 2], 'Flamingo': ['ZM', 1], 'Recheio': ['MZ', 32], 'Vimto': ['GB', 147], 'Big Bottle General Dealers': ['UK', 7], 'Crystalina': ['UK', 18], 'Matisana': ['MZ', 27], 'Faith in Nature': ['GB', 1], 'drinking water': ['UK', 3], 'Aber Drips': ['UK', 13], 'Vitale': ['FR', 15], 'Pure Water': ['UK', 1], 'Água da Bela Vista': ['UK', 1], 'Appolo Wine Limited': ['UK', 2], 'Mbaruk Springs': ['UK', 1], 'Karigen': ['UK', 1], 'Oceanic': ['UK', 3], 'Brook Fresh': ['IN', 35], 'Brooks': ['UK', 10], 'Pure Life': ['UK', 2], 'Madini': ['UK', 3], 'Aquafina': ['US', 16], 'Method': ['US', 1], 'Nutricom': ['UK', 31], 'Flash': ['US', 1], 'Uhai': ['TZ', 51], 'Woolworths': ['ZA', 1], 'Spar': ['ZA', 1], 'Água de Namaacha': ['MZ', 3076], 'Asda': ['UK', 1], 'Aldi': ['UK', 1], 'Volvic': ['FR', 1], 'Evian': ['UK', 1], 'Desperados Original Tequila': ['NL', 38], 'NIVEA': ['DE', 1], 'Fanta': ['US', 59], 'Naturis': ['UK', 1], 'Pepsi': ['US', 1], '7UP': ['US', 1], 'Sprite': ['US', 47], 'Bonaqua': ['US', 1], 'Fairy': ['US', 1], 'Coca-Cola': ['US', 187], 'Minute Maid': ['US', 12], 'Aleo': ['LT', 2], 'Bonlife': ['UA', 1], 'Cussons': ['GB', 1], 'Imperial Leather': ['GB', 17], 'Oasis': ['UK', 1], 'Tesco': ['GB', 1], 'Co-op': ['GB', 2], 'E45': ['UK', 1], 'Emerge': ['GB', 1], 'Dr. Pepper': ['UK', 2], 'Flora': ['NL', 1], 'Barrs': ['UK', 1], 'Irn-Bru': ['GB', 2], 'Barr': ['GB', 1], 'Dove': ['GB', 1], 'Glenfiddich': ['UK', 2], 'Highland Spring': ['GB', 1], 'Schweppes': ['US', 17], 'Rowse': ['UK', 1], 'Dettol': ['GB', 1], 'Rubicon': ['UK', 1], 'shell': ['KE', 1], 'Right Guard': ['UK', 1], 'Buxton': ['GB', 1], 'Keringet': ['US', 9], 'MacB': ['UK', 1], 'Euro Shopper': ['UK', 2], 'Princes Gate': ['UK', 1], 'Radnor': ['UK', 1], 'Ice Valley': ['UK', 1], 'Bio-D': ['UK', 2], 'innocent': ['US', 4], 'Tesco Finest': ['GB', 1], 'best-one': ['UK', 1], 'Lucozade': ['JP', 2], 'Boost': ['GB', 1], 'Harrogate': ['GB', 16], 'Liz Earle': ['GB', 1], 'Power Play': ['US', 77], 'Predator Energy': ['US', 43], 'Mo': ['TZ', 1133], 'Banana Boat': ['US', 20], 'Ecover': ['UK', 1], 'Dasani': ['US', 21], 'Kilimanjaro': ['US', 20], 'Valpre': ['US', 2], 'Krest': ['US', 9], 'Novida': ['US', 1], 'Stoney': ['US', 1], 'Fula': ['PT', 8], 'Galp': ['PT', 1], 'Compal': ['UK', 1], 'Continente': ['PT', 1], 'Fontes de La': ['UK', 1], 'Mistolin': ['PT', 1], 'ACTY': ['PT', 1], 'Montes Libombos': ['UK', 7], 'Gorilla': ['UK', 1], 'Maeva': ['MZ', 50], 'Starbucks': ['UK', 1], 'Cerebos': ['ZA', 6], 'Cadbury': ['US', 1], 'Sunlight': ['GB', 1], 'Omo': ['GB', 2], 'Vim': ['UK', 1], 'Handy Andy': ['GB', 1], 'Jik': ['UK', 1], 'Savanna': ['ZA', 45], 'Listerine': ['US', 1], 'Ceres': ['ZA', 1], 'Clover': ['ZA', 3], 'Oros': ['UK', 5], 'Energade': ['UK', 1], 'Engen': ['MY', 2], 'Satiskin': ['ZA', 2], 'Clere': ['UK', 1], 'Sunseed': ['ZA', 27], 'Tal': ['GB', 1], \"d'lite\": ['ZM', 1], 'Somol': ['UK', 11], 'Excella': ['UK', 1], 'Boston': ['ZA', 1], 'Robertsons': ['GB', 1], 'Windhoek': ['NA', 15], 'Air Scents': ['ZA', 1], 'Danone': ['FR', 5], 'Junglevites': ['UK', 1], 'Kick0': ['MW', 26], 'Jive': ['ZA', 1], 'Top Brown': ['UK', 3], 'Rhodes Quality': ['ZA', 1], 'Kuche Kuche': ['FR', 17], 'Nyika': ['MW', 32], 'Lowveld Favourites': ['ZA', 4], 'Afia': ['KE', 2], 'Mt. Kenyan': ['UK', 16], 'Afya': ['TZ', 6], 'PEPTANG': ['KE', 12], 'ZAMHA': ['ZM', 11], 'Ama Sipsip': ['ZM', 13], 'JAM': ['UK', 1], 'aQuellé': ['ZA', 1], 'Nutriday': ['FR', 1], 'Quencher': ['KE', 7], 'Rwenzori': ['US', 2], 'Ilara': ['KE', 1], 'Montemor': ['MZ', 64], 'Azam': ['TZ', 2], 'Malt drink': ['TZ', 14], 'Acacia Food & Beverages Ltd': ['ZM', 3], 'Super Shake': ['ZM', 9], 'Boom Sparkle Plus': ['ZM', 1], 'Bigtree': ['ZM', 13], 'Boom Force': ['ZM', 1], 'Chibwantu': ['ZM', 21], 'ManziValley': ['MZ', 21], 'Óleo Dona': ['SG', 76], 'Vumba': ['MZ', 247], 'Californian': ['ZM', 20], 'Fusion': ['ZA', 6], 'Zan Aqua': ['TZ', 1], 'Fitch and Leedes GINGER ALE': ['UK', 7], 'Fitch and leedes': ['ZA', 8], 'Fiesta': ['MZ', 10], 'Fonte Fresca': ['MZ', 78], 'Aquavita': ['ZM', 22], 'ZamSip': ['ZM', 2], 'Thumbsup': ['MW', 19], 'Mirinda': ['US', 28], 'Cape Aqua': ['UK', 1], 'Quench': ['DK', 21], 'vitamic c': ['UK', 1], 'Bakers': ['UK', 2], 'Zamgold': ['ZW', 23], 'Oohlala': ['UK', 1], 'Bigtree Beverages LTD': ['ZM', 6], 'Fruiticana': ['ZM', 1], 'Vatra': ['ZM', 69], 'Aloha': ['ZM', 1], 'Trade Kings': ['ZM', 13], 'Brothers': ['ZM', 1], 'B&R': ['ZA', 1], 'Fairy Bottiling (Z)': ['ZM', 45], 'Aquasavana': ['US', 15], 'Fonte da Vida': ['MZ', 8], 'Fonte Pura': ['UK', 67], 'Flo': ['UK', 12], 'Kool': ['UK', 5], 'Aquaclear': ['US', 3], 'Milk Maheu': ['ZM', 2], 'Tangy Drinks Limited': ['UK', 1], 'Confiança': ['MZ', 1], 'H2Zero': ['UK', 1], 'Vengo': ['MZ', 14], 'Fizz': ['MZ', 1], 'Aquaplus': ['MZ', 172], 'Frozy': ['MZ', 924], 'Izy': ['MZ', 33], 'Thirsti': ['UK', 1], 'Aqua Smooth': ['UK', 4], 'Kasapreko': ['GH', 1], 'Agua da Montanha': ['MZ', 1], 'KCC': ['KE', 37], 'Quest': ['KE', 12], 'Kabazi': ['KE', 1], 'Aquamist': ['KE', 4], 'Five Star': ['UK', 50], 'Tropical Heat': ['KE', 1], 'Simba Table Vinegar': ['TZ', 1], 'Toss': ['KE', 2], 'Tuzo': ['KE', 1], 'club': ['KE', 3], 'KOL': ['UK', 16], 'Brookside': ['KE', 8], 'Naivas': ['KE', 21], 'Elianto': ['KE', 8], 'BIO': ['KE', 16], 'Revin Zambia Limited': ['ZM', 20], 'Juicy Ginger': ['ZM', 1], 'Fresha': ['KE', 5], 'TREE TOP': ['KE', 7], 'gavi beverages': ['ZM', 42], 'Safi': ['KE', 8], 'yenbu': ['KE', 12], 'Jooz': ['UK', 1], 'Planet': ['KE', 20], 'Fields of Africa': ['KE', 15], 'Zam-Zam': ['KE', 17], 'ZAMZAM': ['UK', 8], 'Safari King': ['KE', 18], 'Safari': ['BE', 1], 'Wetlands Springs': ['KE', 11], 'Warda': ['KE', 5], 'Misty Cool': ['UK', 1], 'Royal Taste': ['UK', 2], 'Kisima': ['TZ', 1], 'Ribena': ['JP', 18], 'Bamba': ['UK', 15], 'Rayaan Ice': ['KE', 12], 'Bahati Dairies': ['KE', 1], 'Brava': ['KE', 21], 'Salama Ice': ['UK', 181], 'Halal ice': ['KE', 3], 'Blue Band': ['NL', 24], 'Aquadrops': ['UK', 2], 'Nasida': ['UK', 2], 'GEISHA GERM GUARD': ['KE', 12], 'Perfect White': ['CI', 1], 'Dream Cosmetics': ['CI', 11], 'VESTLINE': ['UK', 3], 'Castle Lite': ['BE', 1], \"Redd's\": ['BE', 1], 'Mountain Dew': ['US', 8], 'Dew Drop': ['TZ', 16], 'TOMATO SAUCE': ['UK', 11], 'Red Gold': ['TZ', 6], 'K-Vant': ['TZ', 6], 'U-Fresh': ['TZ', 1], 'Jembe': ['TZ', 7], 'Milk Com': ['UK', 1], 'Dabaga Vegetable & Fruits Canning': ['UK', 1], 'Sayona': ['TZ', 1], 'Sayona Twist': ['TZ', 34], 'Super Burudani': ['TZ', 127], 'Valeur': ['UK', 31], 'Uhuru Peak': ['UK', 19], 'Sundrop': ['TZ', 11], 'Double Kick': ['TZ', 232], 'Pera fresh produce of Tanzania': ['TZ', 1], 'smart gin': ['UK', 31], 'Mango Crush': ['UK', 11], \"Leader's Ananasi\": ['TZ', 602], 'Mo Portello': ['TZ', 41], 'Masafi': ['TZ', 92], 'Maisha': ['TZ', 43], 'Oryx Energies': ['MT', 30], 'Drop of Zanzibar': ['TZ', 1], 'Pawa Plus': ['TZ', 1], 'Asas Diaries': ['TZ', 1], 'Canadian Drinking Water': ['TZ', 118], 'POWER TANGAWIZI': ['UK', 4], 'Furaha': ['UK', 13], 'SeQua': ['UK', 9], 'Precious': ['UK', 46], 'NINJA': ['UK', 2], 'Pangani': ['UK', 20], 'Master Kong': ['CN', 1], 'Super': ['UK', 2], 'Nutra Shine Professional': ['UK', 1], 'SOY SAUCE': ['UK', 1], 'Carrent': ['KE', 8], 'SkyDots': ['UK', 9], 'Kambucha': ['ZM', 28], 'Sierra de los Padres': ['AR', 1], 'Biowash': ['UK', 1], 'industria Quimica': ['UK', 2], 'Aqua Azul': ['UK', 8], 'Downy': ['US', 20], 'Aussie': ['US', 2], 'Halo': ['UK', 1], 'Cantu': ['US', 1], 'Amalfi': ['UK', 1], 'Mercadona': ['ES', 1], 'Therapy Levels': ['UK', 1], 'HOBBY': ['TR', 17], 'Papilion': ['UK', 2], 'cotanak': ['TR', 1], 'AquaVera': ['UK', 1], 'Heineken': ['NL', 12], 'Sanex': ['UK', 1], 'Kikkoman': ['UK', 1], 'Gatorade': ['UK', 1], 'Colgate': ['UK', 1], 'Mega We care': ['TH', 1], 'Parachute': ['UK', 1], 'Diana Lotion': ['UK', 1], 'Yasaki': ['AE', 54], 'Boncabe Original': ['UK', 1], 'Red Bull': ['UK', 9], 'Sobo': ['FR', 14], 'Summer': ['UK', 1], 'Nevada': ['MZ', 77]}, {'Mo': ['TZ', 92], 'Dasani': ['US', 21], 'Coca-Cola': ['US', 1], 'Lucozade': ['JP', 1], 'Uhai': ['TZ', 7], 'Pepsi': ['US', 1], 'Sparletta': ['US', 34], 'Fiesta': ['MZ', 6], 'Super': ['UK', 27], 'Azam': ['TZ', 16], 'SeQua': ['UK', 8], 'ManziValley': ['MZ', 21], 'Papilion': ['UK', 2], 'POWER TANGAWIZI': ['UK', 4], 'Maisha': ['TZ', 38], 'Diana Lotion': ['UK', 1], 'Right Guard': ['UK', 1], 'Method': ['US', 1], 'Clover': ['ZA', 1], 'Frozy': ['MZ', 1], 'Vumba': ['MZ', 760], 'Ecover': ['UK', 1], 'Listerine': ['US', 1], 'Tesco': ['GB', 1], 'Ceres': ['ZA', 2], 'Sayona': ['TZ', 8], 'Vengo': ['MZ', 1], 'Oceanic': ['UK', 1], 'Continente': ['PT', 1], 'Highland Spring': ['GB', 1], \"d'lite\": ['ZM', 1], 'best-one': ['UK', 1], 'Sprite': ['US', 27], 'Krest': ['US', 2], 'Afya': ['TZ', 4], 'Bigtree': ['ZM', 27], 'Fanta': ['US', 2], 'Recheio': ['MZ', 2], 'Água da Bela Vista': ['UK', 1], 'Fula': ['PT', 4], 'Minute Maid': ['US', 1], 'Danone': ['FR', 3], 'Aussie': ['US', 1], 'Colgate': ['UK', 1], 'Kirkland Signature': ['UK', 1], 'Top Brown': ['UK', 1], 'Quencher': ['KE', 4], 'Flo': ['UK', 12], 'Dettol': ['GB', 5], 'Compal': ['PT', 1], 'Bonaqua': ['US', 352], 'Água de Namaacha': ['MZ', 517], \"Sainsbury's\": ['UK', 1], 'Heineken': ['NL', 7], 'NIVEA': ['DE', 2], 'Izy': ['MZ', 15], 'Maeva': ['MZ', 96], 'Fizz': ['MZ', 557], 'Lowveld Favourites': ['ZA', 2], 'Matisana': ['MZ', 26], 'Flash': ['US', 2], 'Aquaclear': ['US', 1], 'Fruiticana': ['ZM', 10], 'Cadbury': ['US', 3], 'Zam-Zam': ['KE', 1], 'Nutra Shine Professional': ['UK', 1], 'cotanak': ['TR', 1], 'Evian': ['UK', 3], 'Schweppes': ['US', 5], 'Aquamist': ['KE', 2], 'Tesco Finest': ['GB', 1], 'K-Vant': ['TZ', 22], 'Aloha': ['ZM', 1], '7UP': ['US', 1], 'Misty Cool': ['UK', 1], 'SkyDots': ['UK', 1], 'Rubicon': ['UK', 1], 'Safari King': ['KE', 4], 'vitamic c': ['UK', 1], \"Dr. Strong's\": ['UK', 5], 'Aber Drips': ['UK', 1], 'Woolworths': ['ZA', 1], 'Excella': ['SG', 1], 'Nevada': ['MZ', 12], 'Aquaplus': ['MZ', 12], 'Ice Valley': ['UK', 4], 'Glenfiddich': ['UK', 2], 'Brothers': ['ZM', 1], 'innocent': ['US', 1], 'Kasapreko': ['GH', 1], 'Predator Energy': ['US', 3], 'Molton Brown': ['UK', 1], 'Emerge': ['GB', 1], 'Sundrop': ['TZ', 8], 'Jik': ['GB', 1], 'Pure Water': ['UK', 1], 'Buxton': ['GB', 1], 'Volvic': ['FR', 1], 'Malt drink': ['TZ', 1], 'Junglevites': ['UK', 1], 'Sunlight': ['GB', 2], 'SOY SAUCE': ['UK', 1], 'ZamSip': ['ZM', 2], 'Co-op': ['GB', 4], 'Fusion': ['ZA', 1], 'Oohlala': ['UK', 1], 'Boost': ['GB', 1], 'Oasis (UK)': ['US', 1], 'Mbaruk Springs': ['UK', 1], 'Irn-Bru': ['GB', 4], 'Dove': ['GB', 1], 'Karigen': ['KE', 5], 'smart gin': ['UK', 31], 'Kisima': ['TZ', 1], 'Masafi': ['TZ', 50], 'Fitch and leedes': ['ZA', 8], 'Fairy': ['US', 1], 'Satiskin': ['ZA', 2], 'Montes Libombos': ['UK', 2], 'industria Quimica': ['UK', 1], 'Air Scents': ['ZA', 1], 'Somol': ['UK', 11], 'Milk Maheu': ['ZM', 2], 'Zan Aqua': ['TZ', 1], 'Safari': ['BE', 1], 'Naturis': ['UK', 1], 'Stoney': ['US', 1], 'AquaVera': ['UK', 1], 'Furaha': ['UK', 13], 'aQuellé': ['ZA', 21], 'Wetlands Springs': ['KE', 1], 'Thirsti': ['ZA', 1], 'Safi': ['KE', 1], 'Kilimanjaro': ['US', 54], 'Mistolin': ['PT', 2], 'Confiança': ['MZ', 1], 'gavi beverages': ['ZM', 12], 'Sayona Twist': ['TZ', 34], 'Simba Table Vinegar': ['TZ', 1], 'Rowse': ['UK', 1], 'KOL': ['UK', 1], 'Crystalina': ['MZ', 17], 'Cussons': ['GB', 1], 'Fonte da Vida': ['MZ', 23], 'Tal': ['GB', 1], 'Afia': ['KE', 5], 'Biowash': ['UK', 1], 'Energade': ['UK', 2], 'Castle Lite': ['BE', 1], 'Aleo': ['LT', 1], 'Óleo Dona': ['SG', 73], 'Dr. Pepper': ['UK', 1], 'VESTLINE': ['UK', 3], 'Jembe': ['TZ', 5], 'Master Kong': ['CN', 1], 'Handy Andy': ['GB', 1], 'Perfect White': ['CI', 1], 'Bakers': ['UK', 2], 'Aqua Smooth': ['UK', 4], 'Parachute': ['UK', 1], 'Kikkoman': ['UK', 1], 'Vimto': ['GB', 14], 'Mirinda': ['US', 7], 'Drop of Zanzibar': ['TZ', 1], 'Aquadrops': ['UK', 1], 'Glaciar': ['MZ', 5], 'ACTY': ['PT', 1], 'Precious': ['UK', 46], 'Summer': ['UK', 1], 'Bonlife': ['UA', 1], 'Euro Shopper': ['UK', 2], 'Mega We care': ['TH', 1], \"Leader's Ananasi\": ['TZ', 80], 'Galp': ['PT', 1], 'Oasis': ['AE', 1], 'Keringet': ['US', 1], 'Gatorade': ['UK', 1], 'Nutriday': ['FR', 3], 'Flamingo': ['ZM', 8], 'Clere': ['UK', 1], 'Oasis (ZA)': ['ZA', 1], 'Starbucks': ['UK', 1], 'Montemor': ['MZ', 43], 'Boncabe Original': ['UK', 1], 'Harrogate': ['GB', 16], 'Radnor': ['UK', 1], 'Hill Water': ['TZ', 13], 'Madini': ['UK', 1], 'Oros': ['UK', 1], 'Brook Fresh': ['IN', 8], 'Cerebos': ['ZA', 5], 'Vitale': ['FR', 5], 'Refreshhh': ['UK', 1], 'Vim': ['UK', 1], 'Windhoek': ['NA', 6], 'Sierra de los Padres': ['AR', 1], 'gold emblem': ['UK', 1], 'Californian': ['ZM', 9], 'Chibwantu': ['ZM', 10], 'Princes Gate': ['UK', 2], 'Appolo Wine Limited': ['UK', 2], 'Uhuru Peak': ['UK', 19], 'Dream Cosmetics': ['CI', 11], 'U-Fresh': ['TZ', 1], 'Jooz': ['UK', 1], 'Barrs': ['UK', 1], 'Super Burudani': ['TZ', 80], 'Dew Drop': ['TZ', 11], 'Aquasavana': ['US', 13], 'E45': ['UK', 1], 'Lipton': ['GB', 1], 'Naivas': ['KE', 1], 'Sunseed': ['ZA', 12], 'Kabazi': ['KE', 1], 'Valeur': ['BE', 5], 'Fitch and Leedes GINGER ALE': ['UK', 7], 'Spar': ['ZA', 1], 'Robertsons': ['GB', 1], 'Tropical Heat': ['KE', 1], 'Asas Diaries': ['TZ', 1], 'Savanna': ['ZA', 19], 'Double Kick': ['TZ', 29], 'Vatra': ['ZM', 19], 'Bio-D': ['UK', 2], 'Milk Com': ['UK', 1], 'Fonte Pura': ['MZ', 61], 'Tangy Drinks Limited': ['UK', 3], 'Aqua Azul': ['UK', 5], 'NINJA': ['UK', 2], 'Nasida': ['UK', 1], 'Solaray Dietary supplement': ['UK', 1], 'Asda': ['UK', 1], 'Brava': ['KE', 1], 'Banana Boat': ['US', 20], 'Fonte Fresca': ['MZ', 221], 'Boom Force': ['ZM', 1], 'Zamgold': ['ZW', 3], 'Rhodes Quality': ['ZA', 1], 'Acacia Food & Beverages Ltd': ['ZM', 3], 'Gorilla': ['UK', 1], 'Sanex': ['UK', 1], 'Halo': ['UK', 1], 'Pure Life': ['UK', 2], 'B&R': ['ZA', 1], 'Cantu': ['US', 1], 'Canadian Drinking Water': ['TZ', 51], 'M&S Food': ['UK', 1], 'Red Bull': ['AT', 1], 'Monte Gurue': ['IN', 5], 'Liz Earle': ['GB', 1], 'Super Shake': ['ZM', 4], 'Boom Sparkle Plus': ['ZM', 1], \"Redd's\": ['BE', 1], 'JAM': ['UK', 1], 'Engen': ['MY', 1], 'Cape Aqua': ['UK', 1], 'TOMATO SAUCE': ['UK', 11], 'Royal Taste': ['UK', 2], 'Desperados Original Tequila': ['NL', 3], 'ACACIA FOOD BEVERAGES LTD': ['ZM', 2], 'Fontes de La': ['UK', 1], 'Omo': ['GB', 2], 'Kool': ['UK', 1], 'Juicy Ginger': ['ZM', 1], 'Amalfi': ['UK', 1], 'Pangani': ['UK', 8], 'MacB': ['GB', 2], 'Valpre': ['US', 1], 'Therapy Levels': ['UK', 1], 'Toss': ['KE', 2], 'Pera fresh produce of Tanzania': ['TZ', 1]})\n"
     ]
    }
   ],
   "source": [
    "# TODO write code here!\n",
    "import csv \n",
    "import numpy as np\n",
    "import matplotlib.pyplot as plt\n",
    "import random\n",
    "import os\n",
    "# indexes 3 == brand_name, 4 == manufacture_country origin country of the manfacturer, not nescessarily here it was bottled., 9 == bottle_count\n",
    "tuple_data = ()\n",
    "for subdir, dirs, files in os.walk(r'/Users/aragaom/homework03-aragaomateus/data/raw'):\n",
    "    for filename in files:\n",
    "        filepath = subdir + os.sep + filename\n",
    "        if filepath.endswith(\".csv\"):\n",
    "            with open(filepath,'r') as csv_data:\n",
    "                csv_reader = csv.reader(csv_data)\n",
    "                data = [file for file in csv_reader]\n",
    "            brand_name = [data[i][3] for i in range(len(data)) if i != 0 ]\n",
    "            manufacture_country = [data[i][4] for i in range(len(data)) if i != 0 ]\n",
    "            bottle_count = [data[i][9] for i in range(len(data)) if i != 0 ]\n",
    "            month_data = {brand_name[i]:[manufacture_country[i],int(bottle_count[i])] for i in range(len(brand_name))}\n",
    "            tuple_data = list(tuple_data)\n",
    "            tuple_data.append(month_data)\n",
    "            tuple_data = tuple(tuple_data)\n",
    "\n",
    "count = 0\n",
    "for dic in tuple_data:\n",
    "    for line in dic:\n",
    "        count+=1\n",
    "print(count)\n",
    "print(tuple_data)"
   ]
  },
  {
   "cell_type": "code",
   "execution_count": 23,
   "metadata": {},
   "outputs": [
    {
     "name": "stdout",
     "output_type": "stream",
     "text": [
      "Oasis                          AE    119  \n",
      "Yasaki                         AE    216  \n",
      "Sierra de los Padres           AR    11   \n",
      "Red Bull                       AT    41   \n",
      "Safari                         BE    71   \n",
      "Castle Lite                    BE    10   \n",
      "Redd's                         BE    9    \n",
      "Valeur                         BE    149  \n",
      "big8                           CA    4    \n",
      "Perfect White                  CI    11   \n",
      "Dream Cosmetics                CI    129  \n",
      "Master Kong                    CN    11   \n",
      "Longrich                       CN    1    \n",
      "NIVEA                          DE    14   \n",
      "Quench                         DK    63   \n",
      "Mercadona                      ES    3    \n",
      "Vitale                         FR    140  \n",
      "Volvic                         FR    8    \n",
      "Activia                        FR    2    \n",
      "Danone                         FR    30   \n",
      "Kuche Kuche                    FR    68   \n",
      "Nutriday                       FR    24   \n",
      "Sobo                           FR    56   \n",
      "Lanjarón                       FR    5    \n",
      "Vimto                          GB    673  \n",
      "Faith in Nature                GB    7    \n",
      "Lipton                         GB    3    \n",
      "Cussons                        GB    17   \n",
      "Imperial Leather               GB    85   \n",
      "Tesco                          GB    12   \n",
      "Co-op                          GB    20   \n",
      "Emerge                         GB    8    \n",
      "Irn-Bru                        GB    20   \n",
      "Barr                           GB    6    \n",
      "Dove                           GB    8    \n",
      "Highland Spring                GB    8    \n",
      "Dettol                         GB    23   \n",
      "Buxton                         GB    6    \n",
      "MacB                           GB    11   \n",
      "Tesco Finest                   GB    8    \n",
      "Boost                          GB    5    \n",
      "Harrogate                      GB    144  \n",
      "Liz Earle                      GB    12   \n",
      "Sunlight                       GB    73   \n",
      "Omo                            GB    20   \n",
      "Handy Andy                     GB    13   \n",
      "Jik                            GB    12   \n",
      "Tal                            GB    12   \n",
      "Castrol                        GB    2    \n",
      "Robertsons                     GB    12   \n",
      "Harpic                         GB    2    \n",
      "Drench                         GB    2    \n",
      "Robinsons                      GB    2    \n",
      "Gruum                          GB    1    \n",
      "Kasapreko                      GH    10   \n",
      "Monte Gurue                    IN    169  \n",
      "Brook Fresh                    IN    205  \n",
      "Lucozade                       JP    22   \n",
      "Ribena                         JP    90   \n",
      "Rehaan ice                     KE    55   \n",
      "Karigen                        KE    36   \n",
      "shell                          KE    5    \n",
      "Afia                           KE    74   \n",
      "PEPTANG                        KE    60   \n",
      "Quencher                       KE    76   \n",
      "Ilara                          KE    21   \n",
      "KCC                            KE    185  \n",
      "Quest                          KE    60   \n",
      "Kabazi                         KE    8    \n",
      "Aquamist                       KE    35   \n",
      "Rosy                           KE    22   \n",
      "Tropical Heat                  KE    9    \n",
      "Toss                           KE    12   \n",
      "Tuzo                           KE    5    \n",
      "club                           KE    16   \n",
      "Brookside                      KE    39   \n",
      "Naivas                         KE    107  \n",
      "Elianto                        KE    40   \n",
      "BIO                            KE    80   \n",
      "Fresha                         KE    29   \n",
      "TREE TOP                       KE    39   \n",
      "Safi                           KE    39   \n",
      "yenbu                          KE    48   \n",
      "Planet                         KE    100  \n",
      "Fields of Africa               KE    75   \n",
      "Zam-Zam                        KE    69   \n",
      "Safari King                    KE    82   \n",
      "Wetlands Springs               KE    57   \n",
      "Warda                          KE    25   \n",
      "Rayaan Ice                     KE    60   \n",
      "Bahati Dairies                 KE    7    \n",
      "Brava                          KE    88   \n",
      "Halal ice                      KE    21   \n",
      "GEISHA GERM GUARD              KE    60   \n",
      "Carrent                        KE    40   \n",
      "Fruitville                     KE    7    \n",
      "Aleo                           LT    14   \n",
      "Oryx Energies                  MT    120  \n",
      "Kick0                          MW    78   \n",
      "Nyika                          MW    128  \n",
      "Thumbsup                       MW    64   \n",
      "Cool Fizz                      MW    16   \n",
      "Cool Drop                      MW    74   \n",
      "Spa                            MW    45   \n",
      "Engen                          MY    15   \n",
      "Recheio                        MZ    145  \n",
      "Crystalina                     MZ    154  \n",
      "Matisana                       MZ    362  \n",
      "Água de Namaacha               MZ    10786\n",
      "Maeva                          MZ    532  \n",
      "Lepo                           MZ    20   \n",
      "Aquaplus                       MZ    1380 \n",
      "Água de Goba                   MZ    3    \n",
      "Montemor                       MZ    531  \n",
      "ManziValley                    MZ    132  \n",
      "Vumba                          MZ    4431 \n",
      "Fiesta                         MZ    76   \n",
      "Fonte Fresca                   MZ    1406 \n",
      "Confiança                      MZ    6    \n",
      "Fonte da Vida                  MZ    194  \n",
      "Fonte Pura                     MZ    740  \n",
      "Mazi                           MZ    46   \n",
      "Vengo                          MZ    305  \n",
      "Fizz                           MZ    1440 \n",
      "Frozy                          MZ    5438 \n",
      "Izy                            MZ    377  \n",
      "Agua da Montanha               MZ    27   \n",
      "AquaPlus                       MZ    4    \n",
      "Glaciar                        MZ    31   \n",
      "Nevada                         MZ    538  \n",
      "Windhoek                       NA    90   \n",
      "Desperados Original Tequila    NL    167  \n",
      "Flora                          NL    5    \n",
      "Blue Band                      NL    120  \n",
      "Heineken                       NL    83   \n",
      "Yazoo                          NL    2    \n",
      "Fula                           PT    53   \n",
      "Galp                           PT    10   \n",
      "Compal                         PT    12   \n",
      "Continente                     PT    12   \n",
      "Mistolin                       PT    17   \n",
      "ACTY                           PT    14   \n",
      "Excella                        SG    14   \n",
      "Óleo Dona                      SG    466  \n",
      "Mega We care                   TH    11   \n",
      "Voi                            TR    2    \n",
      "HOBBY                          TR    85   \n",
      "cotanak                        TR    11   \n",
      "Hill Water                     TZ    68   \n",
      "Uhai                           TZ    299  \n",
      "Mo                             TZ    4931 \n",
      "Afya                           TZ    41   \n",
      "Azam                           TZ    77   \n",
      "Malt drink                     TZ    66   \n",
      "Zan Aqua                       TZ    55   \n",
      "Simba Table Vinegar            TZ    12   \n",
      "Kisima                         TZ    8    \n",
      "Dew Drop                       TZ    108  \n",
      "Red Gold                       TZ    33   \n",
      "K-Vant                         TZ    89   \n",
      "U-Fresh                        TZ    26   \n",
      "Jembe                          TZ    105  \n",
      "Sayona                         TZ    25   \n",
      "Sayona Twist                   TZ    239  \n",
      "Super Burudani                 TZ    926  \n",
      "Sundrop                        TZ    95   \n",
      "Double Kick                    TZ    1136 \n",
      "Pera fresh produce of Tanzania TZ    11   \n",
      "Leader's Ananasi               TZ    2772 \n",
      "Mo Portello                    TZ    186  \n",
      "Masafi                         TZ    528  \n",
      "Maisha                         TZ    330  \n",
      "Drop of Zanzibar               TZ    73   \n",
      "Pawa Plus                      TZ    6    \n",
      "Asas Diaries                   TZ    11   \n",
      "Canadian Drinking Water        TZ    671  \n",
      "Anjari                         TZ    50   \n",
      "Diamond Rock                   TZ    8    \n",
      "Zenjy                          TZ    54   \n",
      "Bonlife                        UA    11   \n",
      "Sainsbury's                    UK    8    \n",
      "M&S Food                       UK    8    \n",
      "Solaray Dietary supplement     UK    11   \n",
      "Molton Brown                   UK    8    \n",
      "Kirkland Signature             UK    9    \n",
      "gold emblem                    UK    10   \n",
      "Big Bottle General Dealers     UK    42   \n",
      "drinking water                 UK    37   \n",
      "Aber Drips                     UK    68   \n",
      "Pure Water                     UK    11   \n",
      "Água da Bela Vista             UK    4    \n",
      "Appolo Wine Limited            UK    18   \n",
      "Mbaruk Springs                 UK    9    \n",
      "Oceanic                        UK    25   \n",
      "Brooks                         UK    50   \n",
      "Pure Life                      UK    18   \n",
      "Madini                         UK    19   \n",
      "Nutricom                       UK    107  \n",
      "Asda                           UK    8    \n",
      "Aldi                           UK    14   \n",
      "Evian                          UK    12   \n",
      "Cool Rivers                    UK    2    \n",
      "Naturis                        UK    8    \n",
      "E45                            UK    8    \n",
      "Dr. Pepper                     UK    14   \n",
      "Barrs                          UK    8    \n",
      "Glenfiddich                    UK    24   \n",
      "Rowse                          UK    8    \n",
      "Rubicon                        UK    8    \n",
      "Right Guard                    UK    8    \n",
      "Euro Shopper                   UK    15   \n",
      "Princes Gate                   UK    13   \n",
      "Radnor                         UK    8    \n",
      "Ice Valley                     UK    20   \n",
      "Bio-D                          UK    13   \n",
      "best-one                       UK    12   \n",
      "Ecover                         UK    8    \n",
      "Caramulo                       UK    2    \n",
      "Luso                           UK    2    \n",
      "Alcafaz                        UK    4    \n",
      "Fontes de La                   UK    12   \n",
      "Montes Libombos                UK    63   \n",
      "Gorilla                        UK    8    \n",
      "Starbucks                      UK    8    \n",
      "Vim                            UK    11   \n",
      "Oros                           UK    29   \n",
      "Energade                       UK    14   \n",
      "Clere                          UK    9    \n",
      "Somol                          UK    142  \n",
      "Junglevites                    UK    12   \n",
      "Top Brown                      UK    35   \n",
      "Mt. Kenyan                     UK    80   \n",
      "Super                          UK    69   \n",
      "JAM                            UK    9    \n",
      "Fitch and Leedes GINGER ALE    UK    49   \n",
      "Cape Aqua                      UK    108  \n",
      "vitamic c                      UK    11   \n",
      "Bakers                         UK    24   \n",
      "Oohlala                        UK    12   \n",
      "Dr. Strong's                   UK    15   \n",
      "Flo                            UK    73   \n",
      "Kool                           UK    63   \n",
      "Tangy Drinks Limited           UK    14   \n",
      "H2Zero                         UK    3    \n",
      "Refreshhh                      UK    3    \n",
      "Aqua Smooth                    UK    32   \n",
      "Five Star                      UK    250  \n",
      "KOL                            UK    69   \n",
      "Jooz                           UK    9    \n",
      "Misty Cool                     UK    9    \n",
      "Royal Taste                    UK    18   \n",
      "Bamba                          UK    75   \n",
      "Salama Ice                     UK    678  \n",
      "Aquadrops                      UK    13   \n",
      "Nasida                         UK    15   \n",
      "VESTLINE                       UK    21   \n",
      "TOMATO SAUCE                   UK    79   \n",
      "Milk Com                       UK    11   \n",
      "Dabaga Vegetable & Fruits Canning UK    6    \n",
      "Uhuru Peak                     UK    152  \n",
      "smart gin                      UK    251  \n",
      "Mango Crush                    UK    60   \n",
      "POWER TANGAWIZI                UK    28   \n",
      "Furaha                         UK    91   \n",
      "SeQua                          UK    68   \n",
      "Precious                       UK    368  \n",
      "NINJA                          UK    18   \n",
      "Pangani                        UK    166  \n",
      "Limpo                          UK    18   \n",
      "Nutra Shine Professional       UK    7    \n",
      "SOY SAUCE                      UK    7    \n",
      "SkyDots                        UK    56   \n",
      "Biowash                        UK    11   \n",
      "industria Quimica              UK    17   \n",
      "Aqua Azul                      UK    227  \n",
      "Halo                           UK    9    \n",
      "Amalfi                         UK    9    \n",
      "Therapy Levels                 UK    8    \n",
      "Papilion                       UK    19   \n",
      "AquaVera                       UK    12   \n",
      "Sanex                          UK    10   \n",
      "Kikkoman                       UK    9    \n",
      "Gatorade                       UK    11   \n",
      "Colgate                        UK    8    \n",
      "Parachute                      UK    11   \n",
      "Diana Lotion                   UK    9    \n",
      "Boncabe Original               UK    9    \n",
      "Summer                         UK    11   \n",
      "Royal                          UK    8    \n",
      "Drostdy Hof                    UK    6    \n",
      "SSA Supplements                UK    1    \n",
      "Cool Salsa                     UK    8    \n",
      "Bunena                         UK    22   \n",
      "Super Pure                     UK    7    \n",
      "King Klear                     UK    1    \n",
      "valley                         UK    21   \n",
      "TOSS                           UK    2    \n",
      "ZAMZAM                         UK    24   \n",
      "Sparletta                      US    118  \n",
      "Aquafina                       US    80   \n",
      "Method                         US    13   \n",
      "Flash                          US    10   \n",
      "Fanta                          US    487  \n",
      "Pepsi                          US    11   \n",
      "7UP                            US    9    \n",
      "Sprite                         US    310  \n",
      "Bonaqua                        US    1395 \n",
      "Fairy                          US    9    \n",
      "Coca-Cola                      US    1084 \n",
      "Minute Maid                    US    58   \n",
      "Oasis (UK)                     US    4    \n",
      "Schweppes                      US    104  \n",
      "Keringet                       US    40   \n",
      "innocent                       US    22   \n",
      "Power Play                     US    385  \n",
      "Predator Energy                US    320  \n",
      "Banana Boat                    US    120  \n",
      "Dasani                         US    157  \n",
      "Valpre                         US    12   \n",
      "Kilimanjaro                    US    244  \n",
      "Krest                          US    48   \n",
      "Novida                         US    6    \n",
      "Stoney                         US    9    \n",
      "Cadbury                        US    16   \n",
      "Listerine                      US    11   \n",
      "Barbie                         US    2    \n",
      "Rwenzori                       US    8    \n",
      "Mirinda                        US    147  \n",
      "Aquasavana                     US    114  \n",
      "Aquaclear                      US    20   \n",
      "Mountain Dew                   US    40   \n",
      "Downy                          US    100  \n",
      "Aussie                         US    13   \n",
      "Cantu                          US    11   \n",
      "Glaçeau Smartwater             US    2    \n",
      "Woolworths                     ZA    12   \n",
      "Spar                           ZA    8    \n",
      "Cerebos                        ZA    64   \n",
      "Savanna                        ZA    275  \n",
      "Ceres                          ZA    18   \n",
      "Clover                         ZA    23   \n",
      "Satiskin                       ZA    18   \n",
      "Sunseed                        ZA    254  \n",
      "Boston                         ZA    5    \n",
      "Air Scents                     ZA    9    \n",
      "Jive                           ZA    3    \n",
      "Top Sauces                     ZA    2    \n",
      "Rhodes Quality                 ZA    12   \n",
      "Cape Herb & Spice              ZA    2    \n",
      "Lowveld Favourites             ZA    23   \n",
      "aQuellé                        ZA    164  \n",
      "Fusion                         ZA    25   \n",
      "Fitch and leedes               ZA    72   \n",
      "Oasis (ZA)                     ZA    72   \n",
      "B&R                            ZA    12   \n",
      "Thirsti                        ZA    9    \n",
      "SaveMor                        ZA    1    \n",
      "Kingsley                       ZA    1    \n",
      "ACACIA FOOD BEVERAGES LTD      ZM    16   \n",
      "Flamingo                       ZM    29   \n",
      "d'lite                         ZM    9    \n",
      "ZAMHA                          ZM    66   \n",
      "Ama Sipsip                     ZM    65   \n",
      "Acacia Food & Beverages Ltd    ZM    24   \n",
      "Super Shake                    ZM    66   \n",
      "Boom Sparkle Plus              ZM    9    \n",
      "Bigtree                        ZM    234  \n",
      "Boom Force                     ZM    9    \n",
      "Chibwantu                      ZM    136  \n",
      "Californian                    ZM    129  \n",
      "Aquavita                       ZM    60   \n",
      "ZamSip                         ZM    18   \n",
      "Bigtree Beverages LTD          ZM    27   \n",
      "Fruiticana                     ZM    54   \n",
      "Vatra                          ZM    304  \n",
      "Aloha                          ZM    9    \n",
      "Trade Kings                    ZM    65   \n",
      "Brothers                       ZM    8    \n",
      "Fairy Bottiling (Z)            ZM    173  \n",
      "Milk Maheu                     ZM    18   \n",
      "Revin Zambia Limited           ZM    94   \n",
      "Juicy Ginger                   ZM    9    \n",
      "gavi beverages                 ZM    236  \n",
      "Kambucha                       ZM    84   \n",
      "Californian Beverages Ltd      ZM    42   \n",
      "Zim-Kings Trading (pvt) Ltd    ZM    13   \n",
      "bigtree                        ZM    4    \n",
      "Carribea Boverages Limited     ZM    22   \n",
      "Zamgold                        ZW    136  \n",
      "389\n"
     ]
    }
   ],
   "source": [
    "# getting data from manthly bases and turnig overall yearlly. merging the repeated companies.\n",
    "\n",
    "yearly_data = {}\n",
    "for month in tuple_data:\n",
    "    for key,value in month.items():\n",
    "        if key in yearly_data:\n",
    "            yearly_data[key] = [value[0],yearly_data[key][1]+value[1]]\n",
    "        else:\n",
    "            yearly_data[key] = value\n",
    "\n",
    "# organizing rudimentary table for values. \n",
    "# using the same loop to divide the dictionary in to 3 different collumns aka their keys and values.\n",
    "brand = []\n",
    "country = []\n",
    "amount = []\n",
    "sorted_countries = dict(sorted(yearly_data.values(), key=lambda x:x[0]))\n",
    "for key,val in sorted_countries.items():\n",
    "    for k, v in yearly_data.items():\n",
    "        if v[0] == key:\n",
    "            print(format(k,'<30s'),format(v[0],'<5s'),format(v[1],'<5'))\n",
    "            brand.append(k)\n",
    "            country.append(v[0])\n",
    "            amount.append(v[1])"
   ]
  },
  {
   "cell_type": "markdown",
   "metadata": {},
   "source": [
    "## Part 4 - Descriptive Statistics\n",
    "\n",
    "### Analysis on Numeric Data\n",
    "\n",
    "#### Central Tendency\n",
    "\n"
   ]
  },
  {
   "cell_type": "code",
   "execution_count": 199,
   "metadata": {},
   "outputs": [
    {
     "data": {
      "text/plain": [
       "159.39331619537276"
      ]
     },
     "execution_count": 199,
     "metadata": {},
     "output_type": "execute_result"
    }
   ],
   "source": [
    "# TODO: copy and paste your results here\n",
    "mean = np.mean(amount)\n",
    "mean"
   ]
  },
  {
   "cell_type": "markdown",
   "metadata": {},
   "source": [
    "#### Dispersion"
   ]
  },
  {
   "cell_type": "code",
   "execution_count": 202,
   "metadata": {},
   "outputs": [
    {
     "data": {
      "text/plain": [
       "726.428430284434"
      ]
     },
     "execution_count": 202,
     "metadata": {},
     "output_type": "execute_result"
    }
   ],
   "source": [
    "deviation = np.std(amount)\n",
    "deviation"
   ]
  },
  {
   "cell_type": "markdown",
   "metadata": {},
   "source": [
    "#### Outliers\n"
   ]
  },
  {
   "cell_type": "code",
   "execution_count": 214,
   "metadata": {},
   "outputs": [
    {
     "name": "stdout",
     "output_type": "stream",
     "text": [
      "1 from Longrich\n",
      "10786 from Água de Namaacha\n"
     ]
    }
   ],
   "source": [
    "# TODO: copy and paste your results here\n",
    "minimo = min(amount)\n",
    "brand_min = [ brand[i] for i in range(len(amount)) if amount[i]== minimo]\n",
    "print(f'{minimo} from {brand_min[0]}')\n",
    "\n",
    "maximo = max(amount)\n",
    "brand_max = [ brand[i] for i in range(len(amount)) if amount[i] == maximo]\n",
    "print(f'{maximo} from {brand_max[0]}')"
   ]
  },
  {
   "cell_type": "markdown",
   "metadata": {},
   "source": [
    "#### Other\n"
   ]
  },
  {
   "cell_type": "code",
   "execution_count": 6,
   "metadata": {},
   "outputs": [],
   "source": [
    "# TODO: copy and paste your results here"
   ]
  },
  {
   "cell_type": "markdown",
   "metadata": {},
   "source": [
    "###  Analysis on Categorical Data"
   ]
  },
  {
   "cell_type": "markdown",
   "metadata": {},
   "source": [
    "#### Frequency"
   ]
  },
  {
   "cell_type": "code",
   "execution_count": 37,
   "metadata": {},
   "outputs": [
    {
     "data": {
      "text/plain": [
       "{'AE': 2,\n",
       " 'AR': 1,\n",
       " 'AT': 1,\n",
       " 'BE': 4,\n",
       " 'CA': 1,\n",
       " 'CI': 2,\n",
       " 'CN': 2,\n",
       " 'DE': 1,\n",
       " 'DK': 1,\n",
       " 'ES': 1,\n",
       " 'FR': 8,\n",
       " 'GB': 30,\n",
       " 'GH': 1,\n",
       " 'IN': 2,\n",
       " 'JP': 2,\n",
       " 'KE': 37,\n",
       " 'LT': 1,\n",
       " 'MT': 1,\n",
       " 'MW': 6,\n",
       " 'MY': 1,\n",
       " 'MZ': 25,\n",
       " 'NA': 1,\n",
       " 'NL': 5,\n",
       " 'PT': 6,\n",
       " 'SG': 2,\n",
       " 'TH': 1,\n",
       " 'TR': 3,\n",
       " 'TZ': 31,\n",
       " 'UA': 1,\n",
       " 'UK': 118,\n",
       " 'US': 37,\n",
       " 'ZA': 23,\n",
       " 'ZM': 30,\n",
       " 'ZW': 1}"
      ]
     },
     "execution_count": 37,
     "metadata": {},
     "output_type": "execute_result"
    }
   ],
   "source": [
    "# TODO: copy and paste your results here\n",
    "country_counts = {}\n",
    "for place in country:\n",
    "    if place in country_counts:\n",
    "        country_counts[place] += 1\n",
    "    else:\n",
    "        country_counts[place] = 1\n",
    "country_counts"
   ]
  },
  {
   "cell_type": "markdown",
   "metadata": {},
   "source": [
    "#### Unique Values"
   ]
  },
  {
   "cell_type": "code",
   "execution_count": 38,
   "metadata": {},
   "outputs": [
    {
     "data": {
      "text/plain": [
       "dict_keys(['AE', 'AR', 'AT', 'BE', 'CA', 'CI', 'CN', 'DE', 'DK', 'ES', 'FR', 'GB', 'GH', 'IN', 'JP', 'KE', 'LT', 'MT', 'MW', 'MY', 'MZ', 'NA', 'NL', 'PT', 'SG', 'TH', 'TR', 'TZ', 'UA', 'UK', 'US', 'ZA', 'ZM', 'ZW'])"
      ]
     },
     "execution_count": 38,
     "metadata": {},
     "output_type": "execute_result"
    }
   ],
   "source": [
    "# TODO: copy and paste your results here\n",
    "sorted_countries.keys()"
   ]
  },
  {
   "cell_type": "markdown",
   "metadata": {},
   "source": [
    "## Part 5 - Visualizations\n",
    "\n"
   ]
  },
  {
   "cell_type": "code",
   "execution_count": 85,
   "metadata": {},
   "outputs": [
    {
     "data": {
      "image/png": "[encoded data removed]",
      "text/plain": [
       "<Figure size 432x288 with 1 Axes>"
      ]
     },
     "metadata": {
      "needs_background": "light"
     },
     "output_type": "display_data"
    }
   ],
   "source": [
    "# TODO: add visualizations here\n",
    "\n",
    "names = [ k for k,v in country_counts.items() if v > 2]\n",
    "values = [ v for k,v in country_counts.items() if v > 2]\n",
    "\n",
    "plt.xlabel('Countries')\n",
    "plt.ylabel('Amount of Brands')\n",
    "plt.bar(names, values, )\n",
    "plt.show()"
   ]
  },
  {
   "cell_type": "markdown",
   "metadata": {},
   "source": [
    "TODO Describe the visualizations in the previous cell\n"
   ]
  },
  {
   "cell_type": "markdown",
   "metadata": {},
   "source": [
    "## Part 6 - Conclusion\n",
    "\n",
    "TODO: write your conclusion here (interpret results of calculations; does it help answer your original questions?)"
   ]
  },
  {
   "cell_type": "markdown",
   "metadata": {},
   "source": [
    "## Part 7 - Heights and Weights"
   ]
  },
  {
   "cell_type": "code",
   "execution_count": 53,
   "metadata": {},
   "outputs": [
    {
     "name": "stdout",
     "output_type": "stream",
     "text": [
      "31998\n"
     ]
    }
   ],
   "source": [
    "import csv \n",
    "import numpy as np\n",
    "import matplotlib.pyplot as plt\n",
    "import random\n",
    "with open(\"adult19.csv\",'r') as csv_data:\n",
    "    csv_reader = csv.reader(csv_data)\n",
    "    data = [file for file in csv_reader]\n",
    "\n",
    "print(len(data))\n",
    "# saving the indexes given that i know the name of the columns becasue i read the documentation. \n",
    "# reated a list so i can quickly parse the hearders to get the location of the height and weight\n",
    "indexes = [ i for i in range(len(data[0])) if data[0][i] in ['HEIGHTTC_A','WEIGHTLBTC_A']]"
   ]
  },
  {
   "cell_type": "code",
   "execution_count": 58,
   "metadata": {},
   "outputs": [
    {
     "data": {
      "text/plain": [
       "31997"
      ]
     },
     "execution_count": 58,
     "metadata": {},
     "output_type": "execute_result"
    }
   ],
   "source": [
    "# extracting the data and turning into integer and also in a numpy array\n",
    "weight = np.array([int(data[i][indexes[0]]) for i in range(len(data)) if i != 0 ])\n",
    "len(weight)"
   ]
  },
  {
   "cell_type": "code",
   "execution_count": 62,
   "metadata": {},
   "outputs": [],
   "source": [
    "# extracting the data and turning into integer and also in a numpy array\n",
    "# also adding the jitter as suggested by the professor. \n",
    "height = np.array([int(data[i][indexes[1]])for i in range(len(data)) if i != 0])\n",
    "jitter = 1.3\n",
    "heights = [h+random.uniform(-jitter,jitter) for h in height]\n"
   ]
  },
  {
   "cell_type": "code",
   "execution_count": 63,
   "metadata": {},
   "outputs": [
    {
     "data": {
      "text/plain": [
       "array([[1.        , 0.76046219],\n",
       "       [0.76046219, 1.        ]])"
      ]
     },
     "execution_count": 63,
     "metadata": {},
     "output_type": "execute_result"
    }
   ],
   "source": [
    "# correlaetion between weight and height\n",
    "correlation = np.corrcoef(weight,height)\n",
    "correlation"
   ]
  },
  {
   "cell_type": "code",
   "execution_count": 84,
   "metadata": {},
   "outputs": [
    {
     "data": {
      "text/plain": [
       "<matplotlib.collections.PathCollection at 0x7f9d616d0f70>"
      ]
     },
     "execution_count": 84,
     "metadata": {},
     "output_type": "execute_result"
    },
    {
     "data": {
      "image/png": "[encoded data removed]",
      "text/plain": [
       "<Figure size 432x288 with 1 Axes>"
      ]
     },
     "metadata": {
      "needs_background": "light"
     },
     "output_type": "display_data"
    }
   ],
   "source": [
    "# scatter plot.\n",
    "plt.xlabel('Height')\n",
    "plt.ylabel('weight')\n",
    "plt.scatter(height,weight,alpha = 0.02)"
   ]
  },
  {
   "cell_type": "code",
   "execution_count": null,
   "metadata": {},
   "outputs": [],
   "source": []
  }
 ],
 "metadata": {
  "kernelspec": {
   "display_name": "Python 3",
   "language": "python",
   "name": "python3"
  },
  "language_info": {
   "codemirror_mode": {
    "name": "ipython",
    "version": 3
   },
   "file_extension": ".py",
   "mimetype": "text/x-python",
   "name": "python",
   "nbconvert_exporter": "python",
   "pygments_lexer": "ipython3",
   "version": "3.8.5"
  }
 },
 "nbformat": 4,
 "nbformat_minor": 5
}
