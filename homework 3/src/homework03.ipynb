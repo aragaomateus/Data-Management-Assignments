{
 "cells": [
  {
   "cell_type": "markdown",
   "metadata": {},
   "source": [
    "##### Homework 03"
   ]
  },
  {
   "cell_type": "markdown",
   "metadata": {},
   "source": [
    "\n",
    "## Part 1 - Questions\n",
    "\n",
    "### Question 1: \n",
    "\n",
    "Which brands produce the biggest amount of plastic bottle waste?\n",
    "\n",
    "* Who (population):individual plastic bottles.\n",
    "* What (subject, discipline): Envoiromental Science \n",
    "* Where (location): Across the globe\n",
    "* When (snapshot, longitudinal): Yearly. \n",
    "* How much data do you need to do the analysis/work: Ideally data from every single country, speciallt coastal countries.\n",
    "\n",
    "### Question 2: \n",
    "\n",
    "Which countries are the biggest producers of plastic waste?\n",
    "\n",
    "* Who (population):individual plastic bottles.\n",
    "* What (subject, discipline): Envoiromental Science \n",
    "* Where (location): Across the globe\n",
    "* When (snapshot, longitudinal): Yearly. \n",
    "* How much data do you need to do the analysis/work: Ideally data from every single country, speciallt coastal countries.\n",
    "\n",
    "\n",
    "### Who Might Collect Relevant Data / What Articles or Publications Cite a Relevant Data Set?\n",
    "Data can be collect that voluteer of an NGO or also government officials.\n",
    "\n",
    "National Geographic.\n",
    "https://www.nationalgeographic.com/environment/article/plastic-pollution\n",
    "\n",
    "UN reports.\n",
    "https://news.un.org/en/story/2021/10/1103692"
   ]
  },
  {
   "cell_type": "markdown",
   "metadata": {},
   "source": [
    "## Part 2 - Selecting a Data Set, Adding Documentation\n",
    "\n",
    "\n",
    "\n",
    "1. Name / Title: Wastebase_scan-summary\n",
    "2. Link to Data: https://www.kaggle.com/wastebase/plastic-bottle-waste\n",
    "3. Source / Origin: \n",
    "\t* Author or Creator: Wastebase.org\n",
    "\t* Publication Date: Updated on 02/09/2022\n",
    "\t* Publisher: Wastebase.org\n",
    "\t* Version or Data Accessed: Version 13\n",
    "\t* Data was collected in the shores of GB: United Kingdom, MZ: Mozambique, TZ: Tanzania and ZM: Zambia\n",
    "4. License: Attribution-NonCommercial 4.0 International (CC BY-NC 4.0)\n",
    "5. Can You Use this Data Set for Your Intended Use Case? Yes, I fisrt choose the data set themI came up the questions, as the professor has suggested that it could be done. "
   ]
  },
  {
   "cell_type": "markdown",
   "metadata": {},
   "source": [
    "## Format\n",
    "\n"
   ]
  },
  {
   "cell_type": "markdown",
   "metadata": {},
   "source": [
    "\n",
    "### Overview\n",
    "\n",
    "* Format: A csv file\n",
    "* Size: 1.01MB\n",
    "* Number of Records: 2979\n",
    "\n"
   ]
  },
  {
   "cell_type": "markdown",
   "metadata": {},
   "source": [
    "### Sample of Data\n",
    "\n",
    "\n"
   ]
  },
  {
   "cell_type": "code",
   "execution_count": 2,
   "metadata": {},
   "outputs": [
    {
     "ename": "NameError",
     "evalue": "name 'os' is not defined",
     "output_type": "error",
     "traceback": [
      "\u001b[0;31m---------------------------------------------------------------------------\u001b[0m",
      "\u001b[0;31mNameError\u001b[0m                                 Traceback (most recent call last)",
      "\u001b[0;32m<ipython-input-2-b66f6fd0785d>\u001b[0m in \u001b[0;36m<module>\u001b[0;34m\u001b[0m\n\u001b[1;32m      5\u001b[0m \u001b[0;31m# with open('./data/raw/example-data.csv', 'r'):\u001b[0m\u001b[0;34m\u001b[0m\u001b[0;34m\u001b[0m\u001b[0;34m\u001b[0m\u001b[0m\n\u001b[1;32m      6\u001b[0m \u001b[0mtuple_data\u001b[0m \u001b[0;34m=\u001b[0m \u001b[0;34m(\u001b[0m\u001b[0;34m)\u001b[0m\u001b[0;34m\u001b[0m\u001b[0;34m\u001b[0m\u001b[0m\n\u001b[0;32m----> 7\u001b[0;31m \u001b[0;32mfor\u001b[0m \u001b[0msubdir\u001b[0m\u001b[0;34m,\u001b[0m \u001b[0mdirs\u001b[0m\u001b[0;34m,\u001b[0m \u001b[0mfiles\u001b[0m \u001b[0;32min\u001b[0m \u001b[0mos\u001b[0m\u001b[0;34m.\u001b[0m\u001b[0mwalk\u001b[0m\u001b[0;34m(\u001b[0m\u001b[0;34mr'/Users/aragaom/homework03-aragaomateus/data/raw'\u001b[0m\u001b[0;34m)\u001b[0m\u001b[0;34m:\u001b[0m\u001b[0;34m\u001b[0m\u001b[0;34m\u001b[0m\u001b[0m\n\u001b[0m\u001b[1;32m      8\u001b[0m     \u001b[0;32mfor\u001b[0m \u001b[0mfilename\u001b[0m \u001b[0;32min\u001b[0m \u001b[0mfiles\u001b[0m\u001b[0;34m:\u001b[0m\u001b[0;34m\u001b[0m\u001b[0;34m\u001b[0m\u001b[0m\n\u001b[1;32m      9\u001b[0m         \u001b[0mfilepath\u001b[0m \u001b[0;34m=\u001b[0m \u001b[0msubdir\u001b[0m \u001b[0;34m+\u001b[0m \u001b[0mos\u001b[0m\u001b[0;34m.\u001b[0m\u001b[0msep\u001b[0m \u001b[0;34m+\u001b[0m \u001b[0mfilename\u001b[0m\u001b[0;34m\u001b[0m\u001b[0;34m\u001b[0m\u001b[0m\n",
      "\u001b[0;31mNameError\u001b[0m: name 'os' is not defined"
     ]
    }
   ],
   "source": [
    "# TODO show a few lines of data from the actual file\n",
    "\n",
    "# Use \"regular\" Python to do this in this code block\n",
    "# Assume that jupyter-lab was started in your root directory\n",
    "# with open('./data/raw/example-data.csv', 'r'): \n",
    "tuple_data = ()\n",
    "for subdir, dirs, files in os.walk(r'/Users/aragaom/homework03-aragaomateus/data/raw'):\n",
    "    for filename in files:\n",
    "        filepath = subdir + os.sep + filename\n",
    "        if filepath.endswith(\".csv\"):\n",
    "            with open(filepath,'r') as csv_data:\n",
    "                csv_reader = csv.reader(csv_data)\n",
    "                data = [file for file in csv_reader]\n",
    "for i in range(len(data)):\n",
    "    if i < 5:\n",
    "        for word in data[i]:\n",
    "            print(word,end='  ')\n",
    "        print('\\n')\n",
    "    else:\n",
    "        break"
   ]
  },
  {
   "cell_type": "markdown",
   "metadata": {},
   "source": [
    "\n",
    "### Fields or Column Headers\n",
    "\n",
    "* Field/Column 1: product_barcode datatype(int)\n",
    "* Field/Column 2: product_label datatype(str)\n",
    "* Field/Column 3: product_size datatype(str)\n",
    "* Field/Column 4: brand_name datatype(str)\n",
    "* Field/Column 5: manufacturer_country datatype(str)\n",
    "* Field/Column 6: manufacturer_name datatype(str)\n",
    "\n",
    "* Field/Column 7: scan_country datatype(str)\n",
    "* Field/Column 8: data_url datatype(str)\n",
    "* Field/Column 9: bottle_weight datatype(float)\n",
    "* Field/Column 10: bottle_count datatype(str)"
   ]
  },
  {
   "cell_type": "markdown",
   "metadata": {},
   "source": [
    "## Part 3 - Extract / Transform\n",
    "\n",
    "Since my data set only contains 10 columns, I manually examined the columns and choose the ones that would better fit my analysis.\n",
    "I decide to use the columns refering to the brand name, the manufacture country and the bottle count per brand. I did not use to convert datatypes and I didn't need to treat the data itself, I believe that the data was well document with some kind of device.\n",
    "The columns I used didn't need any sort of normalizing, eventhought the dataset does contains column with Nan as values. \n"
   ]
  },
  {
   "cell_type": "code",
   "execution_count": 3,
   "metadata": {},
   "outputs": [
    {
     "name": "stdout",
     "output_type": "stream",
     "text": [
      "2979\n"
     ]
    }
   ],
   "source": [
    "# TODO write code here!\n",
    "import csv \n",
    "import numpy as np\n",
    "import matplotlib.pyplot as plt\n",
    "import random\n",
    "import os\n",
    "# indexes 3 == brand_name, 4 == manufacture_country origin country of the manfacturer, not nescessarily here it was bottled., 9 == bottle_count\n",
    "tuple_data = ()\n",
    "for subdir, dirs, files in os.walk(r'/Users/aragaom/homework03-aragaomateus/data/raw'):\n",
    "    for filename in files:\n",
    "        filepath = subdir + os.sep + filename\n",
    "        if filepath.endswith(\".csv\"):\n",
    "            with open(filepath,'r') as csv_data:\n",
    "                csv_reader = csv.reader(csv_data)\n",
    "                data = [file for file in csv_reader]\n",
    "            brand_name = [data[i][3] for i in range(len(data)) if i != 0 ]\n",
    "            manufacture_country = [data[i][4] for i in range(len(data)) if i != 0 ]\n",
    "            bottle_count = [data[i][9] for i in range(len(data)) if i != 0 ]\n",
    "            month_data = {brand_name[i]:[manufacture_country[i],int(bottle_count[i])] for i in range(len(brand_name))}\n",
    "            tuple_data = list(tuple_data)\n",
    "            tuple_data.append(month_data)\n",
    "            tuple_data = tuple(tuple_data)\n",
    "\n",
    "count = 0\n",
    "for dic in tuple_data:\n",
    "    for line in dic:\n",
    "        count+=1\n",
    "print(count)\n"
   ]
  },
  {
   "cell_type": "markdown",
   "metadata": {},
   "source": [
    "## - Extract / Transform\n",
    "Now that I have the data organized in a tuple with the data from the 12 files, I want to merge all of it into one dictonary that will take all the values across one year. \n",
    "And then, I divide each element of the dictionary into 3 different list for easier manipulation."
   ]
  },
  {
   "cell_type": "code",
   "execution_count": 4,
   "metadata": {},
   "outputs": [
    {
     "name": "stdout",
     "output_type": "stream",
     "text": [
      "Oasis                          AE    119  \n",
      "Yasaki                         AE    216  \n",
      "Sierra de los Padres           AR    11   \n",
      "Red Bull                       AT    41   \n",
      "Safari                         BE    71   \n",
      "Castle Lite                    BE    10   \n",
      "Redd's                         BE    9    \n",
      "Valeur                         BE    149  \n",
      "big8                           CA    4    \n",
      "Perfect White                  CI    11   \n",
      "Dream Cosmetics                CI    129  \n",
      "Master Kong                    CN    11   \n",
      "Longrich                       CN    1    \n",
      "NIVEA                          DE    14   \n",
      "Quench                         DK    63   \n",
      "Mercadona                      ES    3    \n",
      "Vitale                         FR    140  \n",
      "Volvic                         FR    8    \n",
      "Activia                        FR    2    \n",
      "Danone                         FR    30   \n",
      "Kuche Kuche                    FR    68   \n",
      "Nutriday                       FR    24   \n",
      "Sobo                           FR    56   \n",
      "Lanjarón                       FR    5    \n",
      "Vimto                          GB    673  \n",
      "Faith in Nature                GB    7    \n",
      "Lipton                         GB    3    \n",
      "Cussons                        GB    17   \n",
      "Imperial Leather               GB    85   \n",
      "Tesco                          GB    12   \n",
      "Co-op                          GB    20   \n",
      "Emerge                         GB    8    \n",
      "Irn-Bru                        GB    20   \n",
      "Barr                           GB    6    \n",
      "Dove                           GB    8    \n",
      "Highland Spring                GB    8    \n",
      "Dettol                         GB    23   \n",
      "Buxton                         GB    6    \n",
      "MacB                           GB    11   \n",
      "Tesco Finest                   GB    8    \n",
      "Boost                          GB    5    \n",
      "Harrogate                      GB    144  \n",
      "Liz Earle                      GB    12   \n",
      "Sunlight                       GB    73   \n",
      "Omo                            GB    20   \n",
      "Handy Andy                     GB    13   \n",
      "Jik                            GB    12   \n",
      "Tal                            GB    12   \n",
      "Castrol                        GB    2    \n",
      "Robertsons                     GB    12   \n",
      "Harpic                         GB    2    \n",
      "Drench                         GB    2    \n",
      "Robinsons                      GB    2    \n",
      "Gruum                          GB    1    \n",
      "Kasapreko                      GH    10   \n",
      "Monte Gurue                    IN    169  \n",
      "Brook Fresh                    IN    205  \n",
      "Lucozade                       JP    22   \n",
      "Ribena                         JP    90   \n",
      "Rehaan ice                     KE    55   \n",
      "Karigen                        KE    36   \n",
      "shell                          KE    5    \n",
      "Afia                           KE    74   \n",
      "PEPTANG                        KE    60   \n",
      "Quencher                       KE    76   \n",
      "Ilara                          KE    21   \n",
      "KCC                            KE    185  \n",
      "Quest                          KE    60   \n",
      "Kabazi                         KE    8    \n",
      "Aquamist                       KE    35   \n",
      "Rosy                           KE    22   \n",
      "Tropical Heat                  KE    9    \n",
      "Toss                           KE    12   \n",
      "Tuzo                           KE    5    \n",
      "club                           KE    16   \n",
      "Brookside                      KE    39   \n",
      "Naivas                         KE    107  \n",
      "Elianto                        KE    40   \n",
      "BIO                            KE    80   \n",
      "Fresha                         KE    29   \n",
      "TREE TOP                       KE    39   \n",
      "Safi                           KE    39   \n",
      "yenbu                          KE    48   \n",
      "Planet                         KE    100  \n",
      "Fields of Africa               KE    75   \n",
      "Zam-Zam                        KE    69   \n",
      "Safari King                    KE    82   \n",
      "Wetlands Springs               KE    57   \n",
      "Warda                          KE    25   \n",
      "Rayaan Ice                     KE    60   \n",
      "Bahati Dairies                 KE    7    \n",
      "Brava                          KE    88   \n",
      "Halal ice                      KE    21   \n",
      "GEISHA GERM GUARD              KE    60   \n",
      "Carrent                        KE    40   \n",
      "Fruitville                     KE    7    \n",
      "Aleo                           LT    14   \n",
      "Oryx Energies                  MT    120  \n",
      "Kick0                          MW    78   \n",
      "Nyika                          MW    128  \n",
      "Thumbsup                       MW    64   \n",
      "Cool Fizz                      MW    16   \n",
      "Cool Drop                      MW    74   \n",
      "Spa                            MW    45   \n",
      "Engen                          MY    15   \n",
      "Recheio                        MZ    145  \n",
      "Crystalina                     MZ    154  \n",
      "Matisana                       MZ    362  \n",
      "Água de Namaacha               MZ    10786\n",
      "Maeva                          MZ    532  \n",
      "Lepo                           MZ    20   \n",
      "Aquaplus                       MZ    1380 \n",
      "Água de Goba                   MZ    3    \n",
      "Montemor                       MZ    531  \n",
      "ManziValley                    MZ    132  \n",
      "Vumba                          MZ    4431 \n",
      "Fiesta                         MZ    76   \n",
      "Fonte Fresca                   MZ    1406 \n",
      "Confiança                      MZ    6    \n",
      "Fonte da Vida                  MZ    194  \n",
      "Fonte Pura                     MZ    740  \n",
      "Mazi                           MZ    46   \n",
      "Vengo                          MZ    305  \n",
      "Fizz                           MZ    1440 \n",
      "Frozy                          MZ    5438 \n",
      "Izy                            MZ    377  \n",
      "Agua da Montanha               MZ    27   \n",
      "AquaPlus                       MZ    4    \n",
      "Glaciar                        MZ    31   \n",
      "Nevada                         MZ    538  \n",
      "Windhoek                       NA    90   \n",
      "Desperados Original Tequila    NL    167  \n",
      "Flora                          NL    5    \n",
      "Blue Band                      NL    120  \n",
      "Heineken                       NL    83   \n",
      "Yazoo                          NL    2    \n",
      "Fula                           PT    53   \n",
      "Galp                           PT    10   \n",
      "Compal                         PT    12   \n",
      "Continente                     PT    12   \n",
      "Mistolin                       PT    17   \n",
      "ACTY                           PT    14   \n",
      "Excella                        SG    14   \n",
      "Óleo Dona                      SG    466  \n",
      "Mega We care                   TH    11   \n",
      "Voi                            TR    2    \n",
      "HOBBY                          TR    85   \n",
      "cotanak                        TR    11   \n",
      "Hill Water                     TZ    68   \n",
      "Uhai                           TZ    299  \n",
      "Mo                             TZ    4931 \n",
      "Afya                           TZ    41   \n",
      "Azam                           TZ    77   \n",
      "Malt drink                     TZ    66   \n",
      "Zan Aqua                       TZ    55   \n",
      "Simba Table Vinegar            TZ    12   \n",
      "Kisima                         TZ    8    \n",
      "Dew Drop                       TZ    108  \n",
      "Red Gold                       TZ    33   \n",
      "K-Vant                         TZ    89   \n",
      "U-Fresh                        TZ    26   \n",
      "Jembe                          TZ    105  \n",
      "Sayona                         TZ    25   \n",
      "Sayona Twist                   TZ    239  \n",
      "Super Burudani                 TZ    926  \n",
      "Sundrop                        TZ    95   \n",
      "Double Kick                    TZ    1136 \n",
      "Pera fresh produce of Tanzania TZ    11   \n",
      "Leader's Ananasi               TZ    2772 \n",
      "Mo Portello                    TZ    186  \n",
      "Masafi                         TZ    528  \n",
      "Maisha                         TZ    330  \n",
      "Drop of Zanzibar               TZ    73   \n",
      "Pawa Plus                      TZ    6    \n",
      "Asas Diaries                   TZ    11   \n",
      "Canadian Drinking Water        TZ    671  \n",
      "Anjari                         TZ    50   \n",
      "Diamond Rock                   TZ    8    \n",
      "Zenjy                          TZ    54   \n",
      "Bonlife                        UA    11   \n",
      "Sainsbury's                    UK    8    \n",
      "M&S Food                       UK    8    \n",
      "Solaray Dietary supplement     UK    11   \n",
      "Molton Brown                   UK    8    \n",
      "Kirkland Signature             UK    9    \n",
      "gold emblem                    UK    10   \n",
      "Big Bottle General Dealers     UK    42   \n",
      "drinking water                 UK    37   \n",
      "Aber Drips                     UK    68   \n",
      "Pure Water                     UK    11   \n",
      "Água da Bela Vista             UK    4    \n",
      "Appolo Wine Limited            UK    18   \n",
      "Mbaruk Springs                 UK    9    \n",
      "Oceanic                        UK    25   \n",
      "Brooks                         UK    50   \n",
      "Pure Life                      UK    18   \n",
      "Madini                         UK    19   \n",
      "Nutricom                       UK    107  \n",
      "Asda                           UK    8    \n",
      "Aldi                           UK    14   \n",
      "Evian                          UK    12   \n",
      "Cool Rivers                    UK    2    \n",
      "Naturis                        UK    8    \n",
      "E45                            UK    8    \n",
      "Dr. Pepper                     UK    14   \n",
      "Barrs                          UK    8    \n",
      "Glenfiddich                    UK    24   \n",
      "Rowse                          UK    8    \n",
      "Rubicon                        UK    8    \n",
      "Right Guard                    UK    8    \n",
      "Euro Shopper                   UK    15   \n",
      "Princes Gate                   UK    13   \n",
      "Radnor                         UK    8    \n",
      "Ice Valley                     UK    20   \n",
      "Bio-D                          UK    13   \n",
      "best-one                       UK    12   \n",
      "Ecover                         UK    8    \n",
      "Caramulo                       UK    2    \n",
      "Luso                           UK    2    \n",
      "Alcafaz                        UK    4    \n",
      "Fontes de La                   UK    12   \n",
      "Montes Libombos                UK    63   \n",
      "Gorilla                        UK    8    \n",
      "Starbucks                      UK    8    \n",
      "Vim                            UK    11   \n",
      "Oros                           UK    29   \n",
      "Energade                       UK    14   \n",
      "Clere                          UK    9    \n",
      "Somol                          UK    142  \n",
      "Junglevites                    UK    12   \n",
      "Top Brown                      UK    35   \n",
      "Mt. Kenyan                     UK    80   \n",
      "Super                          UK    69   \n",
      "JAM                            UK    9    \n",
      "Fitch and Leedes GINGER ALE    UK    49   \n",
      "Cape Aqua                      UK    108  \n",
      "vitamic c                      UK    11   \n",
      "Bakers                         UK    24   \n",
      "Oohlala                        UK    12   \n",
      "Dr. Strong's                   UK    15   \n",
      "Flo                            UK    73   \n",
      "Kool                           UK    63   \n",
      "Tangy Drinks Limited           UK    14   \n",
      "H2Zero                         UK    3    \n",
      "Refreshhh                      UK    3    \n",
      "Aqua Smooth                    UK    32   \n",
      "Five Star                      UK    250  \n",
      "KOL                            UK    69   \n",
      "Jooz                           UK    9    \n",
      "Misty Cool                     UK    9    \n",
      "Royal Taste                    UK    18   \n",
      "Bamba                          UK    75   \n",
      "Salama Ice                     UK    678  \n",
      "Aquadrops                      UK    13   \n",
      "Nasida                         UK    15   \n",
      "VESTLINE                       UK    21   \n",
      "TOMATO SAUCE                   UK    79   \n",
      "Milk Com                       UK    11   \n",
      "Dabaga Vegetable & Fruits Canning UK    6    \n",
      "Uhuru Peak                     UK    152  \n",
      "smart gin                      UK    251  \n",
      "Mango Crush                    UK    60   \n",
      "POWER TANGAWIZI                UK    28   \n",
      "Furaha                         UK    91   \n",
      "SeQua                          UK    68   \n",
      "Precious                       UK    368  \n",
      "NINJA                          UK    18   \n",
      "Pangani                        UK    166  \n",
      "Limpo                          UK    18   \n",
      "Nutra Shine Professional       UK    7    \n",
      "SOY SAUCE                      UK    7    \n",
      "SkyDots                        UK    56   \n",
      "Biowash                        UK    11   \n",
      "industria Quimica              UK    17   \n",
      "Aqua Azul                      UK    227  \n",
      "Halo                           UK    9    \n",
      "Amalfi                         UK    9    \n",
      "Therapy Levels                 UK    8    \n",
      "Papilion                       UK    19   \n",
      "AquaVera                       UK    12   \n",
      "Sanex                          UK    10   \n",
      "Kikkoman                       UK    9    \n",
      "Gatorade                       UK    11   \n",
      "Colgate                        UK    8    \n",
      "Parachute                      UK    11   \n",
      "Diana Lotion                   UK    9    \n",
      "Boncabe Original               UK    9    \n",
      "Summer                         UK    11   \n",
      "Royal                          UK    8    \n",
      "Drostdy Hof                    UK    6    \n",
      "SSA Supplements                UK    1    \n",
      "Cool Salsa                     UK    8    \n",
      "Bunena                         UK    22   \n",
      "Super Pure                     UK    7    \n",
      "King Klear                     UK    1    \n",
      "valley                         UK    21   \n",
      "TOSS                           UK    2    \n",
      "ZAMZAM                         UK    24   \n",
      "Sparletta                      US    118  \n",
      "Aquafina                       US    80   \n",
      "Method                         US    13   \n",
      "Flash                          US    10   \n",
      "Fanta                          US    487  \n",
      "Pepsi                          US    11   \n",
      "7UP                            US    9    \n",
      "Sprite                         US    310  \n",
      "Bonaqua                        US    1395 \n",
      "Fairy                          US    9    \n",
      "Coca-Cola                      US    1084 \n",
      "Minute Maid                    US    58   \n",
      "Oasis (UK)                     US    4    \n",
      "Schweppes                      US    104  \n",
      "Keringet                       US    40   \n",
      "innocent                       US    22   \n",
      "Power Play                     US    385  \n",
      "Predator Energy                US    320  \n",
      "Banana Boat                    US    120  \n",
      "Dasani                         US    157  \n",
      "Valpre                         US    12   \n",
      "Kilimanjaro                    US    244  \n",
      "Krest                          US    48   \n",
      "Novida                         US    6    \n",
      "Stoney                         US    9    \n",
      "Cadbury                        US    16   \n",
      "Listerine                      US    11   \n",
      "Barbie                         US    2    \n",
      "Rwenzori                       US    8    \n",
      "Mirinda                        US    147  \n",
      "Aquasavana                     US    114  \n",
      "Aquaclear                      US    20   \n",
      "Mountain Dew                   US    40   \n",
      "Downy                          US    100  \n",
      "Aussie                         US    13   \n",
      "Cantu                          US    11   \n",
      "Glaçeau Smartwater             US    2    \n",
      "Woolworths                     ZA    12   \n",
      "Spar                           ZA    8    \n",
      "Cerebos                        ZA    64   \n",
      "Savanna                        ZA    275  \n",
      "Ceres                          ZA    18   \n",
      "Clover                         ZA    23   \n",
      "Satiskin                       ZA    18   \n",
      "Sunseed                        ZA    254  \n",
      "Boston                         ZA    5    \n",
      "Air Scents                     ZA    9    \n",
      "Jive                           ZA    3    \n",
      "Top Sauces                     ZA    2    \n",
      "Rhodes Quality                 ZA    12   \n",
      "Cape Herb & Spice              ZA    2    \n",
      "Lowveld Favourites             ZA    23   \n",
      "aQuellé                        ZA    164  \n",
      "Fusion                         ZA    25   \n",
      "Fitch and leedes               ZA    72   \n",
      "Oasis (ZA)                     ZA    72   \n",
      "B&R                            ZA    12   \n",
      "Thirsti                        ZA    9    \n",
      "SaveMor                        ZA    1    \n",
      "Kingsley                       ZA    1    \n",
      "ACACIA FOOD BEVERAGES LTD      ZM    16   \n",
      "Flamingo                       ZM    29   \n",
      "d'lite                         ZM    9    \n",
      "ZAMHA                          ZM    66   \n",
      "Ama Sipsip                     ZM    65   \n",
      "Acacia Food & Beverages Ltd    ZM    24   \n",
      "Super Shake                    ZM    66   \n",
      "Boom Sparkle Plus              ZM    9    \n",
      "Bigtree                        ZM    234  \n",
      "Boom Force                     ZM    9    \n",
      "Chibwantu                      ZM    136  \n",
      "Californian                    ZM    129  \n",
      "Aquavita                       ZM    60   \n",
      "ZamSip                         ZM    18   \n",
      "Bigtree Beverages LTD          ZM    27   \n",
      "Fruiticana                     ZM    54   \n",
      "Vatra                          ZM    304  \n",
      "Aloha                          ZM    9    \n",
      "Trade Kings                    ZM    65   \n",
      "Brothers                       ZM    8    \n",
      "Fairy Bottiling (Z)            ZM    173  \n",
      "Milk Maheu                     ZM    18   \n",
      "Revin Zambia Limited           ZM    94   \n",
      "Juicy Ginger                   ZM    9    \n",
      "gavi beverages                 ZM    236  \n",
      "Kambucha                       ZM    84   \n",
      "Californian Beverages Ltd      ZM    42   \n",
      "Zim-Kings Trading (pvt) Ltd    ZM    13   \n",
      "bigtree                        ZM    4    \n",
      "Carribea Boverages Limited     ZM    22   \n",
      "Zamgold                        ZW    136  \n"
     ]
    }
   ],
   "source": [
    "# getting data from manthly bases and turnig overall yearlly. merging the repeated companies.\n",
    "\n",
    "yearly_data = {}\n",
    "for month in tuple_data:\n",
    "    for key,value in month.items():\n",
    "        if key in yearly_data:\n",
    "            yearly_data[key] = [value[0],yearly_data[key][1]+value[1]]\n",
    "        else:\n",
    "            yearly_data[key] = value\n",
    "\n",
    "# organizing rudimentary table for values. \n",
    "# using the same loop to divide the dictionary in to 3 different collumns aka their keys and values.\n",
    "brand = []\n",
    "country = []\n",
    "amount = []\n",
    "sorted_countries = dict(sorted(yearly_data.values(), key=lambda x:x[0]))\n",
    "for key,val in sorted_countries.items():\n",
    "    for k, v in yearly_data.items():\n",
    "        if v[0] == key:\n",
    "            print(format(k,'<30s'),format(v[0],'<5s'),format(v[1],'<5'))\n",
    "            brand.append(k)\n",
    "            country.append(v[0])\n",
    "            amount.append(v[1])"
   ]
  },
  {
   "cell_type": "markdown",
   "metadata": {},
   "source": [
    "## Part 4 - Descriptive Statistics\n",
    "\n",
    "### Analysis on Numeric Data\n",
    "\n",
    "#### Central Tendency\n",
    "\n"
   ]
  },
  {
   "cell_type": "code",
   "execution_count": 5,
   "metadata": {},
   "outputs": [
    {
     "name": "stdout",
     "output_type": "stream",
     "text": [
      "62004\n"
     ]
    }
   ],
   "source": [
    "# TODO: copy and paste your results here\n",
    "mean = np.mean(amount)\n",
    "mean\n",
    "print(sum(amount))"
   ]
  },
  {
   "cell_type": "markdown",
   "metadata": {},
   "source": [
    "#### Dispersion"
   ]
  },
  {
   "cell_type": "code",
   "execution_count": 6,
   "metadata": {},
   "outputs": [
    {
     "data": {
      "text/plain": [
       "726.428430284434"
      ]
     },
     "execution_count": 6,
     "metadata": {},
     "output_type": "execute_result"
    }
   ],
   "source": [
    "deviation = np.std(amount)\n",
    "deviation"
   ]
  },
  {
   "cell_type": "markdown",
   "metadata": {},
   "source": [
    "#### Outliers\n"
   ]
  },
  {
   "cell_type": "code",
   "execution_count": 11,
   "metadata": {},
   "outputs": [
    {
     "name": "stdout",
     "output_type": "stream",
     "text": [
      "1 from Longrich\n",
      "10786 from Água de Namaacha\n"
     ]
    }
   ],
   "source": [
    "# TODO: copy and paste your results here\n",
    "minimo = min(amount)\n",
    "brand_min = [ brand[i] for i in range(len(amount)) if amount[i]== minimo]\n",
    "print(f'{minimo} from {brand_min[0]}')\n",
    "\n",
    "maximo = max(amount)\n",
    "brand_max = [ brand[i] for i in range(len(amount)) if amount[i] == maximo]\n",
    "print(f'{maximo} from {brand_max[0]}')"
   ]
  },
  {
   "cell_type": "markdown",
   "metadata": {},
   "source": [
    "#### Other\n"
   ]
  },
  {
   "cell_type": "code",
   "execution_count": 12,
   "metadata": {},
   "outputs": [
    {
     "data": {
      "text/plain": [
       "21.0"
      ]
     },
     "execution_count": 12,
     "metadata": {},
     "output_type": "execute_result"
    }
   ],
   "source": [
    "# TODO: copy and paste your results here\n",
    "median = np.median(amount)\n",
    "median"
   ]
  },
  {
   "cell_type": "markdown",
   "metadata": {},
   "source": [
    "###  Analysis on Categorical Data"
   ]
  },
  {
   "cell_type": "markdown",
   "metadata": {},
   "source": [
    "#### Frequency"
   ]
  },
  {
   "cell_type": "code",
   "execution_count": 13,
   "metadata": {},
   "outputs": [
    {
     "data": {
      "text/plain": [
       "{'AE': 2,\n",
       " 'AR': 1,\n",
       " 'AT': 1,\n",
       " 'BE': 4,\n",
       " 'CA': 1,\n",
       " 'CI': 2,\n",
       " 'CN': 2,\n",
       " 'DE': 1,\n",
       " 'DK': 1,\n",
       " 'ES': 1,\n",
       " 'FR': 8,\n",
       " 'GB': 30,\n",
       " 'GH': 1,\n",
       " 'IN': 2,\n",
       " 'JP': 2,\n",
       " 'KE': 37,\n",
       " 'LT': 1,\n",
       " 'MT': 1,\n",
       " 'MW': 6,\n",
       " 'MY': 1,\n",
       " 'MZ': 25,\n",
       " 'NA': 1,\n",
       " 'NL': 5,\n",
       " 'PT': 6,\n",
       " 'SG': 2,\n",
       " 'TH': 1,\n",
       " 'TR': 3,\n",
       " 'TZ': 31,\n",
       " 'UA': 1,\n",
       " 'UK': 118,\n",
       " 'US': 37,\n",
       " 'ZA': 23,\n",
       " 'ZM': 30,\n",
       " 'ZW': 1}"
      ]
     },
     "execution_count": 13,
     "metadata": {},
     "output_type": "execute_result"
    }
   ],
   "source": [
    "# TODO: copy and paste your results here\n",
    "country_counts = {}\n",
    "for place in country:\n",
    "    if place in country_counts:\n",
    "        country_counts[place] += 1\n",
    "    else:\n",
    "        country_counts[place] = 1\n",
    "country_counts"
   ]
  },
  {
   "cell_type": "markdown",
   "metadata": {},
   "source": [
    "#### Unique Values"
   ]
  },
  {
   "cell_type": "code",
   "execution_count": 14,
   "metadata": {},
   "outputs": [
    {
     "data": {
      "text/plain": [
       "dict_keys(['AE', 'AR', 'AT', 'BE', 'CA', 'CI', 'CN', 'DE', 'DK', 'ES', 'FR', 'GB', 'GH', 'IN', 'JP', 'KE', 'LT', 'MT', 'MW', 'MY', 'MZ', 'NA', 'NL', 'PT', 'SG', 'TH', 'TR', 'TZ', 'UA', 'UK', 'US', 'ZA', 'ZM', 'ZW'])"
      ]
     },
     "execution_count": 14,
     "metadata": {},
     "output_type": "execute_result"
    }
   ],
   "source": [
    "# TODO: copy and paste your results here\n",
    "sorted_countries.keys()"
   ]
  },
  {
   "cell_type": "markdown",
   "metadata": {},
   "source": [
    "## Part 5 - Visualizations\n",
    "\n"
   ]
  },
  {
   "cell_type": "code",
   "execution_count": 15,
   "metadata": {},
   "outputs": [
    {
     "data": {
      "image/png": "[encoded data removed]",
      "text/plain": [
       "<Figure size 432x288 with 1 Axes>"
      ]
     },
     "metadata": {
      "needs_background": "light"
     },
     "output_type": "display_data"
    }
   ],
   "source": [
    "# TODO: add visualizations here\n",
    "\n",
    "names = [ k for k,v in country_counts.items() if v > 2]\n",
    "values = [ v for k,v in country_counts.items() if v > 2]\n",
    "\n",
    "plt.xlabel('Countries')\n",
    "plt.ylabel('Amount of Brands')\n",
    "plt.bar(names, values, )\n",
    "plt.show()"
   ]
  },
  {
   "cell_type": "code",
   "execution_count": 16,
   "metadata": {},
   "outputs": [
    {
     "data": {
      "image/png": "[encoded data removed]",
      "text/plain": [
       "<Figure size 432x288 with 1 Axes>"
      ]
     },
     "metadata": {
      "needs_background": "light"
     },
     "output_type": "display_data"
    }
   ],
   "source": [
    "names = [ k for k,v in zip(brand,amount) if v >400]\n",
    "values = [ v for k,v in zip(brand,amount) if v >400]\n",
    "\n",
    "plt.xlabel('Countries')\n",
    "plt.xticks(rotation=90)\n",
    "plt.ylabel('Amount of Brands')\n",
    "plt.bar(names, values, )\n",
    "plt.show()"
   ]
  },
  {
   "cell_type": "markdown",
   "metadata": {},
   "source": [
    "#### First graph.\n",
    "In the first graph I am plotting the amount of brands related to a certain country. For this graph I only grouped the brands manufactured in the same country, this is not related to where the bottles came from upon entereing the ocean.\n",
    "#### Second graph.\n",
    "In the second graph I am ploting the amount of individual bottles and their respective brands. Here, the different brands of the same manfacturer are considered. \n",
    "An observation in between graphs is that one would think that companies from the UK would be responsible for the highsest number of plastic bottles, when in fact the brand responsible the biggest amount of pollution was from Mozambique. "
   ]
  },
  {
   "cell_type": "markdown",
   "metadata": {},
   "source": [
    "## Part 6 - Conclusion\n",
    "At the start, I wanted something related to the impact of clothing on the environment, but I had a hard finding dataset that would be related to retail waste. Then I turned myself to the topic of waste itself and then I found this dataset. \n",
    "My focus was on figuring out which companies pollute the most. And which countries were affected the most. I soon realized that these questions couldn't be fully answered with this data set. I believe that I did not have full knowledge about the topic, but while I was exploring the data and reasoning about the data, I realized some things that I should be looking for on my next analysis of similar data.\n",
    "\n",
    "My conclusion from his data set is that the largest amount of plastic bottles collected came from the neighboring countries, especially Mozambique. But still, it was very interesting to see that bottles from far way countries such as Argentina and japan ended up in Africa and on the shores of the United Kingdom. \n",
    "\n",
    "It was not surprising to see that the US is the country outside of Africa from which most branded bottles came, given that us has such a large consumer market. "
   ]
  },
  {
   "cell_type": "markdown",
   "metadata": {},
   "source": [
    "## Part 7 - Heights and Weights"
   ]
  },
  {
   "cell_type": "code",
   "execution_count": 17,
   "metadata": {},
   "outputs": [
    {
     "name": "stdout",
     "output_type": "stream",
     "text": [
      "31998\n"
     ]
    }
   ],
   "source": [
    "import csv \n",
    "import numpy as np\n",
    "import matplotlib.pyplot as plt\n",
    "import random\n",
    "with open(\"adult19.csv\",'r') as csv_data:\n",
    "    csv_reader = csv.reader(csv_data)\n",
    "    data = [file for file in csv_reader]\n",
    "\n",
    "print(len(data))\n",
    "# saving the indexes given that i know the name of the columns becasue i read the documentation. \n",
    "# reated a list so i can quickly parse the hearders to get the location of the height and weight\n",
    "indexes = [ i for i in range(len(data[0])) if data[0][i] in ['HEIGHTTC_A','WEIGHTLBTC_A']]"
   ]
  },
  {
   "cell_type": "code",
   "execution_count": 18,
   "metadata": {},
   "outputs": [
    {
     "data": {
      "text/plain": [
       "31997"
      ]
     },
     "execution_count": 18,
     "metadata": {},
     "output_type": "execute_result"
    }
   ],
   "source": [
    "# extracting the data and turning into integer and also in a numpy array\n",
    "weight = np.array([int(data[i][indexes[0]]) for i in range(len(data)) if i != 0 ])\n",
    "len(weight)"
   ]
  },
  {
   "cell_type": "code",
   "execution_count": 19,
   "metadata": {},
   "outputs": [],
   "source": [
    "# extracting the data and turning into integer and also in a numpy array\n",
    "# also adding the jitter as suggested by the professor. \n",
    "height = np.array([int(data[i][indexes[1]])for i in range(len(data)) if i != 0])\n",
    "jitter = 1.3\n",
    "heights = [h+random.uniform(-jitter,jitter) for h in height]\n"
   ]
  },
  {
   "cell_type": "code",
   "execution_count": 20,
   "metadata": {},
   "outputs": [
    {
     "data": {
      "text/plain": [
       "array([[1.        , 0.76046219],\n",
       "       [0.76046219, 1.        ]])"
      ]
     },
     "execution_count": 20,
     "metadata": {},
     "output_type": "execute_result"
    }
   ],
   "source": [
    "# correlaetion between weight and height\n",
    "correlation = np.corrcoef(weight,height)\n",
    "correlation"
   ]
  },
  {
   "cell_type": "code",
   "execution_count": 21,
   "metadata": {},
   "outputs": [
    {
     "data": {
      "text/plain": [
       "<matplotlib.collections.PathCollection at 0x7fdf8a96f3d0>"
      ]
     },
     "execution_count": 21,
     "metadata": {},
     "output_type": "execute_result"
    },
    {
     "data": {
      "image/png": "[encoded data removed]",
      "text/plain": [
       "<Figure size 432x288 with 1 Axes>"
      ]
     },
     "metadata": {
      "needs_background": "light"
     },
     "output_type": "display_data"
    }
   ],
   "source": [
    "# scatter plot.\n",
    "plt.xlabel('Height')\n",
    "plt.ylabel('weight')\n",
    "plt.scatter(height,weight,alpha = 0.02)"
   ]
  },
  {
   "cell_type": "code",
   "execution_count": null,
   "metadata": {},
   "outputs": [],
   "source": []
  },
  {
   "cell_type": "code",
   "execution_count": null,
   "metadata": {},
   "outputs": [],
   "source": []
  }
 ],
 "metadata": {
  "kernelspec": {
   "display_name": "Python 3",
   "language": "python",
   "name": "python3"
  },
  "language_info": {
   "codemirror_mode": {
    "name": "ipython",
    "version": 3
   },
   "file_extension": ".py",
   "mimetype": "text/x-python",
   "name": "python",
   "nbconvert_exporter": "python",
   "pygments_lexer": "ipython3",
   "version": "3.8.5"
  }
 },
 "nbformat": 4,
 "nbformat_minor": 5
}
