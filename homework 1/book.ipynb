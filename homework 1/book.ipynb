{
 "cells": [
  {
   "cell_type": "markdown",
   "metadata": {},
   "source": [
    "**#Robinson Crusue By Daniel Defoe**\n",
    "\n",
    "URL:https://www.gutenberg.org/files/521/521-0.txt\n",
    "\n",
    "Language: English\n",
    "\n",
    "Character set encoding: UTF-8\n",
    "\n",
    "Produced by: David Price\n",
    "\n",
    "Question(s): Friday and Poll are the main Crusue's companions in the island. I wonder how often their names were brought up. \n",
    "\n"
   ]
  },
  {
   "cell_type": "markdown",
   "metadata": {},
   "source": [
    "#### First we download the data to a variable. Instead of using readlines, I prefer using read and making sure to split the the text in the lines breaks. This way I avoid having \\n within my text, the line break symbols are more annoying to remove. "
   ]
  },
  {
   "cell_type": "code",
   "execution_count": 84,
   "metadata": {},
   "outputs": [],
   "source": [
    "# Function for extracting frequency from the dictionaries.\n",
    "def frequency_parser(keys):\n",
    "    for k, v in newdata.items():\n",
    "        if k in keys:\n",
    "            print(k, v)\n",
    "            \n",
    "with open('data/Robinson_Crusue.txt') as file: \n",
    "    data = file.read().split('\\n')\n",
    "\n",
    "\n",
    "for line in data:\n",
    "    if line =='':\n",
    "        data.remove(line)\n",
    "\n",
    "data = [line.split(' ') for line in data]\n",
    "    "
   ]
  },
  {
   "cell_type": "markdown",
   "metadata": {},
   "source": [
    "#### Further, I apply some more treatment to my word list, remove all kinds of signs that can potentially get in the way of my frequency grouping. I am also using the same loop to register the data on my frequency dictionary. "
   ]
  },
  {
   "cell_type": "code",
   "execution_count": 85,
   "metadata": {},
   "outputs": [],
   "source": [
    "import operator\n",
    "frequency_data = {}\n",
    "\n",
    "for line in data:\n",
    "    for word in line:\n",
    "        if word == '':\n",
    "            line.remove(word)\n",
    "            break\n",
    "        newword = word.strip(',;-.!?')\n",
    "        if newword in frequency_data:\n",
    "            frequency_data[newword] +=1\n",
    "        else:\n",
    "            frequency_data[newword] = 1"
   ]
  },
  {
   "cell_type": "markdown",
   "metadata": {},
   "source": [
    "#### Here I am sorting the data in descending order, so I can visualize the most frequent words. It's not a suprise that the most common ones are connectors, pronouns, articles, and common verbs."
   ]
  },
  {
   "cell_type": "code",
   "execution_count": 86,
   "metadata": {},
   "outputs": [],
   "source": [
    "newdata = dict( sorted(frequency_data.items(), key=operator.itemgetter(1),reverse=True))"
   ]
  },
  {
   "cell_type": "code",
   "execution_count": null,
   "metadata": {},
   "outputs": [],
   "source": [
    "names = ['Friday','Poll']\n",
    "frequency_parser(names)"
   ]
  },
  {
   "cell_type": "markdown",
   "metadata": {},
   "source": [
    "##### Clearly robinson Crusue intereacts more with Friday than with his parot"
   ]
  },
  {
   "cell_type": "markdown",
   "metadata": {},
   "source": [
    "#The Prince by Nicolo Machiavelli\n",
    "\n",
    "URL:https://www.gutenberg.org/files/1232/1232-0.txt\n",
    "\n",
    "Translator: W. K. Marriott\n",
    "\n",
    "Release Date: March, 1998 [eBook #1232]\n",
    "[Most recently updated: January 2, 2021]\n",
    "\n",
    "Language: English\n",
    "\n",
    "Character set encoding: UTF-8\n",
    "\n",
    "Produced by: John Bickers, David Widger and Others\n",
    "\n",
    "Question(s): Excluding connectors, pronouns, articles, and common verbs. Are the most frequent words in this book related to the topics that people associate the most with such as power and war? "
   ]
  },
  {
   "cell_type": "markdown",
   "metadata": {},
   "source": [
    "#### Again.First we download the data to a variable. Instead of using readlines, I prefer using read and making sure to split the the text in the lines breaks. This way I avoid having \\n within my text, the line break symbols are more annoying to remove.  "
   ]
  },
  {
   "cell_type": "code",
   "execution_count": 89,
   "metadata": {},
   "outputs": [],
   "source": [
    "with open('data/The_Prince.txt') as file: \n",
    "    data = file.read().split('\\n')\n",
    "\n",
    "\n",
    "for line in data:\n",
    "    if line =='':\n",
    "        data.remove(line)\n",
    "\n",
    "data = [line.split(' ') for line in data]\n",
    "    "
   ]
  },
  {
   "cell_type": "markdown",
   "metadata": {},
   "source": [
    "#### Further, I apply some more treatment to my word list, remove all kinds of signs that can potentially get in the way of my frequency grouping. I am also using the same loop to register the data on my frequency dictionary. "
   ]
  },
  {
   "cell_type": "code",
   "execution_count": 90,
   "metadata": {},
   "outputs": [],
   "source": [
    "import operator\n",
    "frequency_data = {}\n",
    "\n",
    "for line in data:\n",
    "    for word in line:\n",
    "        if word == '':\n",
    "            line.remove(word)\n",
    "            break\n",
    "        newword = word.strip(',;-.!?')\n",
    "        if newword in frequency_data:\n",
    "            frequency_data[newword] +=1\n",
    "        else:\n",
    "            frequency_data[newword] = 1"
   ]
  },
  {
   "cell_type": "markdown",
   "metadata": {},
   "source": [
    "#### Here I am sorting the data in descending order, so I can visualize the most frequent words. It's not a suprise that the most common ones are connectors, pronouns, articles, and common verbs. "
   ]
  },
  {
   "cell_type": "code",
   "execution_count": 91,
   "metadata": {
    "scrolled": false
   },
   "outputs": [],
   "source": [
    "newdata = dict( sorted(frequency_data.items(), key=operator.itemgetter(1),reverse=True))\n"
   ]
  },
  {
   "cell_type": "markdown",
   "metadata": {},
   "source": [
    "#### The book is often associated with power and war. I create a list of names to related to these terms and for my suprise I find that they dont occur that often."
   ]
  },
  {
   "cell_type": "code",
   "execution_count": 95,
   "metadata": {},
   "outputs": [
    {
     "name": "stdout",
     "output_type": "stream",
     "text": [
      "war 40\n",
      "power 39\n",
      "authority 22\n",
      "command 11\n",
      "dominion 6\n",
      "control 4\n",
      "sway 1\n"
     ]
    }
   ],
   "source": [
    "words = ['power','authority', 'command', 'control', 'dominion', 'jurisdiction','sway','war']\n",
    "\n",
    "frequency_parser(words)"
   ]
  },
  {
   "cell_type": "code",
   "execution_count": 93,
   "metadata": {},
   "outputs": [
    {
     "name": "stdout",
     "output_type": "stream",
     "text": [
      "prince 184\n",
      "principalities 17\n",
      "clever 2\n",
      "virtuous 1\n"
     ]
    }
   ],
   "source": [
    "virtuous_words = ['virtuoso','prince','clever','virtuous','principalities','principatlity']\n",
    "frequency_parser(virtuous_words)"
   ]
  },
  {
   "cell_type": "code",
   "execution_count": 99,
   "metadata": {},
   "outputs": [
    {
     "name": "stdout",
     "output_type": "stream",
     "text": [
      "Castruccio 134\n",
      "Alexander 37\n",
      "Pope 32\n",
      "Borgia 11\n",
      "Lorenzo 6\n",
      "Great 5\n"
     ]
    }
   ],
   "source": [
    "names = ['Castruccio','Lorenzo','Alexander','Castruccio''s','Lorenzo''s','Alexander''s',\"Great\",'Pope','Borgia','Cesar']\n",
    "frequency_parser(names)"
   ]
  },
  {
   "cell_type": "markdown",
   "metadata": {},
   "source": [
    "##### After running these 3 searches I am little surprised to learn that Machiavel doesn't mention Lorenzo Di Medici as much as I thought he would, since the book is dedicated to him. Instead he mention other historical figures such as the Pope of his time, some members of the Borgia family, Alexander (either the pope or the Great) and Castrucci(an italian nobleman)"
   ]
  },
  {
   "cell_type": "markdown",
   "metadata": {},
   "source": [
    "##### To answer the initial question, I realized that nouns related to war and power doesnt occur as often as I thought it would. And together with my search for the virtous prince related words and about personalities names, I realized that in the book Machiavelli focus more on describing of people in the past."
   ]
  },
  {
   "cell_type": "code",
   "execution_count": null,
   "metadata": {},
   "outputs": [],
   "source": []
  }
 ],
 "metadata": {
  "kernelspec": {
   "display_name": "Python 3",
   "language": "python",
   "name": "python3"
  },
  "language_info": {
   "codemirror_mode": {
    "name": "ipython",
    "version": 3
   },
   "file_extension": ".py",
   "mimetype": "text/x-python",
   "name": "python",
   "nbconvert_exporter": "python",
   "pygments_lexer": "ipython3",
   "version": "3.8.5"
  }
 },
 "nbformat": 4,
 "nbformat_minor": 4
}
